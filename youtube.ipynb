{
 "cells": [
  {
   "cell_type": "code",
   "execution_count": 1,
   "id": "e7ce38d4",
   "metadata": {},
   "outputs": [
    {
     "name": "stdout",
     "output_type": "stream",
     "text": [
      "Requirement already satisfied: pandas in c:\\users\\abc\\desktop\\youtube\\.venv\\lib\\site-packages (2.3.2)\n",
      "Requirement already satisfied: numpy>=1.26.0 in c:\\users\\abc\\desktop\\youtube\\.venv\\lib\\site-packages (from pandas) (2.3.2)\n",
      "Requirement already satisfied: python-dateutil>=2.8.2 in c:\\users\\abc\\desktop\\youtube\\.venv\\lib\\site-packages (from pandas) (2.9.0.post0)\n",
      "Requirement already satisfied: pytz>=2020.1 in c:\\users\\abc\\desktop\\youtube\\.venv\\lib\\site-packages (from pandas) (2025.2)\n",
      "Requirement already satisfied: tzdata>=2022.7 in c:\\users\\abc\\desktop\\youtube\\.venv\\lib\\site-packages (from pandas) (2025.2)\n",
      "Requirement already satisfied: six>=1.5 in c:\\users\\abc\\desktop\\youtube\\.venv\\lib\\site-packages (from python-dateutil>=2.8.2->pandas) (1.17.0)\n",
      "Note: you may need to restart the kernel to use updated packages.\n"
     ]
    }
   ],
   "source": [
    "pip install pandas"
   ]
  },
  {
   "cell_type": "code",
   "execution_count": 1,
   "id": "494e958d",
   "metadata": {},
   "outputs": [],
   "source": [
    "import pandas as pd "
   ]
  },
  {
   "cell_type": "code",
   "execution_count": 2,
   "id": "53792c04",
   "metadata": {},
   "outputs": [
    {
     "data": {
      "text/html": [
       "<div>\n",
       "<style scoped>\n",
       "    .dataframe tbody tr th:only-of-type {\n",
       "        vertical-align: middle;\n",
       "    }\n",
       "\n",
       "    .dataframe tbody tr th {\n",
       "        vertical-align: top;\n",
       "    }\n",
       "\n",
       "    .dataframe thead th {\n",
       "        text-align: right;\n",
       "    }\n",
       "</style>\n",
       "<table border=\"1\" class=\"dataframe\">\n",
       "  <thead>\n",
       "    <tr style=\"text-align: right;\">\n",
       "      <th></th>\n",
       "      <th>video_id</th>\n",
       "      <th>date</th>\n",
       "      <th>views</th>\n",
       "      <th>likes</th>\n",
       "      <th>comments</th>\n",
       "      <th>watch_time_minutes</th>\n",
       "      <th>video_length_minutes</th>\n",
       "      <th>subscribers</th>\n",
       "      <th>category</th>\n",
       "      <th>device</th>\n",
       "      <th>country</th>\n",
       "      <th>ad_revenue_usd</th>\n",
       "    </tr>\n",
       "  </thead>\n",
       "  <tbody>\n",
       "    <tr>\n",
       "      <th>0</th>\n",
       "      <td>vid_3092</td>\n",
       "      <td>2024-09-24 10:50:40.993199</td>\n",
       "      <td>9936</td>\n",
       "      <td>1221.0</td>\n",
       "      <td>320.0</td>\n",
       "      <td>26497.214184</td>\n",
       "      <td>2.862137</td>\n",
       "      <td>228086</td>\n",
       "      <td>Entertainment</td>\n",
       "      <td>TV</td>\n",
       "      <td>IN</td>\n",
       "      <td>203.178237</td>\n",
       "    </tr>\n",
       "    <tr>\n",
       "      <th>1</th>\n",
       "      <td>vid_3459</td>\n",
       "      <td>2024-09-22 10:50:40.993199</td>\n",
       "      <td>10017</td>\n",
       "      <td>642.0</td>\n",
       "      <td>346.0</td>\n",
       "      <td>15209.747445</td>\n",
       "      <td>23.738069</td>\n",
       "      <td>736015</td>\n",
       "      <td>Gaming</td>\n",
       "      <td>Tablet</td>\n",
       "      <td>CA</td>\n",
       "      <td>140.880508</td>\n",
       "    </tr>\n",
       "    <tr>\n",
       "      <th>2</th>\n",
       "      <td>vid_4784</td>\n",
       "      <td>2024-11-21 10:50:40.993199</td>\n",
       "      <td>10097</td>\n",
       "      <td>1979.0</td>\n",
       "      <td>187.0</td>\n",
       "      <td>57332.658498</td>\n",
       "      <td>26.200634</td>\n",
       "      <td>240534</td>\n",
       "      <td>Education</td>\n",
       "      <td>TV</td>\n",
       "      <td>CA</td>\n",
       "      <td>360.134008</td>\n",
       "    </tr>\n",
       "    <tr>\n",
       "      <th>3</th>\n",
       "      <td>vid_4078</td>\n",
       "      <td>2025-01-28 10:50:40.993199</td>\n",
       "      <td>10034</td>\n",
       "      <td>1191.0</td>\n",
       "      <td>242.0</td>\n",
       "      <td>31334.517771</td>\n",
       "      <td>11.770340</td>\n",
       "      <td>434482</td>\n",
       "      <td>Entertainment</td>\n",
       "      <td>Mobile</td>\n",
       "      <td>UK</td>\n",
       "      <td>224.638261</td>\n",
       "    </tr>\n",
       "    <tr>\n",
       "      <th>4</th>\n",
       "      <td>vid_3522</td>\n",
       "      <td>2025-04-28 10:50:40.993199</td>\n",
       "      <td>9889</td>\n",
       "      <td>1858.0</td>\n",
       "      <td>477.0</td>\n",
       "      <td>15665.666434</td>\n",
       "      <td>6.635854</td>\n",
       "      <td>42030</td>\n",
       "      <td>Education</td>\n",
       "      <td>Mobile</td>\n",
       "      <td>CA</td>\n",
       "      <td>165.514388</td>\n",
       "    </tr>\n",
       "  </tbody>\n",
       "</table>\n",
       "</div>"
      ],
      "text/plain": [
       "   video_id                        date  views   likes  comments  \\\n",
       "0  vid_3092  2024-09-24 10:50:40.993199   9936  1221.0     320.0   \n",
       "1  vid_3459  2024-09-22 10:50:40.993199  10017   642.0     346.0   \n",
       "2  vid_4784  2024-11-21 10:50:40.993199  10097  1979.0     187.0   \n",
       "3  vid_4078  2025-01-28 10:50:40.993199  10034  1191.0     242.0   \n",
       "4  vid_3522  2025-04-28 10:50:40.993199   9889  1858.0     477.0   \n",
       "\n",
       "   watch_time_minutes  video_length_minutes  subscribers       category  \\\n",
       "0        26497.214184              2.862137       228086  Entertainment   \n",
       "1        15209.747445             23.738069       736015         Gaming   \n",
       "2        57332.658498             26.200634       240534      Education   \n",
       "3        31334.517771             11.770340       434482  Entertainment   \n",
       "4        15665.666434              6.635854        42030      Education   \n",
       "\n",
       "   device country  ad_revenue_usd  \n",
       "0      TV      IN      203.178237  \n",
       "1  Tablet      CA      140.880508  \n",
       "2      TV      CA      360.134008  \n",
       "3  Mobile      UK      224.638261  \n",
       "4  Mobile      CA      165.514388  "
      ]
     },
     "execution_count": 2,
     "metadata": {},
     "output_type": "execute_result"
    }
   ],
   "source": [
    "df=pd.read_csv(r'C:\\Users\\ABC\\Desktop\\youtube\\youtube_ad_revenue_dataset.csv')\n",
    "df.head()"
   ]
  },
  {
   "cell_type": "code",
   "execution_count": 4,
   "id": "74c0d58f",
   "metadata": {},
   "outputs": [
    {
     "data": {
      "text/html": [
       "<div>\n",
       "<style scoped>\n",
       "    .dataframe tbody tr th:only-of-type {\n",
       "        vertical-align: middle;\n",
       "    }\n",
       "\n",
       "    .dataframe tbody tr th {\n",
       "        vertical-align: top;\n",
       "    }\n",
       "\n",
       "    .dataframe thead th {\n",
       "        text-align: right;\n",
       "    }\n",
       "</style>\n",
       "<table border=\"1\" class=\"dataframe\">\n",
       "  <thead>\n",
       "    <tr style=\"text-align: right;\">\n",
       "      <th></th>\n",
       "      <th>video_id</th>\n",
       "      <th>date</th>\n",
       "      <th>views</th>\n",
       "      <th>likes</th>\n",
       "      <th>comments</th>\n",
       "      <th>watch_time_minutes</th>\n",
       "      <th>video_length_minutes</th>\n",
       "      <th>subscribers</th>\n",
       "      <th>category</th>\n",
       "      <th>device</th>\n",
       "      <th>country</th>\n",
       "      <th>ad_revenue_usd</th>\n",
       "    </tr>\n",
       "  </thead>\n",
       "  <tbody>\n",
       "    <tr>\n",
       "      <th>0</th>\n",
       "      <td>vid_3092</td>\n",
       "      <td>2024-09-24 10:50:40.993199</td>\n",
       "      <td>9936</td>\n",
       "      <td>1221.0</td>\n",
       "      <td>320.0</td>\n",
       "      <td>26497.214184</td>\n",
       "      <td>2.862137</td>\n",
       "      <td>228086</td>\n",
       "      <td>Entertainment</td>\n",
       "      <td>TV</td>\n",
       "      <td>IN</td>\n",
       "      <td>203.178237</td>\n",
       "    </tr>\n",
       "    <tr>\n",
       "      <th>1</th>\n",
       "      <td>vid_3459</td>\n",
       "      <td>2024-09-22 10:50:40.993199</td>\n",
       "      <td>10017</td>\n",
       "      <td>642.0</td>\n",
       "      <td>346.0</td>\n",
       "      <td>15209.747445</td>\n",
       "      <td>23.738069</td>\n",
       "      <td>736015</td>\n",
       "      <td>Gaming</td>\n",
       "      <td>Tablet</td>\n",
       "      <td>CA</td>\n",
       "      <td>140.880508</td>\n",
       "    </tr>\n",
       "    <tr>\n",
       "      <th>2</th>\n",
       "      <td>vid_4784</td>\n",
       "      <td>2024-11-21 10:50:40.993199</td>\n",
       "      <td>10097</td>\n",
       "      <td>1979.0</td>\n",
       "      <td>187.0</td>\n",
       "      <td>57332.658498</td>\n",
       "      <td>26.200634</td>\n",
       "      <td>240534</td>\n",
       "      <td>Education</td>\n",
       "      <td>TV</td>\n",
       "      <td>CA</td>\n",
       "      <td>360.134008</td>\n",
       "    </tr>\n",
       "    <tr>\n",
       "      <th>3</th>\n",
       "      <td>vid_4078</td>\n",
       "      <td>2025-01-28 10:50:40.993199</td>\n",
       "      <td>10034</td>\n",
       "      <td>1191.0</td>\n",
       "      <td>242.0</td>\n",
       "      <td>31334.517771</td>\n",
       "      <td>11.770340</td>\n",
       "      <td>434482</td>\n",
       "      <td>Entertainment</td>\n",
       "      <td>Mobile</td>\n",
       "      <td>UK</td>\n",
       "      <td>224.638261</td>\n",
       "    </tr>\n",
       "    <tr>\n",
       "      <th>4</th>\n",
       "      <td>vid_3522</td>\n",
       "      <td>2025-04-28 10:50:40.993199</td>\n",
       "      <td>9889</td>\n",
       "      <td>1858.0</td>\n",
       "      <td>477.0</td>\n",
       "      <td>15665.666434</td>\n",
       "      <td>6.635854</td>\n",
       "      <td>42030</td>\n",
       "      <td>Education</td>\n",
       "      <td>Mobile</td>\n",
       "      <td>CA</td>\n",
       "      <td>165.514388</td>\n",
       "    </tr>\n",
       "    <tr>\n",
       "      <th>...</th>\n",
       "      <td>...</td>\n",
       "      <td>...</td>\n",
       "      <td>...</td>\n",
       "      <td>...</td>\n",
       "      <td>...</td>\n",
       "      <td>...</td>\n",
       "      <td>...</td>\n",
       "      <td>...</td>\n",
       "      <td>...</td>\n",
       "      <td>...</td>\n",
       "      <td>...</td>\n",
       "      <td>...</td>\n",
       "    </tr>\n",
       "    <tr>\n",
       "      <th>122395</th>\n",
       "      <td>vid_2902</td>\n",
       "      <td>2024-12-14 10:50:40.993199</td>\n",
       "      <td>9853</td>\n",
       "      <td>1673.0</td>\n",
       "      <td>147.0</td>\n",
       "      <td>42075.704885</td>\n",
       "      <td>25.490195</td>\n",
       "      <td>210818</td>\n",
       "      <td>Education</td>\n",
       "      <td>Tablet</td>\n",
       "      <td>US</td>\n",
       "      <td>280.986396</td>\n",
       "    </tr>\n",
       "    <tr>\n",
       "      <th>122396</th>\n",
       "      <td>vid_3890</td>\n",
       "      <td>2024-07-13 10:50:40.993199</td>\n",
       "      <td>10128</td>\n",
       "      <td>1709.0</td>\n",
       "      <td>63.0</td>\n",
       "      <td>57563.703040</td>\n",
       "      <td>16.229133</td>\n",
       "      <td>878860</td>\n",
       "      <td>Music</td>\n",
       "      <td>Desktop</td>\n",
       "      <td>UK</td>\n",
       "      <td>354.612981</td>\n",
       "    </tr>\n",
       "    <tr>\n",
       "      <th>122397</th>\n",
       "      <td>vid_3934</td>\n",
       "      <td>2024-06-10 10:50:40.993199</td>\n",
       "      <td>10267</td>\n",
       "      <td>700.0</td>\n",
       "      <td>NaN</td>\n",
       "      <td>27549.714659</td>\n",
       "      <td>23.822365</td>\n",
       "      <td>576756</td>\n",
       "      <td>Tech</td>\n",
       "      <td>Tablet</td>\n",
       "      <td>CA</td>\n",
       "      <td>203.643106</td>\n",
       "    </tr>\n",
       "    <tr>\n",
       "      <th>122398</th>\n",
       "      <td>vid_4260</td>\n",
       "      <td>2024-12-22 10:50:40.993199</td>\n",
       "      <td>10240</td>\n",
       "      <td>1616.0</td>\n",
       "      <td>106.0</td>\n",
       "      <td>56967.384382</td>\n",
       "      <td>7.753099</td>\n",
       "      <td>585138</td>\n",
       "      <td>Music</td>\n",
       "      <td>Mobile</td>\n",
       "      <td>UK</td>\n",
       "      <td>351.525811</td>\n",
       "    </tr>\n",
       "    <tr>\n",
       "      <th>122399</th>\n",
       "      <td>vid_1056</td>\n",
       "      <td>2024-06-25 10:50:40.993199</td>\n",
       "      <td>9931</td>\n",
       "      <td>770.0</td>\n",
       "      <td>NaN</td>\n",
       "      <td>38466.837135</td>\n",
       "      <td>27.305703</td>\n",
       "      <td>517587</td>\n",
       "      <td>Tech</td>\n",
       "      <td>TV</td>\n",
       "      <td>CA</td>\n",
       "      <td>253.842824</td>\n",
       "    </tr>\n",
       "  </tbody>\n",
       "</table>\n",
       "<p>122400 rows × 12 columns</p>\n",
       "</div>"
      ],
      "text/plain": [
       "        video_id                        date  views   likes  comments  \\\n",
       "0       vid_3092  2024-09-24 10:50:40.993199   9936  1221.0     320.0   \n",
       "1       vid_3459  2024-09-22 10:50:40.993199  10017   642.0     346.0   \n",
       "2       vid_4784  2024-11-21 10:50:40.993199  10097  1979.0     187.0   \n",
       "3       vid_4078  2025-01-28 10:50:40.993199  10034  1191.0     242.0   \n",
       "4       vid_3522  2025-04-28 10:50:40.993199   9889  1858.0     477.0   \n",
       "...          ...                         ...    ...     ...       ...   \n",
       "122395  vid_2902  2024-12-14 10:50:40.993199   9853  1673.0     147.0   \n",
       "122396  vid_3890  2024-07-13 10:50:40.993199  10128  1709.0      63.0   \n",
       "122397  vid_3934  2024-06-10 10:50:40.993199  10267   700.0       NaN   \n",
       "122398  vid_4260  2024-12-22 10:50:40.993199  10240  1616.0     106.0   \n",
       "122399  vid_1056  2024-06-25 10:50:40.993199   9931   770.0       NaN   \n",
       "\n",
       "        watch_time_minutes  video_length_minutes  subscribers       category  \\\n",
       "0             26497.214184              2.862137       228086  Entertainment   \n",
       "1             15209.747445             23.738069       736015         Gaming   \n",
       "2             57332.658498             26.200634       240534      Education   \n",
       "3             31334.517771             11.770340       434482  Entertainment   \n",
       "4             15665.666434              6.635854        42030      Education   \n",
       "...                    ...                   ...          ...            ...   \n",
       "122395        42075.704885             25.490195       210818      Education   \n",
       "122396        57563.703040             16.229133       878860          Music   \n",
       "122397        27549.714659             23.822365       576756           Tech   \n",
       "122398        56967.384382              7.753099       585138          Music   \n",
       "122399        38466.837135             27.305703       517587           Tech   \n",
       "\n",
       "         device country  ad_revenue_usd  \n",
       "0            TV      IN      203.178237  \n",
       "1        Tablet      CA      140.880508  \n",
       "2            TV      CA      360.134008  \n",
       "3        Mobile      UK      224.638261  \n",
       "4        Mobile      CA      165.514388  \n",
       "...         ...     ...             ...  \n",
       "122395   Tablet      US      280.986396  \n",
       "122396  Desktop      UK      354.612981  \n",
       "122397   Tablet      CA      203.643106  \n",
       "122398   Mobile      UK      351.525811  \n",
       "122399       TV      CA      253.842824  \n",
       "\n",
       "[122400 rows x 12 columns]"
      ]
     },
     "execution_count": 4,
     "metadata": {},
     "output_type": "execute_result"
    }
   ],
   "source": [
    "df"
   ]
  },
  {
   "cell_type": "code",
   "execution_count": 3,
   "id": "6a4b5d22",
   "metadata": {},
   "outputs": [
    {
     "data": {
      "text/plain": [
       "(122400, 12)"
      ]
     },
     "execution_count": 3,
     "metadata": {},
     "output_type": "execute_result"
    }
   ],
   "source": [
    "df.shape"
   ]
  },
  {
   "cell_type": "code",
   "execution_count": 6,
   "id": "cba475b1",
   "metadata": {},
   "outputs": [
    {
     "name": "stdout",
     "output_type": "stream",
     "text": [
      "^C\n"
     ]
    },
    {
     "name": "stdout",
     "output_type": "stream",
     "text": [
      "Requirement already satisfied: matplotlib in c:\\users\\abc\\desktop\\youtube\\.venv\\lib\\site-packages (3.10.5)\n",
      "Requirement already satisfied: contourpy>=1.0.1 in c:\\users\\abc\\desktop\\youtube\\.venv\\lib\\site-packages (from matplotlib) (1.3.3)\n",
      "Requirement already satisfied: cycler>=0.10 in c:\\users\\abc\\desktop\\youtube\\.venv\\lib\\site-packages (from matplotlib) (0.12.1)\n",
      "Requirement already satisfied: fonttools>=4.22.0 in c:\\users\\abc\\desktop\\youtube\\.venv\\lib\\site-packages (from matplotlib) (4.59.1)\n",
      "Requirement already satisfied: kiwisolver>=1.3.1 in c:\\users\\abc\\desktop\\youtube\\.venv\\lib\\site-packages (from matplotlib) (1.4.9)\n",
      "Requirement already satisfied: numpy>=1.23 in c:\\users\\abc\\desktop\\youtube\\.venv\\lib\\site-packages (from matplotlib) (2.3.2)\n",
      "Requirement already satisfied: packaging>=20.0 in c:\\users\\abc\\desktop\\youtube\\.venv\\lib\\site-packages (from matplotlib) (25.0)\n",
      "Requirement already satisfied: pillow>=8 in c:\\users\\abc\\desktop\\youtube\\.venv\\lib\\site-packages (from matplotlib) (11.3.0)\n",
      "Requirement already satisfied: pyparsing>=2.3.1 in c:\\users\\abc\\desktop\\youtube\\.venv\\lib\\site-packages (from matplotlib) (3.2.3)\n",
      "Requirement already satisfied: python-dateutil>=2.7 in c:\\users\\abc\\desktop\\youtube\\.venv\\lib\\site-packages (from matplotlib) (2.9.0.post0)\n",
      "Requirement already satisfied: six>=1.5 in c:\\users\\abc\\desktop\\youtube\\.venv\\lib\\site-packages (from python-dateutil>=2.7->matplotlib) (1.17.0)\n"
     ]
    }
   ],
   "source": [
    "!pip install matplotlib\n",
    "\n"
   ]
  },
  {
   "cell_type": "code",
   "execution_count": null,
   "id": "0c6f496f",
   "metadata": {},
   "outputs": [
    {
     "name": "stdout",
     "output_type": "stream",
     "text": [
      "Requirement already satisfied: seaborn in c:\\users\\abc\\desktop\\youtube\\.venv\\lib\\site-packages (0.13.2)\n",
      "Requirement already satisfied: numpy in c:\\users\\abc\\desktop\\youtube\\.venv\\lib\\site-packages (2.3.2)\n",
      "Requirement already satisfied: pandas>=1.2 in c:\\users\\abc\\desktop\\youtube\\.venv\\lib\\site-packages (from seaborn) (2.3.2)\n",
      "Requirement already satisfied: matplotlib!=3.6.1,>=3.4 in c:\\users\\abc\\desktop\\youtube\\.venv\\lib\\site-packages (from seaborn) (3.10.5)\n",
      "Requirement already satisfied: contourpy>=1.0.1 in c:\\users\\abc\\desktop\\youtube\\.venv\\lib\\site-packages (from matplotlib!=3.6.1,>=3.4->seaborn) (1.3.3)\n",
      "Requirement already satisfied: cycler>=0.10 in c:\\users\\abc\\desktop\\youtube\\.venv\\lib\\site-packages (from matplotlib!=3.6.1,>=3.4->seaborn) (0.12.1)\n",
      "Requirement already satisfied: fonttools>=4.22.0 in c:\\users\\abc\\desktop\\youtube\\.venv\\lib\\site-packages (from matplotlib!=3.6.1,>=3.4->seaborn) (4.59.1)\n",
      "Requirement already satisfied: kiwisolver>=1.3.1 in c:\\users\\abc\\desktop\\youtube\\.venv\\lib\\site-packages (from matplotlib!=3.6.1,>=3.4->seaborn) (1.4.9)\n",
      "Requirement already satisfied: packaging>=20.0 in c:\\users\\abc\\desktop\\youtube\\.venv\\lib\\site-packages (from matplotlib!=3.6.1,>=3.4->seaborn) (25.0)\n",
      "Requirement already satisfied: pillow>=8 in c:\\users\\abc\\desktop\\youtube\\.venv\\lib\\site-packages (from matplotlib!=3.6.1,>=3.4->seaborn) (11.3.0)\n",
      "Requirement already satisfied: pyparsing>=2.3.1 in c:\\users\\abc\\desktop\\youtube\\.venv\\lib\\site-packages (from matplotlib!=3.6.1,>=3.4->seaborn) (3.2.3)\n",
      "Requirement already satisfied: python-dateutil>=2.7 in c:\\users\\abc\\desktop\\youtube\\.venv\\lib\\site-packages (from matplotlib!=3.6.1,>=3.4->seaborn) (2.9.0.post0)\n",
      "Requirement already satisfied: pytz>=2020.1 in c:\\users\\abc\\desktop\\youtube\\.venv\\lib\\site-packages (from pandas>=1.2->seaborn) (2025.2)\n",
      "Requirement already satisfied: tzdata>=2022.7 in c:\\users\\abc\\desktop\\youtube\\.venv\\lib\\site-packages (from pandas>=1.2->seaborn) (2025.2)\n",
      "Requirement already satisfied: six>=1.5 in c:\\users\\abc\\desktop\\youtube\\.venv\\lib\\site-packages (from python-dateutil>=2.7->matplotlib!=3.6.1,>=3.4->seaborn) (1.17.0)\n"
     ]
    }
   ],
   "source": [
    "!pip install seaborn numpy"
   ]
  },
  {
   "cell_type": "code",
   "execution_count": 4,
   "id": "7871be94",
   "metadata": {},
   "outputs": [],
   "source": [
    "import numpy as np\n",
    "import matplotlib.pyplot as plt\n",
    "import seaborn as sns"
   ]
  },
  {
   "cell_type": "code",
   "execution_count": 5,
   "id": "8d1049ec",
   "metadata": {},
   "outputs": [
    {
     "data": {
      "text/html": [
       "<div>\n",
       "<style scoped>\n",
       "    .dataframe tbody tr th:only-of-type {\n",
       "        vertical-align: middle;\n",
       "    }\n",
       "\n",
       "    .dataframe tbody tr th {\n",
       "        vertical-align: top;\n",
       "    }\n",
       "\n",
       "    .dataframe thead th {\n",
       "        text-align: right;\n",
       "    }\n",
       "</style>\n",
       "<table border=\"1\" class=\"dataframe\">\n",
       "  <thead>\n",
       "    <tr style=\"text-align: right;\">\n",
       "      <th></th>\n",
       "      <th>views</th>\n",
       "      <th>likes</th>\n",
       "      <th>comments</th>\n",
       "      <th>watch_time_minutes</th>\n",
       "      <th>video_length_minutes</th>\n",
       "      <th>subscribers</th>\n",
       "      <th>ad_revenue_usd</th>\n",
       "    </tr>\n",
       "  </thead>\n",
       "  <tbody>\n",
       "    <tr>\n",
       "      <th>count</th>\n",
       "      <td>122400.000000</td>\n",
       "      <td>116283.000000</td>\n",
       "      <td>116288.000000</td>\n",
       "      <td>116295.000000</td>\n",
       "      <td>122400.000000</td>\n",
       "      <td>122400.000000</td>\n",
       "      <td>122400.000000</td>\n",
       "    </tr>\n",
       "    <tr>\n",
       "      <th>mean</th>\n",
       "      <td>9999.856283</td>\n",
       "      <td>1099.633618</td>\n",
       "      <td>274.396636</td>\n",
       "      <td>37543.827721</td>\n",
       "      <td>16.014165</td>\n",
       "      <td>502191.719902</td>\n",
       "      <td>252.727210</td>\n",
       "    </tr>\n",
       "    <tr>\n",
       "      <th>std</th>\n",
       "      <td>99.881260</td>\n",
       "      <td>519.424089</td>\n",
       "      <td>129.741739</td>\n",
       "      <td>12987.724246</td>\n",
       "      <td>8.083790</td>\n",
       "      <td>288397.470103</td>\n",
       "      <td>61.957052</td>\n",
       "    </tr>\n",
       "    <tr>\n",
       "      <th>min</th>\n",
       "      <td>9521.000000</td>\n",
       "      <td>195.000000</td>\n",
       "      <td>48.000000</td>\n",
       "      <td>14659.105562</td>\n",
       "      <td>2.000142</td>\n",
       "      <td>1005.000000</td>\n",
       "      <td>126.590603</td>\n",
       "    </tr>\n",
       "    <tr>\n",
       "      <th>25%</th>\n",
       "      <td>9933.000000</td>\n",
       "      <td>650.000000</td>\n",
       "      <td>162.000000</td>\n",
       "      <td>26366.320569</td>\n",
       "      <td>9.004695</td>\n",
       "      <td>252507.500000</td>\n",
       "      <td>199.902018</td>\n",
       "    </tr>\n",
       "    <tr>\n",
       "      <th>50%</th>\n",
       "      <td>10000.000000</td>\n",
       "      <td>1103.000000</td>\n",
       "      <td>274.000000</td>\n",
       "      <td>37531.990337</td>\n",
       "      <td>16.005906</td>\n",
       "      <td>503465.500000</td>\n",
       "      <td>252.749699</td>\n",
       "    </tr>\n",
       "    <tr>\n",
       "      <th>75%</th>\n",
       "      <td>10067.000000</td>\n",
       "      <td>1547.000000</td>\n",
       "      <td>387.000000</td>\n",
       "      <td>48777.782090</td>\n",
       "      <td>23.021260</td>\n",
       "      <td>752192.000000</td>\n",
       "      <td>305.597518</td>\n",
       "    </tr>\n",
       "    <tr>\n",
       "      <th>max</th>\n",
       "      <td>10468.000000</td>\n",
       "      <td>2061.000000</td>\n",
       "      <td>515.000000</td>\n",
       "      <td>61557.670089</td>\n",
       "      <td>29.999799</td>\n",
       "      <td>999997.000000</td>\n",
       "      <td>382.768254</td>\n",
       "    </tr>\n",
       "  </tbody>\n",
       "</table>\n",
       "</div>"
      ],
      "text/plain": [
       "               views          likes       comments  watch_time_minutes  \\\n",
       "count  122400.000000  116283.000000  116288.000000       116295.000000   \n",
       "mean     9999.856283    1099.633618     274.396636        37543.827721   \n",
       "std        99.881260     519.424089     129.741739        12987.724246   \n",
       "min      9521.000000     195.000000      48.000000        14659.105562   \n",
       "25%      9933.000000     650.000000     162.000000        26366.320569   \n",
       "50%     10000.000000    1103.000000     274.000000        37531.990337   \n",
       "75%     10067.000000    1547.000000     387.000000        48777.782090   \n",
       "max     10468.000000    2061.000000     515.000000        61557.670089   \n",
       "\n",
       "       video_length_minutes    subscribers  ad_revenue_usd  \n",
       "count         122400.000000  122400.000000   122400.000000  \n",
       "mean              16.014165  502191.719902      252.727210  \n",
       "std                8.083790  288397.470103       61.957052  \n",
       "min                2.000142    1005.000000      126.590603  \n",
       "25%                9.004695  252507.500000      199.902018  \n",
       "50%               16.005906  503465.500000      252.749699  \n",
       "75%               23.021260  752192.000000      305.597518  \n",
       "max               29.999799  999997.000000      382.768254  "
      ]
     },
     "execution_count": 5,
     "metadata": {},
     "output_type": "execute_result"
    }
   ],
   "source": [
    "df.describe()"
   ]
  },
  {
   "cell_type": "code",
   "execution_count": 6,
   "id": "aca6dbfd",
   "metadata": {},
   "outputs": [
    {
     "name": "stdout",
     "output_type": "stream",
     "text": [
      "<class 'pandas.core.frame.DataFrame'>\n",
      "RangeIndex: 122400 entries, 0 to 122399\n",
      "Data columns (total 12 columns):\n",
      " #   Column                Non-Null Count   Dtype  \n",
      "---  ------                --------------   -----  \n",
      " 0   video_id              122400 non-null  object \n",
      " 1   date                  122400 non-null  object \n",
      " 2   views                 122400 non-null  int64  \n",
      " 3   likes                 116283 non-null  float64\n",
      " 4   comments              116288 non-null  float64\n",
      " 5   watch_time_minutes    116295 non-null  float64\n",
      " 6   video_length_minutes  122400 non-null  float64\n",
      " 7   subscribers           122400 non-null  int64  \n",
      " 8   category              122400 non-null  object \n",
      " 9   device                122400 non-null  object \n",
      " 10  country               122400 non-null  object \n",
      " 11  ad_revenue_usd        122400 non-null  float64\n",
      "dtypes: float64(5), int64(2), object(5)\n",
      "memory usage: 11.2+ MB\n"
     ]
    }
   ],
   "source": [
    "df.info()"
   ]
  },
  {
   "cell_type": "code",
   "execution_count": 7,
   "id": "1e67e269",
   "metadata": {},
   "outputs": [
    {
     "data": {
      "text/plain": [
       "video_id                   0\n",
       "date                       0\n",
       "views                      0\n",
       "likes                   6117\n",
       "comments                6112\n",
       "watch_time_minutes      6105\n",
       "video_length_minutes       0\n",
       "subscribers                0\n",
       "category                   0\n",
       "device                     0\n",
       "country                    0\n",
       "ad_revenue_usd             0\n",
       "dtype: int64"
      ]
     },
     "execution_count": 7,
     "metadata": {},
     "output_type": "execute_result"
    }
   ],
   "source": [
    "df.isnull().sum()"
   ]
  },
  {
   "cell_type": "code",
   "execution_count": 8,
   "id": "b7bd8e30",
   "metadata": {},
   "outputs": [
    {
     "data": {
      "text/plain": [
       "<Axes: title={'center': 'Distribution of Likes'}, ylabel='Frequency'>"
      ]
     },
     "execution_count": 8,
     "metadata": {},
     "output_type": "execute_result"
    },
    {
     "data": {
      "image/png": "[encoded data removed]",
      "text/plain": [
       "<Figure size 800x500 with 1 Axes>"
      ]
     },
     "metadata": {},
     "output_type": "display_data"
    }
   ],
   "source": [
    "\n",
    "\n",
    "df['likes'].dropna().plot(kind='hist', bins=30, figsize=(8,5), title=\"Distribution of Likes\")\n"
   ]
  },
  {
   "cell_type": "code",
   "execution_count": 9,
   "id": "d876c5e9",
   "metadata": {},
   "outputs": [],
   "source": [
    "df['likes'] = df['likes'].fillna(df['likes'].median())\n"
   ]
  },
  {
   "cell_type": "code",
   "execution_count": 10,
   "id": "62028ec0",
   "metadata": {},
   "outputs": [
    {
     "data": {
      "text/plain": [
       "<Axes: title={'center': 'Distribution of comments'}, ylabel='Frequency'>"
      ]
     },
     "execution_count": 10,
     "metadata": {},
     "output_type": "execute_result"
    },
    {
     "data": {
      "image/png": "[encoded data removed]",
      "text/plain": [
       "<Figure size 800x500 with 1 Axes>"
      ]
     },
     "metadata": {},
     "output_type": "display_data"
    }
   ],
   "source": [
    "\n",
    "\n",
    "df['comments'].dropna().plot(kind='hist', bins=30, figsize=(8,5), title=\"Distribution of comments\")\n"
   ]
  },
  {
   "cell_type": "code",
   "execution_count": 11,
   "id": "1d29b11d",
   "metadata": {},
   "outputs": [],
   "source": [
    "df['comments'] = df['comments'].fillna(df['comments'].median())\n"
   ]
  },
  {
   "cell_type": "code",
   "execution_count": 12,
   "id": "fa0fcf9d",
   "metadata": {},
   "outputs": [],
   "source": [
    "df['watch_time_minutes'] = df['watch_time_minutes'].fillna(df['watch_time_minutes'].median())\n"
   ]
  },
  {
   "cell_type": "code",
   "execution_count": 13,
   "id": "816ad520",
   "metadata": {},
   "outputs": [
    {
     "data": {
      "text/plain": [
       "video_id                0\n",
       "date                    0\n",
       "views                   0\n",
       "likes                   0\n",
       "comments                0\n",
       "watch_time_minutes      0\n",
       "video_length_minutes    0\n",
       "subscribers             0\n",
       "category                0\n",
       "device                  0\n",
       "country                 0\n",
       "ad_revenue_usd          0\n",
       "dtype: int64"
      ]
     },
     "execution_count": 13,
     "metadata": {},
     "output_type": "execute_result"
    }
   ],
   "source": [
    "df.isnull().sum()"
   ]
  },
  {
   "cell_type": "code",
   "execution_count": 14,
   "id": "85e9812a",
   "metadata": {},
   "outputs": [
    {
     "name": "stdout",
     "output_type": "stream",
     "text": [
      "<class 'pandas.core.frame.DataFrame'>\n",
      "RangeIndex: 122400 entries, 0 to 122399\n",
      "Data columns (total 12 columns):\n",
      " #   Column                Non-Null Count   Dtype  \n",
      "---  ------                --------------   -----  \n",
      " 0   video_id              122400 non-null  object \n",
      " 1   date                  122400 non-null  object \n",
      " 2   views                 122400 non-null  int64  \n",
      " 3   likes                 122400 non-null  float64\n",
      " 4   comments              122400 non-null  float64\n",
      " 5   watch_time_minutes    122400 non-null  float64\n",
      " 6   video_length_minutes  122400 non-null  float64\n",
      " 7   subscribers           122400 non-null  int64  \n",
      " 8   category              122400 non-null  object \n",
      " 9   device                122400 non-null  object \n",
      " 10  country               122400 non-null  object \n",
      " 11  ad_revenue_usd        122400 non-null  float64\n",
      "dtypes: float64(5), int64(2), object(5)\n",
      "memory usage: 11.2+ MB\n"
     ]
    }
   ],
   "source": [
    "df.info()"
   ]
  },
  {
   "cell_type": "code",
   "execution_count": 15,
   "id": "7fdca622",
   "metadata": {},
   "outputs": [
    {
     "data": {
      "text/html": [
       "<div>\n",
       "<style scoped>\n",
       "    .dataframe tbody tr th:only-of-type {\n",
       "        vertical-align: middle;\n",
       "    }\n",
       "\n",
       "    .dataframe tbody tr th {\n",
       "        vertical-align: top;\n",
       "    }\n",
       "\n",
       "    .dataframe thead th {\n",
       "        text-align: right;\n",
       "    }\n",
       "</style>\n",
       "<table border=\"1\" class=\"dataframe\">\n",
       "  <thead>\n",
       "    <tr style=\"text-align: right;\">\n",
       "      <th></th>\n",
       "      <th>video_id</th>\n",
       "      <th>date</th>\n",
       "      <th>views</th>\n",
       "      <th>likes</th>\n",
       "      <th>comments</th>\n",
       "      <th>watch_time_minutes</th>\n",
       "      <th>video_length_minutes</th>\n",
       "      <th>subscribers</th>\n",
       "      <th>category</th>\n",
       "      <th>device</th>\n",
       "      <th>country</th>\n",
       "      <th>ad_revenue_usd</th>\n",
       "    </tr>\n",
       "  </thead>\n",
       "  <tbody>\n",
       "    <tr>\n",
       "      <th>0</th>\n",
       "      <td>vid_3092</td>\n",
       "      <td>2024-09-24 10:50:40.993199</td>\n",
       "      <td>9936</td>\n",
       "      <td>1221.0</td>\n",
       "      <td>320.0</td>\n",
       "      <td>26497.214184</td>\n",
       "      <td>2.862137</td>\n",
       "      <td>228086</td>\n",
       "      <td>Entertainment</td>\n",
       "      <td>TV</td>\n",
       "      <td>IN</td>\n",
       "      <td>203.178237</td>\n",
       "    </tr>\n",
       "    <tr>\n",
       "      <th>1</th>\n",
       "      <td>vid_3459</td>\n",
       "      <td>2024-09-22 10:50:40.993199</td>\n",
       "      <td>10017</td>\n",
       "      <td>642.0</td>\n",
       "      <td>346.0</td>\n",
       "      <td>15209.747445</td>\n",
       "      <td>23.738069</td>\n",
       "      <td>736015</td>\n",
       "      <td>Gaming</td>\n",
       "      <td>Tablet</td>\n",
       "      <td>CA</td>\n",
       "      <td>140.880508</td>\n",
       "    </tr>\n",
       "    <tr>\n",
       "      <th>2</th>\n",
       "      <td>vid_4784</td>\n",
       "      <td>2024-11-21 10:50:40.993199</td>\n",
       "      <td>10097</td>\n",
       "      <td>1979.0</td>\n",
       "      <td>187.0</td>\n",
       "      <td>57332.658498</td>\n",
       "      <td>26.200634</td>\n",
       "      <td>240534</td>\n",
       "      <td>Education</td>\n",
       "      <td>TV</td>\n",
       "      <td>CA</td>\n",
       "      <td>360.134008</td>\n",
       "    </tr>\n",
       "    <tr>\n",
       "      <th>3</th>\n",
       "      <td>vid_4078</td>\n",
       "      <td>2025-01-28 10:50:40.993199</td>\n",
       "      <td>10034</td>\n",
       "      <td>1191.0</td>\n",
       "      <td>242.0</td>\n",
       "      <td>31334.517771</td>\n",
       "      <td>11.770340</td>\n",
       "      <td>434482</td>\n",
       "      <td>Entertainment</td>\n",
       "      <td>Mobile</td>\n",
       "      <td>UK</td>\n",
       "      <td>224.638261</td>\n",
       "    </tr>\n",
       "    <tr>\n",
       "      <th>4</th>\n",
       "      <td>vid_3522</td>\n",
       "      <td>2025-04-28 10:50:40.993199</td>\n",
       "      <td>9889</td>\n",
       "      <td>1858.0</td>\n",
       "      <td>477.0</td>\n",
       "      <td>15665.666434</td>\n",
       "      <td>6.635854</td>\n",
       "      <td>42030</td>\n",
       "      <td>Education</td>\n",
       "      <td>Mobile</td>\n",
       "      <td>CA</td>\n",
       "      <td>165.514388</td>\n",
       "    </tr>\n",
       "  </tbody>\n",
       "</table>\n",
       "</div>"
      ],
      "text/plain": [
       "   video_id                        date  views   likes  comments  \\\n",
       "0  vid_3092  2024-09-24 10:50:40.993199   9936  1221.0     320.0   \n",
       "1  vid_3459  2024-09-22 10:50:40.993199  10017   642.0     346.0   \n",
       "2  vid_4784  2024-11-21 10:50:40.993199  10097  1979.0     187.0   \n",
       "3  vid_4078  2025-01-28 10:50:40.993199  10034  1191.0     242.0   \n",
       "4  vid_3522  2025-04-28 10:50:40.993199   9889  1858.0     477.0   \n",
       "\n",
       "   watch_time_minutes  video_length_minutes  subscribers       category  \\\n",
       "0        26497.214184              2.862137       228086  Entertainment   \n",
       "1        15209.747445             23.738069       736015         Gaming   \n",
       "2        57332.658498             26.200634       240534      Education   \n",
       "3        31334.517771             11.770340       434482  Entertainment   \n",
       "4        15665.666434              6.635854        42030      Education   \n",
       "\n",
       "   device country  ad_revenue_usd  \n",
       "0      TV      IN      203.178237  \n",
       "1  Tablet      CA      140.880508  \n",
       "2      TV      CA      360.134008  \n",
       "3  Mobile      UK      224.638261  \n",
       "4  Mobile      CA      165.514388  "
      ]
     },
     "execution_count": 15,
     "metadata": {},
     "output_type": "execute_result"
    }
   ],
   "source": [
    "df.head()"
   ]
  },
  {
   "cell_type": "code",
   "execution_count": 16,
   "id": "964a6dbc",
   "metadata": {},
   "outputs": [],
   "source": [
    "df['date'] = pd.to_datetime(df['date'])"
   ]
  },
  {
   "cell_type": "code",
   "execution_count": 17,
   "id": "8463aa0e",
   "metadata": {},
   "outputs": [
    {
     "name": "stdout",
     "output_type": "stream",
     "text": [
      "<class 'pandas.core.frame.DataFrame'>\n",
      "RangeIndex: 122400 entries, 0 to 122399\n",
      "Data columns (total 12 columns):\n",
      " #   Column                Non-Null Count   Dtype         \n",
      "---  ------                --------------   -----         \n",
      " 0   video_id              122400 non-null  object        \n",
      " 1   date                  122400 non-null  datetime64[ns]\n",
      " 2   views                 122400 non-null  int64         \n",
      " 3   likes                 122400 non-null  float64       \n",
      " 4   comments              122400 non-null  float64       \n",
      " 5   watch_time_minutes    122400 non-null  float64       \n",
      " 6   video_length_minutes  122400 non-null  float64       \n",
      " 7   subscribers           122400 non-null  int64         \n",
      " 8   category              122400 non-null  object        \n",
      " 9   device                122400 non-null  object        \n",
      " 10  country               122400 non-null  object        \n",
      " 11  ad_revenue_usd        122400 non-null  float64       \n",
      "dtypes: datetime64[ns](1), float64(5), int64(2), object(4)\n",
      "memory usage: 11.2+ MB\n"
     ]
    }
   ],
   "source": [
    "df.info()"
   ]
  },
  {
   "cell_type": "code",
   "execution_count": 19,
   "id": "9e1c3095",
   "metadata": {},
   "outputs": [
    {
     "data": {
      "text/plain": [
       "np.int64(2400)"
      ]
     },
     "execution_count": 19,
     "metadata": {},
     "output_type": "execute_result"
    }
   ],
   "source": [
    "df.duplicated().sum()"
   ]
  },
  {
   "cell_type": "code",
   "execution_count": 20,
   "id": "01f36c81",
   "metadata": {},
   "outputs": [],
   "source": [
    "df.drop_duplicates(inplace=True)"
   ]
  },
  {
   "cell_type": "code",
   "execution_count": 21,
   "id": "9c32f13a",
   "metadata": {},
   "outputs": [
    {
     "data": {
      "text/plain": [
       "np.int64(0)"
      ]
     },
     "execution_count": 21,
     "metadata": {},
     "output_type": "execute_result"
    }
   ],
   "source": [
    "df.duplicated().sum()"
   ]
  },
  {
   "cell_type": "code",
   "execution_count": 22,
   "id": "f8972867",
   "metadata": {},
   "outputs": [
    {
     "data": {
      "text/html": [
       "<div>\n",
       "<style scoped>\n",
       "    .dataframe tbody tr th:only-of-type {\n",
       "        vertical-align: middle;\n",
       "    }\n",
       "\n",
       "    .dataframe tbody tr th {\n",
       "        vertical-align: top;\n",
       "    }\n",
       "\n",
       "    .dataframe thead th {\n",
       "        text-align: right;\n",
       "    }\n",
       "</style>\n",
       "<table border=\"1\" class=\"dataframe\">\n",
       "  <thead>\n",
       "    <tr style=\"text-align: right;\">\n",
       "      <th></th>\n",
       "      <th>video_id</th>\n",
       "      <th>date</th>\n",
       "      <th>views</th>\n",
       "      <th>likes</th>\n",
       "      <th>comments</th>\n",
       "      <th>watch_time_minutes</th>\n",
       "      <th>video_length_minutes</th>\n",
       "      <th>subscribers</th>\n",
       "      <th>category</th>\n",
       "      <th>device</th>\n",
       "      <th>country</th>\n",
       "      <th>ad_revenue_usd</th>\n",
       "      <th>engagement_rate</th>\n",
       "    </tr>\n",
       "  </thead>\n",
       "  <tbody>\n",
       "    <tr>\n",
       "      <th>0</th>\n",
       "      <td>vid_3092</td>\n",
       "      <td>2024-09-24 10:50:40.993199</td>\n",
       "      <td>9936</td>\n",
       "      <td>1221.0</td>\n",
       "      <td>320.0</td>\n",
       "      <td>26497.214184</td>\n",
       "      <td>2.862137</td>\n",
       "      <td>228086</td>\n",
       "      <td>Entertainment</td>\n",
       "      <td>TV</td>\n",
       "      <td>IN</td>\n",
       "      <td>203.178237</td>\n",
       "      <td>0.155093</td>\n",
       "    </tr>\n",
       "    <tr>\n",
       "      <th>1</th>\n",
       "      <td>vid_3459</td>\n",
       "      <td>2024-09-22 10:50:40.993199</td>\n",
       "      <td>10017</td>\n",
       "      <td>642.0</td>\n",
       "      <td>346.0</td>\n",
       "      <td>15209.747445</td>\n",
       "      <td>23.738069</td>\n",
       "      <td>736015</td>\n",
       "      <td>Gaming</td>\n",
       "      <td>Tablet</td>\n",
       "      <td>CA</td>\n",
       "      <td>140.880508</td>\n",
       "      <td>0.098632</td>\n",
       "    </tr>\n",
       "    <tr>\n",
       "      <th>2</th>\n",
       "      <td>vid_4784</td>\n",
       "      <td>2024-11-21 10:50:40.993199</td>\n",
       "      <td>10097</td>\n",
       "      <td>1979.0</td>\n",
       "      <td>187.0</td>\n",
       "      <td>57332.658498</td>\n",
       "      <td>26.200634</td>\n",
       "      <td>240534</td>\n",
       "      <td>Education</td>\n",
       "      <td>TV</td>\n",
       "      <td>CA</td>\n",
       "      <td>360.134008</td>\n",
       "      <td>0.214519</td>\n",
       "    </tr>\n",
       "    <tr>\n",
       "      <th>3</th>\n",
       "      <td>vid_4078</td>\n",
       "      <td>2025-01-28 10:50:40.993199</td>\n",
       "      <td>10034</td>\n",
       "      <td>1191.0</td>\n",
       "      <td>242.0</td>\n",
       "      <td>31334.517771</td>\n",
       "      <td>11.770340</td>\n",
       "      <td>434482</td>\n",
       "      <td>Entertainment</td>\n",
       "      <td>Mobile</td>\n",
       "      <td>UK</td>\n",
       "      <td>224.638261</td>\n",
       "      <td>0.142814</td>\n",
       "    </tr>\n",
       "    <tr>\n",
       "      <th>4</th>\n",
       "      <td>vid_3522</td>\n",
       "      <td>2025-04-28 10:50:40.993199</td>\n",
       "      <td>9889</td>\n",
       "      <td>1858.0</td>\n",
       "      <td>477.0</td>\n",
       "      <td>15665.666434</td>\n",
       "      <td>6.635854</td>\n",
       "      <td>42030</td>\n",
       "      <td>Education</td>\n",
       "      <td>Mobile</td>\n",
       "      <td>CA</td>\n",
       "      <td>165.514388</td>\n",
       "      <td>0.236121</td>\n",
       "    </tr>\n",
       "  </tbody>\n",
       "</table>\n",
       "</div>"
      ],
      "text/plain": [
       "   video_id                       date  views   likes  comments  \\\n",
       "0  vid_3092 2024-09-24 10:50:40.993199   9936  1221.0     320.0   \n",
       "1  vid_3459 2024-09-22 10:50:40.993199  10017   642.0     346.0   \n",
       "2  vid_4784 2024-11-21 10:50:40.993199  10097  1979.0     187.0   \n",
       "3  vid_4078 2025-01-28 10:50:40.993199  10034  1191.0     242.0   \n",
       "4  vid_3522 2025-04-28 10:50:40.993199   9889  1858.0     477.0   \n",
       "\n",
       "   watch_time_minutes  video_length_minutes  subscribers       category  \\\n",
       "0        26497.214184              2.862137       228086  Entertainment   \n",
       "1        15209.747445             23.738069       736015         Gaming   \n",
       "2        57332.658498             26.200634       240534      Education   \n",
       "3        31334.517771             11.770340       434482  Entertainment   \n",
       "4        15665.666434              6.635854        42030      Education   \n",
       "\n",
       "   device country  ad_revenue_usd  engagement_rate  \n",
       "0      TV      IN      203.178237         0.155093  \n",
       "1  Tablet      CA      140.880508         0.098632  \n",
       "2      TV      CA      360.134008         0.214519  \n",
       "3  Mobile      UK      224.638261         0.142814  \n",
       "4  Mobile      CA      165.514388         0.236121  "
      ]
     },
     "execution_count": 22,
     "metadata": {},
     "output_type": "execute_result"
    }
   ],
   "source": [
    "df['engagement_rate'] = (df['likes'] + df['comments']) / df['views']\n",
    "df.head()   \n"
   ]
  },
  {
   "cell_type": "code",
   "execution_count": 23,
   "id": "41dc5893",
   "metadata": {},
   "outputs": [
    {
     "data": {
      "text/html": [
       "<div>\n",
       "<style scoped>\n",
       "    .dataframe tbody tr th:only-of-type {\n",
       "        vertical-align: middle;\n",
       "    }\n",
       "\n",
       "    .dataframe tbody tr th {\n",
       "        vertical-align: top;\n",
       "    }\n",
       "\n",
       "    .dataframe thead th {\n",
       "        text-align: right;\n",
       "    }\n",
       "</style>\n",
       "<table border=\"1\" class=\"dataframe\">\n",
       "  <thead>\n",
       "    <tr style=\"text-align: right;\">\n",
       "      <th></th>\n",
       "      <th>date</th>\n",
       "      <th>views</th>\n",
       "      <th>likes</th>\n",
       "      <th>comments</th>\n",
       "      <th>watch_time_minutes</th>\n",
       "      <th>video_length_minutes</th>\n",
       "      <th>subscribers</th>\n",
       "      <th>ad_revenue_usd</th>\n",
       "      <th>engagement_rate</th>\n",
       "    </tr>\n",
       "  </thead>\n",
       "  <tbody>\n",
       "    <tr>\n",
       "      <th>count</th>\n",
       "      <td>120000</td>\n",
       "      <td>120000.000000</td>\n",
       "      <td>120000.000000</td>\n",
       "      <td>120000.000000</td>\n",
       "      <td>120000.000000</td>\n",
       "      <td>120000.000000</td>\n",
       "      <td>120000.000000</td>\n",
       "      <td>120000.000000</td>\n",
       "      <td>120000.000000</td>\n",
       "    </tr>\n",
       "    <tr>\n",
       "      <th>mean</th>\n",
       "      <td>2024-12-08 03:24:11.233198848</td>\n",
       "      <td>9999.832333</td>\n",
       "      <td>1099.755792</td>\n",
       "      <td>274.332350</td>\n",
       "      <td>37540.311942</td>\n",
       "      <td>16.017910</td>\n",
       "      <td>502291.970050</td>\n",
       "      <td>252.711361</td>\n",
       "      <td>0.137415</td>\n",
       "    </tr>\n",
       "    <tr>\n",
       "      <th>min</th>\n",
       "      <td>2024-06-09 10:50:40.993199</td>\n",
       "      <td>9521.000000</td>\n",
       "      <td>195.000000</td>\n",
       "      <td>48.000000</td>\n",
       "      <td>14659.105562</td>\n",
       "      <td>2.000142</td>\n",
       "      <td>1005.000000</td>\n",
       "      <td>126.590603</td>\n",
       "      <td>0.025492</td>\n",
       "    </tr>\n",
       "    <tr>\n",
       "      <th>25%</th>\n",
       "      <td>2024-09-07 10:50:40.993199104</td>\n",
       "      <td>9933.000000</td>\n",
       "      <td>673.000000</td>\n",
       "      <td>168.000000</td>\n",
       "      <td>26949.914101</td>\n",
       "      <td>9.005928</td>\n",
       "      <td>252641.500000</td>\n",
       "      <td>199.892158</td>\n",
       "      <td>0.094965</td>\n",
       "    </tr>\n",
       "    <tr>\n",
       "      <th>50%</th>\n",
       "      <td>2024-12-08 10:50:40.993199104</td>\n",
       "      <td>10000.000000</td>\n",
       "      <td>1103.000000</td>\n",
       "      <td>274.000000</td>\n",
       "      <td>37531.990337</td>\n",
       "      <td>16.009269</td>\n",
       "      <td>503633.500000</td>\n",
       "      <td>252.678607</td>\n",
       "      <td>0.137523</td>\n",
       "    </tr>\n",
       "    <tr>\n",
       "      <th>75%</th>\n",
       "      <td>2025-03-09 10:50:40.993199104</td>\n",
       "      <td>10067.000000</td>\n",
       "      <td>1524.000000</td>\n",
       "      <td>381.000000</td>\n",
       "      <td>48209.880123</td>\n",
       "      <td>23.026064</td>\n",
       "      <td>752386.250000</td>\n",
       "      <td>305.613497</td>\n",
       "      <td>0.179921</td>\n",
       "    </tr>\n",
       "    <tr>\n",
       "      <th>max</th>\n",
       "      <td>2025-06-08 10:50:40.993199</td>\n",
       "      <td>10468.000000</td>\n",
       "      <td>2061.000000</td>\n",
       "      <td>515.000000</td>\n",
       "      <td>61557.670089</td>\n",
       "      <td>29.999799</td>\n",
       "      <td>999997.000000</td>\n",
       "      <td>382.768254</td>\n",
       "      <td>0.249554</td>\n",
       "    </tr>\n",
       "    <tr>\n",
       "      <th>std</th>\n",
       "      <td>NaN</td>\n",
       "      <td>99.918405</td>\n",
       "      <td>506.372458</td>\n",
       "      <td>126.461529</td>\n",
       "      <td>12658.957210</td>\n",
       "      <td>8.084928</td>\n",
       "      <td>288364.967705</td>\n",
       "      <td>61.954125</td>\n",
       "      <td>0.052160</td>\n",
       "    </tr>\n",
       "  </tbody>\n",
       "</table>\n",
       "</div>"
      ],
      "text/plain": [
       "                                date          views          likes  \\\n",
       "count                         120000  120000.000000  120000.000000   \n",
       "mean   2024-12-08 03:24:11.233198848    9999.832333    1099.755792   \n",
       "min       2024-06-09 10:50:40.993199    9521.000000     195.000000   \n",
       "25%    2024-09-07 10:50:40.993199104    9933.000000     673.000000   \n",
       "50%    2024-12-08 10:50:40.993199104   10000.000000    1103.000000   \n",
       "75%    2025-03-09 10:50:40.993199104   10067.000000    1524.000000   \n",
       "max       2025-06-08 10:50:40.993199   10468.000000    2061.000000   \n",
       "std                              NaN      99.918405     506.372458   \n",
       "\n",
       "            comments  watch_time_minutes  video_length_minutes    subscribers  \\\n",
       "count  120000.000000       120000.000000         120000.000000  120000.000000   \n",
       "mean      274.332350        37540.311942             16.017910  502291.970050   \n",
       "min        48.000000        14659.105562              2.000142    1005.000000   \n",
       "25%       168.000000        26949.914101              9.005928  252641.500000   \n",
       "50%       274.000000        37531.990337             16.009269  503633.500000   \n",
       "75%       381.000000        48209.880123             23.026064  752386.250000   \n",
       "max       515.000000        61557.670089             29.999799  999997.000000   \n",
       "std       126.461529        12658.957210              8.084928  288364.967705   \n",
       "\n",
       "       ad_revenue_usd  engagement_rate  \n",
       "count   120000.000000    120000.000000  \n",
       "mean       252.711361         0.137415  \n",
       "min        126.590603         0.025492  \n",
       "25%        199.892158         0.094965  \n",
       "50%        252.678607         0.137523  \n",
       "75%        305.613497         0.179921  \n",
       "max        382.768254         0.249554  \n",
       "std         61.954125         0.052160  "
      ]
     },
     "execution_count": 23,
     "metadata": {},
     "output_type": "execute_result"
    }
   ],
   "source": [
    "df.describe()"
   ]
  },
  {
   "cell_type": "code",
   "execution_count": null,
   "id": "269103b8",
   "metadata": {},
   "outputs": [
    {
     "data": {
      "text/plain": [
       "<Axes: title={'center': 'Comments Boxplot (After applying meidan)'}>"
      ]
     },
     "execution_count": 24,
     "metadata": {},
     "output_type": "execute_result"
    },
    {
     "data": {
      "image/png": "[encoded data removed]",
      "text/plain": [
       "<Figure size 600x400 with 1 Axes>"
      ]
     },
     "metadata": {},
     "output_type": "display_data"
    }
   ],
   "source": [
    "df['comments'].plot(kind='box', figsize=(6,4), title=\"Comments Boxplot (After applying meidan)\")\n"
   ]
  },
  {
   "cell_type": "code",
   "execution_count": null,
   "id": "40437918",
   "metadata": {},
   "outputs": [
    {
     "data": {
      "text/plain": [
       "<Axes: title={'center': 'likes Boxplot (After applying meidan)'}>"
      ]
     },
     "execution_count": 25,
     "metadata": {},
     "output_type": "execute_result"
    },
    {
     "data": {
      "image/png": "[encoded data removed]",
      "text/plain": [
       "<Figure size 600x400 with 1 Axes>"
      ]
     },
     "metadata": {},
     "output_type": "display_data"
    }
   ],
   "source": [
    "df['likes'].plot(kind='box', figsize=(6,4), title=\"likes Boxplot (After applying meidan)\")\n"
   ]
  },
  {
   "cell_type": "code",
   "execution_count": null,
   "id": "ae5d63d8",
   "metadata": {},
   "outputs": [
    {
     "data": {
      "text/plain": [
       "<Axes: title={'center': 'watch_time_minutes Boxplot'}>"
      ]
     },
     "execution_count": 26,
     "metadata": {},
     "output_type": "execute_result"
    },
    {
     "data": {
      "image/png": "[encoded data removed]",
      "text/plain": [
       "<Figure size 600x400 with 1 Axes>"
      ]
     },
     "metadata": {},
     "output_type": "display_data"
    }
   ],
   "source": [
    "df['watch_time_minutes'].plot(kind='box', figsize=(6,4), title=\"watch_time_minutes Boxplot\")\n"
   ]
  },
  {
   "cell_type": "code",
   "execution_count": null,
   "id": "113e7051",
   "metadata": {},
   "outputs": [
    {
     "data": {
      "text/plain": [
       "<Axes: title={'center': 'video_length_minutes Boxplot'}>"
      ]
     },
     "execution_count": 27,
     "metadata": {},
     "output_type": "execute_result"
    },
    {
     "data": {
      "image/png": "[encoded data removed]",
      "text/plain": [
       "<Figure size 600x400 with 1 Axes>"
      ]
     },
     "metadata": {},
     "output_type": "display_data"
    }
   ],
   "source": [
    "df['video_length_minutes'].plot(kind='box', figsize=(6,4), title=\"video_length_minutes Boxplot\")\n"
   ]
  },
  {
   "cell_type": "code",
   "execution_count": null,
   "id": "c85d6917",
   "metadata": {},
   "outputs": [
    {
     "data": {
      "image/png": "[encoded data removed]",
      "text/plain": [
       "<Figure size 800x500 with 1 Axes>"
      ]
     },
     "metadata": {},
     "output_type": "display_data"
    }
   ],
   "source": [
    "import matplotlib.pyplot as plt\n",
    "\n",
    "df.plot(kind='scatter', x='views', y='ad_revenue_usd', figsize=(8,5), alpha=0.5)\n",
    "plt.title(\"Views vs Ad Revenue (USD)\")\n",
    "plt.xlabel(\"Views\")\n",
    "plt.ylabel(\"Ad Revenue (USD)\")\n",
    "plt.show()\n"
   ]
  },
  {
   "cell_type": "code",
   "execution_count": null,
   "id": "c9cf4616",
   "metadata": {},
   "outputs": [
    {
     "data": {
      "text/plain": [
       "<Axes: title={'center': 'ad_revenue_usd Boxplot'}, ylabel='Frequency'>"
      ]
     },
     "execution_count": 29,
     "metadata": {},
     "output_type": "execute_result"
    },
    {
     "data": {
      "image/png": "[encoded data removed]",
      "text/plain": [
       "<Figure size 600x400 with 1 Axes>"
      ]
     },
     "metadata": {},
     "output_type": "display_data"
    }
   ],
   "source": [
    "df['ad_revenue_usd'].plot(kind='hist', figsize=(6,4), title=\"ad_revenue_usd Boxplot\")"
   ]
  },
  {
   "cell_type": "code",
   "execution_count": 24,
   "id": "b7202474",
   "metadata": {},
   "outputs": [
    {
     "name": "stdout",
     "output_type": "stream",
     "text": [
      "Index(['video_id', 'category', 'device', 'country'], dtype='object')\n"
     ]
    }
   ],
   "source": [
    "# Identify categorical columns\n",
    "categorical_cols = df.select_dtypes(include=['object', 'category']).columns\n",
    "print(categorical_cols)\n"
   ]
  },
  {
   "cell_type": "code",
   "execution_count": 25,
   "id": "178f71bf",
   "metadata": {},
   "outputs": [
    {
     "data": {
      "text/plain": [
       "category\n",
       "Education        20123\n",
       "Music            20065\n",
       "Tech             20028\n",
       "Entertainment    20025\n",
       "Gaming           19974\n",
       "Lifestyle        19785\n",
       "Name: count, dtype: int64"
      ]
     },
     "execution_count": 25,
     "metadata": {},
     "output_type": "execute_result"
    }
   ],
   "source": [
    "df['category'].value_counts()"
   ]
  },
  {
   "cell_type": "code",
   "execution_count": 26,
   "id": "b62eacd0",
   "metadata": {},
   "outputs": [
    {
     "data": {
      "text/plain": [
       "device\n",
       "TV         30086\n",
       "Mobile     29989\n",
       "Desktop    29984\n",
       "Tablet     29941\n",
       "Name: count, dtype: int64"
      ]
     },
     "execution_count": 26,
     "metadata": {},
     "output_type": "execute_result"
    }
   ],
   "source": [
    "df['device'].value_counts()"
   ]
  },
  {
   "cell_type": "code",
   "execution_count": 27,
   "id": "5a5c6282",
   "metadata": {},
   "outputs": [
    {
     "data": {
      "text/plain": [
       "country\n",
       "CA    20198\n",
       "DE    20160\n",
       "IN    20156\n",
       "AU    19911\n",
       "UK    19893\n",
       "US    19682\n",
       "Name: count, dtype: int64"
      ]
     },
     "execution_count": 27,
     "metadata": {},
     "output_type": "execute_result"
    }
   ],
   "source": [
    "df['country'].value_counts()"
   ]
  },
  {
   "cell_type": "code",
   "execution_count": 25,
   "id": "afaedc56",
   "metadata": {},
   "outputs": [
    {
     "data": {
      "image/png": "[encoded data removed]",
      "text/plain": [
       "<Figure size 640x480 with 1 Axes>"
      ]
     },
     "metadata": {},
     "output_type": "display_data"
    }
   ],
   "source": [
    "\n",
    "sns.countplot(x='category', data=df)\n",
    "plt.xticks(rotation=45)\n",
    "plt.title(\"Distribution of Video Categories\")\n",
    "plt.show()\n"
   ]
  },
  {
   "cell_type": "code",
   "execution_count": null,
   "id": "ddea7782",
   "metadata": {},
   "outputs": [
    {
     "data": {
      "image/png": "[encoded data removed]",
      "text/plain": [
       "<Figure size 640x480 with 1 Axes>"
      ]
     },
     "metadata": {},
     "output_type": "display_data"
    }
   ],
   "source": [
    "\n",
    "sns.countplot(x='device', data=df)\n",
    "plt.xticks(rotation=45)\n",
    "plt.title(\"Distribution of device\")\n",
    "plt.show()\n"
   ]
  },
  {
   "cell_type": "code",
   "execution_count": null,
   "id": "0dbe8c5e",
   "metadata": {},
   "outputs": [
    {
     "data": {
      "text/plain": [
       "category\n",
       "Tech              9999.009986\n",
       "Gaming            9999.773706\n",
       "Lifestyle         9999.808137\n",
       "Education         9999.914078\n",
       "Entertainment    10000.106367\n",
       "Music            10000.379915\n",
       "Name: views, dtype: float64"
      ]
     },
     "execution_count": 35,
     "metadata": {},
     "output_type": "execute_result"
    }
   ],
   "source": [
    "df.groupby('category')['views'].mean().sort_values()\n"
   ]
  },
  {
   "cell_type": "code",
   "execution_count": null,
   "id": "c2f3ce70",
   "metadata": {},
   "outputs": [
    {
     "data": {
      "image/png": "[encoded data removed]",
      "text/plain": [
       "<Figure size 640x480 with 1 Axes>"
      ]
     },
     "metadata": {},
     "output_type": "display_data"
    }
   ],
   "source": [
    "sns.boxplot(x='category', y='ad_revenue_usd', data=df)\n",
    "plt.xticks(rotation=45)\n",
    "plt.title(\"Ad Revenue by Video Category\")\n",
    "plt.show()\n"
   ]
  },
  {
   "cell_type": "code",
   "execution_count": null,
   "id": "aff6f28b",
   "metadata": {},
   "outputs": [
    {
     "name": "stdout",
     "output_type": "stream",
     "text": [
      "Correlation between views and ad revenue: 0.04\n"
     ]
    }
   ],
   "source": [
    "corr_value = df['views'].corr(df['ad_revenue_usd'])\n",
    "print(f\"Correlation between views and ad revenue: {corr_value:.2f}\")\n",
    "# Correlation is positive and moderate, indicating that as views increase, ad revenue tends to increase as well."
   ]
  },
  {
   "cell_type": "code",
   "execution_count": null,
   "id": "0ec26e44",
   "metadata": {},
   "outputs": [
    {
     "name": "stdout",
     "output_type": "stream",
     "text": [
      "Correlation between engagement rate and ad revenue: 0.15\n"
     ]
    }
   ],
   "source": [
    "corr_value = df['engagement_rate'].corr(df['ad_revenue_usd'])\n",
    "print(f\"Correlation between engagement rate and ad revenue: {corr_value:.2f}\")\n"
   ]
  },
  {
   "cell_type": "code",
   "execution_count": null,
   "id": "06a7d644",
   "metadata": {},
   "outputs": [
    {
     "name": "stdout",
     "output_type": "stream",
     "text": [
      "Correlation between video length minutes and ad revenue: 0.00\n"
     ]
    }
   ],
   "source": [
    "corr_value = df['video_length_minutes'].corr(df['ad_revenue_usd'])\n",
    "print(f\"Correlation between video length minutes and ad revenue: {corr_value:.2f}\")\n"
   ]
  },
  {
   "cell_type": "code",
   "execution_count": null,
   "id": "e981799f",
   "metadata": {},
   "outputs": [
    {
     "name": "stdout",
     "output_type": "stream",
     "text": [
      "Correlation between watch time minutes and ad revenue: 0.96\n"
     ]
    }
   ],
   "source": [
    "corr_value = df['watch_time_minutes'].corr(df['ad_revenue_usd'])\n",
    "print(f\"Correlation between watch time minutes and ad revenue: {corr_value:.2f}\")\n",
    "#very strong correlation (0.96) between watch time (minutes) and ad revenue."
   ]
  },
  {
   "cell_type": "code",
   "execution_count": null,
   "id": "e9f7878c",
   "metadata": {},
   "outputs": [
    {
     "name": "stdout",
     "output_type": "stream",
     "text": [
      "Correlation between subscribers and ad revenue: 0.01\n"
     ]
    }
   ],
   "source": [
    "corr_value = df['subscribers'].corr(df['ad_revenue_usd'])\n",
    "print(f\"Correlation between subscribers and ad revenue: {corr_value:.2f}\")\n"
   ]
  },
  {
   "cell_type": "code",
   "execution_count": null,
   "id": "910e2736",
   "metadata": {},
   "outputs": [
    {
     "name": "stdout",
     "output_type": "stream",
     "text": [
      "Requirement already satisfied: scipy in c:\\users\\abc\\desktop\\youtube\\.venv\\lib\\site-packages (1.16.1)\n",
      "Requirement already satisfied: numpy<2.6,>=1.25.2 in c:\\users\\abc\\desktop\\youtube\\.venv\\lib\\site-packages (from scipy) (2.3.2)\n"
     ]
    }
   ],
   "source": [
    "!pip install scipy\n"
   ]
  },
  {
   "cell_type": "code",
   "execution_count": null,
   "id": "f988e01d",
   "metadata": {},
   "outputs": [
    {
     "name": "stdout",
     "output_type": "stream",
     "text": [
      "ANOVA F-stat: 1.9170641627638705\n",
      "p-value: 0.08788330768704347\n"
     ]
    }
   ],
   "source": [
    "import scipy.stats as stats\n",
    "\n",
    "groups = [df[df['category'] == cat]['ad_revenue_usd'] for cat in df['category'].unique()]\n",
    "f_stat, pval = stats.f_oneway(*groups)\n",
    "\n",
    "print(\"ANOVA F-stat:\", f_stat)\n",
    "print(\"p-value:\", pval)\n",
    "#Statistically, there’s no strong evidence that ad revenue differs across video categories"
   ]
  },
  {
   "cell_type": "code",
   "execution_count": null,
   "id": "becf7c71",
   "metadata": {},
   "outputs": [
    {
     "name": "stdout",
     "output_type": "stream",
     "text": [
      "ANOVA F-stat: 0.38138224024052614\n",
      "p-value: 0.8618687432381148\n"
     ]
    }
   ],
   "source": [
    "groups = [df[df['country'] == cat]['ad_revenue_usd'] for cat in df['country'].unique()]\n",
    "f_stat, pval = stats.f_oneway(*groups)\n",
    "\n",
    "print(\"ANOVA F-stat:\", f_stat)\n",
    "print(\"p-value:\", pval)"
   ]
  },
  {
   "cell_type": "code",
   "execution_count": 26,
   "id": "cc950258",
   "metadata": {},
   "outputs": [
    {
     "data": {
      "text/html": [
       "<div>\n",
       "<style scoped>\n",
       "    .dataframe tbody tr th:only-of-type {\n",
       "        vertical-align: middle;\n",
       "    }\n",
       "\n",
       "    .dataframe tbody tr th {\n",
       "        vertical-align: top;\n",
       "    }\n",
       "\n",
       "    .dataframe thead th {\n",
       "        text-align: right;\n",
       "    }\n",
       "</style>\n",
       "<table border=\"1\" class=\"dataframe\">\n",
       "  <thead>\n",
       "    <tr style=\"text-align: right;\">\n",
       "      <th></th>\n",
       "      <th>video_id</th>\n",
       "      <th>date</th>\n",
       "      <th>views</th>\n",
       "      <th>likes</th>\n",
       "      <th>comments</th>\n",
       "      <th>watch_time_minutes</th>\n",
       "      <th>video_length_minutes</th>\n",
       "      <th>subscribers</th>\n",
       "      <th>category</th>\n",
       "      <th>device</th>\n",
       "      <th>country</th>\n",
       "      <th>ad_revenue_usd</th>\n",
       "      <th>engagement_rate</th>\n",
       "    </tr>\n",
       "  </thead>\n",
       "  <tbody>\n",
       "    <tr>\n",
       "      <th>0</th>\n",
       "      <td>vid_3092</td>\n",
       "      <td>2024-09-24 10:50:40.993199</td>\n",
       "      <td>9936</td>\n",
       "      <td>1221.0</td>\n",
       "      <td>320.0</td>\n",
       "      <td>26497.214184</td>\n",
       "      <td>2.862137</td>\n",
       "      <td>228086</td>\n",
       "      <td>Entertainment</td>\n",
       "      <td>TV</td>\n",
       "      <td>IN</td>\n",
       "      <td>203.178237</td>\n",
       "      <td>0.155093</td>\n",
       "    </tr>\n",
       "    <tr>\n",
       "      <th>1</th>\n",
       "      <td>vid_3459</td>\n",
       "      <td>2024-09-22 10:50:40.993199</td>\n",
       "      <td>10017</td>\n",
       "      <td>642.0</td>\n",
       "      <td>346.0</td>\n",
       "      <td>15209.747445</td>\n",
       "      <td>23.738069</td>\n",
       "      <td>736015</td>\n",
       "      <td>Gaming</td>\n",
       "      <td>Tablet</td>\n",
       "      <td>CA</td>\n",
       "      <td>140.880508</td>\n",
       "      <td>0.098632</td>\n",
       "    </tr>\n",
       "    <tr>\n",
       "      <th>2</th>\n",
       "      <td>vid_4784</td>\n",
       "      <td>2024-11-21 10:50:40.993199</td>\n",
       "      <td>10097</td>\n",
       "      <td>1979.0</td>\n",
       "      <td>187.0</td>\n",
       "      <td>57332.658498</td>\n",
       "      <td>26.200634</td>\n",
       "      <td>240534</td>\n",
       "      <td>Education</td>\n",
       "      <td>TV</td>\n",
       "      <td>CA</td>\n",
       "      <td>360.134008</td>\n",
       "      <td>0.214519</td>\n",
       "    </tr>\n",
       "    <tr>\n",
       "      <th>3</th>\n",
       "      <td>vid_4078</td>\n",
       "      <td>2025-01-28 10:50:40.993199</td>\n",
       "      <td>10034</td>\n",
       "      <td>1191.0</td>\n",
       "      <td>242.0</td>\n",
       "      <td>31334.517771</td>\n",
       "      <td>11.770340</td>\n",
       "      <td>434482</td>\n",
       "      <td>Entertainment</td>\n",
       "      <td>Mobile</td>\n",
       "      <td>UK</td>\n",
       "      <td>224.638261</td>\n",
       "      <td>0.142814</td>\n",
       "    </tr>\n",
       "    <tr>\n",
       "      <th>4</th>\n",
       "      <td>vid_3522</td>\n",
       "      <td>2025-04-28 10:50:40.993199</td>\n",
       "      <td>9889</td>\n",
       "      <td>1858.0</td>\n",
       "      <td>477.0</td>\n",
       "      <td>15665.666434</td>\n",
       "      <td>6.635854</td>\n",
       "      <td>42030</td>\n",
       "      <td>Education</td>\n",
       "      <td>Mobile</td>\n",
       "      <td>CA</td>\n",
       "      <td>165.514388</td>\n",
       "      <td>0.236121</td>\n",
       "    </tr>\n",
       "  </tbody>\n",
       "</table>\n",
       "</div>"
      ],
      "text/plain": [
       "   video_id                       date  views   likes  comments  \\\n",
       "0  vid_3092 2024-09-24 10:50:40.993199   9936  1221.0     320.0   \n",
       "1  vid_3459 2024-09-22 10:50:40.993199  10017   642.0     346.0   \n",
       "2  vid_4784 2024-11-21 10:50:40.993199  10097  1979.0     187.0   \n",
       "3  vid_4078 2025-01-28 10:50:40.993199  10034  1191.0     242.0   \n",
       "4  vid_3522 2025-04-28 10:50:40.993199   9889  1858.0     477.0   \n",
       "\n",
       "   watch_time_minutes  video_length_minutes  subscribers       category  \\\n",
       "0        26497.214184              2.862137       228086  Entertainment   \n",
       "1        15209.747445             23.738069       736015         Gaming   \n",
       "2        57332.658498             26.200634       240534      Education   \n",
       "3        31334.517771             11.770340       434482  Entertainment   \n",
       "4        15665.666434              6.635854        42030      Education   \n",
       "\n",
       "   device country  ad_revenue_usd  engagement_rate  \n",
       "0      TV      IN      203.178237         0.155093  \n",
       "1  Tablet      CA      140.880508         0.098632  \n",
       "2      TV      CA      360.134008         0.214519  \n",
       "3  Mobile      UK      224.638261         0.142814  \n",
       "4  Mobile      CA      165.514388         0.236121  "
      ]
     },
     "execution_count": 26,
     "metadata": {},
     "output_type": "execute_result"
    }
   ],
   "source": [
    "df.head()\n"
   ]
  },
  {
   "cell_type": "code",
   "execution_count": null,
   "id": "f32086c3",
   "metadata": {},
   "outputs": [
    {
     "data": {
      "text/html": [
       "<div>\n",
       "<style scoped>\n",
       "    .dataframe tbody tr th:only-of-type {\n",
       "        vertical-align: middle;\n",
       "    }\n",
       "\n",
       "    .dataframe tbody tr th {\n",
       "        vertical-align: top;\n",
       "    }\n",
       "\n",
       "    .dataframe thead th {\n",
       "        text-align: right;\n",
       "    }\n",
       "</style>\n",
       "<table border=\"1\" class=\"dataframe\">\n",
       "  <thead>\n",
       "    <tr style=\"text-align: right;\">\n",
       "      <th></th>\n",
       "      <th>video_id</th>\n",
       "      <th>date</th>\n",
       "      <th>views</th>\n",
       "      <th>likes</th>\n",
       "      <th>comments</th>\n",
       "      <th>watch_time_minutes</th>\n",
       "      <th>video_length_minutes</th>\n",
       "      <th>subscribers</th>\n",
       "      <th>category</th>\n",
       "      <th>device</th>\n",
       "      <th>country</th>\n",
       "      <th>ad_revenue_usd</th>\n",
       "      <th>engagement_rate</th>\n",
       "      <th>year</th>\n",
       "      <th>month</th>\n",
       "      <th>day_of_weak</th>\n",
       "      <th>hour</th>\n",
       "    </tr>\n",
       "  </thead>\n",
       "  <tbody>\n",
       "    <tr>\n",
       "      <th>0</th>\n",
       "      <td>vid_3092</td>\n",
       "      <td>2024-09-24 10:50:40.993199</td>\n",
       "      <td>9936</td>\n",
       "      <td>1221.0</td>\n",
       "      <td>320.0</td>\n",
       "      <td>26497.214184</td>\n",
       "      <td>2.862137</td>\n",
       "      <td>228086</td>\n",
       "      <td>Entertainment</td>\n",
       "      <td>TV</td>\n",
       "      <td>IN</td>\n",
       "      <td>203.178237</td>\n",
       "      <td>0.155093</td>\n",
       "      <td>2024</td>\n",
       "      <td>9</td>\n",
       "      <td>1</td>\n",
       "      <td>10</td>\n",
       "    </tr>\n",
       "    <tr>\n",
       "      <th>1</th>\n",
       "      <td>vid_3459</td>\n",
       "      <td>2024-09-22 10:50:40.993199</td>\n",
       "      <td>10017</td>\n",
       "      <td>642.0</td>\n",
       "      <td>346.0</td>\n",
       "      <td>15209.747445</td>\n",
       "      <td>23.738069</td>\n",
       "      <td>736015</td>\n",
       "      <td>Gaming</td>\n",
       "      <td>Tablet</td>\n",
       "      <td>CA</td>\n",
       "      <td>140.880508</td>\n",
       "      <td>0.098632</td>\n",
       "      <td>2024</td>\n",
       "      <td>9</td>\n",
       "      <td>6</td>\n",
       "      <td>10</td>\n",
       "    </tr>\n",
       "    <tr>\n",
       "      <th>2</th>\n",
       "      <td>vid_4784</td>\n",
       "      <td>2024-11-21 10:50:40.993199</td>\n",
       "      <td>10097</td>\n",
       "      <td>1979.0</td>\n",
       "      <td>187.0</td>\n",
       "      <td>57332.658498</td>\n",
       "      <td>26.200634</td>\n",
       "      <td>240534</td>\n",
       "      <td>Education</td>\n",
       "      <td>TV</td>\n",
       "      <td>CA</td>\n",
       "      <td>360.134008</td>\n",
       "      <td>0.214519</td>\n",
       "      <td>2024</td>\n",
       "      <td>11</td>\n",
       "      <td>3</td>\n",
       "      <td>10</td>\n",
       "    </tr>\n",
       "    <tr>\n",
       "      <th>3</th>\n",
       "      <td>vid_4078</td>\n",
       "      <td>2025-01-28 10:50:40.993199</td>\n",
       "      <td>10034</td>\n",
       "      <td>1191.0</td>\n",
       "      <td>242.0</td>\n",
       "      <td>31334.517771</td>\n",
       "      <td>11.770340</td>\n",
       "      <td>434482</td>\n",
       "      <td>Entertainment</td>\n",
       "      <td>Mobile</td>\n",
       "      <td>UK</td>\n",
       "      <td>224.638261</td>\n",
       "      <td>0.142814</td>\n",
       "      <td>2025</td>\n",
       "      <td>1</td>\n",
       "      <td>1</td>\n",
       "      <td>10</td>\n",
       "    </tr>\n",
       "    <tr>\n",
       "      <th>4</th>\n",
       "      <td>vid_3522</td>\n",
       "      <td>2025-04-28 10:50:40.993199</td>\n",
       "      <td>9889</td>\n",
       "      <td>1858.0</td>\n",
       "      <td>477.0</td>\n",
       "      <td>15665.666434</td>\n",
       "      <td>6.635854</td>\n",
       "      <td>42030</td>\n",
       "      <td>Education</td>\n",
       "      <td>Mobile</td>\n",
       "      <td>CA</td>\n",
       "      <td>165.514388</td>\n",
       "      <td>0.236121</td>\n",
       "      <td>2025</td>\n",
       "      <td>4</td>\n",
       "      <td>0</td>\n",
       "      <td>10</td>\n",
       "    </tr>\n",
       "  </tbody>\n",
       "</table>\n",
       "</div>"
      ],
      "text/plain": [
       "   video_id                       date  views   likes  comments  \\\n",
       "0  vid_3092 2024-09-24 10:50:40.993199   9936  1221.0     320.0   \n",
       "1  vid_3459 2024-09-22 10:50:40.993199  10017   642.0     346.0   \n",
       "2  vid_4784 2024-11-21 10:50:40.993199  10097  1979.0     187.0   \n",
       "3  vid_4078 2025-01-28 10:50:40.993199  10034  1191.0     242.0   \n",
       "4  vid_3522 2025-04-28 10:50:40.993199   9889  1858.0     477.0   \n",
       "\n",
       "   watch_time_minutes  video_length_minutes  subscribers       category  \\\n",
       "0        26497.214184              2.862137       228086  Entertainment   \n",
       "1        15209.747445             23.738069       736015         Gaming   \n",
       "2        57332.658498             26.200634       240534      Education   \n",
       "3        31334.517771             11.770340       434482  Entertainment   \n",
       "4        15665.666434              6.635854        42030      Education   \n",
       "\n",
       "   device country  ad_revenue_usd  engagement_rate  year  month  day_of_weak  \\\n",
       "0      TV      IN      203.178237         0.155093  2024      9            1   \n",
       "1  Tablet      CA      140.880508         0.098632  2024      9            6   \n",
       "2      TV      CA      360.134008         0.214519  2024     11            3   \n",
       "3  Mobile      UK      224.638261         0.142814  2025      1            1   \n",
       "4  Mobile      CA      165.514388         0.236121  2025      4            0   \n",
       "\n",
       "   hour  \n",
       "0    10  \n",
       "1    10  \n",
       "2    10  \n",
       "3    10  \n",
       "4    10  "
      ]
     },
     "execution_count": 50,
     "metadata": {},
     "output_type": "execute_result"
    }
   ],
   "source": [
    "df['date'] = pd.to_datetime(df['date'])\n",
    "\n",
    "df['year'] = df['date'].dt.year\n",
    "df['month'] = df['date'].dt.month\n",
    "df['day_of_weak'] = df['date'].dt.dayofweek  # 0=Mon, 6=Sun\n",
    "df['hour'] = df['date'].dt.hour\n",
    "df.head()\n"
   ]
  },
  {
   "cell_type": "code",
   "execution_count": null,
   "id": "015f2aeb",
   "metadata": {},
   "outputs": [
    {
     "ename": "KeyError",
     "evalue": "'day_of_weak'",
     "output_type": "error",
     "traceback": [
      "\u001b[31m---------------------------------------------------------------------------\u001b[39m",
      "\u001b[31mKeyError\u001b[39m                                  Traceback (most recent call last)",
      "\u001b[36mFile \u001b[39m\u001b[32mc:\\Users\\ABC\\Desktop\\youtube\\.venv\\Lib\\site-packages\\pandas\\core\\indexes\\base.py:3812\u001b[39m, in \u001b[36mIndex.get_loc\u001b[39m\u001b[34m(self, key)\u001b[39m\n\u001b[32m   3811\u001b[39m \u001b[38;5;28;01mtry\u001b[39;00m:\n\u001b[32m-> \u001b[39m\u001b[32m3812\u001b[39m     \u001b[38;5;28;01mreturn\u001b[39;00m \u001b[38;5;28;43mself\u001b[39;49m\u001b[43m.\u001b[49m\u001b[43m_engine\u001b[49m\u001b[43m.\u001b[49m\u001b[43mget_loc\u001b[49m\u001b[43m(\u001b[49m\u001b[43mcasted_key\u001b[49m\u001b[43m)\u001b[49m\n\u001b[32m   3813\u001b[39m \u001b[38;5;28;01mexcept\u001b[39;00m \u001b[38;5;167;01mKeyError\u001b[39;00m \u001b[38;5;28;01mas\u001b[39;00m err:\n",
      "\u001b[36mFile \u001b[39m\u001b[32mpandas/_libs/index.pyx:167\u001b[39m, in \u001b[36mpandas._libs.index.IndexEngine.get_loc\u001b[39m\u001b[34m()\u001b[39m\n",
      "\u001b[36mFile \u001b[39m\u001b[32mpandas/_libs/index.pyx:196\u001b[39m, in \u001b[36mpandas._libs.index.IndexEngine.get_loc\u001b[39m\u001b[34m()\u001b[39m\n",
      "\u001b[36mFile \u001b[39m\u001b[32mpandas/_libs/hashtable_class_helper.pxi:7088\u001b[39m, in \u001b[36mpandas._libs.hashtable.PyObjectHashTable.get_item\u001b[39m\u001b[34m()\u001b[39m\n",
      "\u001b[36mFile \u001b[39m\u001b[32mpandas/_libs/hashtable_class_helper.pxi:7096\u001b[39m, in \u001b[36mpandas._libs.hashtable.PyObjectHashTable.get_item\u001b[39m\u001b[34m()\u001b[39m\n",
      "\u001b[31mKeyError\u001b[39m: 'day_of_weak'",
      "\nThe above exception was the direct cause of the following exception:\n",
      "\u001b[31mKeyError\u001b[39m                                  Traceback (most recent call last)",
      "\u001b[36mCell\u001b[39m\u001b[36m \u001b[39m\u001b[32mIn[45]\u001b[39m\u001b[32m, line 1\u001b[39m\n\u001b[32m----> \u001b[39m\u001b[32m1\u001b[39m correlation = \u001b[43mdf\u001b[49m\u001b[43m[\u001b[49m\u001b[33;43m'\u001b[39;49m\u001b[33;43mday_of_weak\u001b[39;49m\u001b[33;43m'\u001b[39;49m\u001b[43m]\u001b[49m.corr(df[\u001b[33m'\u001b[39m\u001b[33mad_revenue_usd\u001b[39m\u001b[33m'\u001b[39m])\n\u001b[32m      2\u001b[39m \u001b[38;5;28mprint\u001b[39m(\u001b[33m\"\u001b[39m\u001b[33mCorrelation between Weak and Revenue:\u001b[39m\u001b[33m\"\u001b[39m, correlation)\n",
      "\u001b[36mFile \u001b[39m\u001b[32mc:\\Users\\ABC\\Desktop\\youtube\\.venv\\Lib\\site-packages\\pandas\\core\\frame.py:4107\u001b[39m, in \u001b[36mDataFrame.__getitem__\u001b[39m\u001b[34m(self, key)\u001b[39m\n\u001b[32m   4105\u001b[39m \u001b[38;5;28;01mif\u001b[39;00m \u001b[38;5;28mself\u001b[39m.columns.nlevels > \u001b[32m1\u001b[39m:\n\u001b[32m   4106\u001b[39m     \u001b[38;5;28;01mreturn\u001b[39;00m \u001b[38;5;28mself\u001b[39m._getitem_multilevel(key)\n\u001b[32m-> \u001b[39m\u001b[32m4107\u001b[39m indexer = \u001b[38;5;28;43mself\u001b[39;49m\u001b[43m.\u001b[49m\u001b[43mcolumns\u001b[49m\u001b[43m.\u001b[49m\u001b[43mget_loc\u001b[49m\u001b[43m(\u001b[49m\u001b[43mkey\u001b[49m\u001b[43m)\u001b[49m\n\u001b[32m   4108\u001b[39m \u001b[38;5;28;01mif\u001b[39;00m is_integer(indexer):\n\u001b[32m   4109\u001b[39m     indexer = [indexer]\n",
      "\u001b[36mFile \u001b[39m\u001b[32mc:\\Users\\ABC\\Desktop\\youtube\\.venv\\Lib\\site-packages\\pandas\\core\\indexes\\base.py:3819\u001b[39m, in \u001b[36mIndex.get_loc\u001b[39m\u001b[34m(self, key)\u001b[39m\n\u001b[32m   3814\u001b[39m     \u001b[38;5;28;01mif\u001b[39;00m \u001b[38;5;28misinstance\u001b[39m(casted_key, \u001b[38;5;28mslice\u001b[39m) \u001b[38;5;129;01mor\u001b[39;00m (\n\u001b[32m   3815\u001b[39m         \u001b[38;5;28misinstance\u001b[39m(casted_key, abc.Iterable)\n\u001b[32m   3816\u001b[39m         \u001b[38;5;129;01mand\u001b[39;00m \u001b[38;5;28many\u001b[39m(\u001b[38;5;28misinstance\u001b[39m(x, \u001b[38;5;28mslice\u001b[39m) \u001b[38;5;28;01mfor\u001b[39;00m x \u001b[38;5;129;01min\u001b[39;00m casted_key)\n\u001b[32m   3817\u001b[39m     ):\n\u001b[32m   3818\u001b[39m         \u001b[38;5;28;01mraise\u001b[39;00m InvalidIndexError(key)\n\u001b[32m-> \u001b[39m\u001b[32m3819\u001b[39m     \u001b[38;5;28;01mraise\u001b[39;00m \u001b[38;5;167;01mKeyError\u001b[39;00m(key) \u001b[38;5;28;01mfrom\u001b[39;00m\u001b[38;5;250m \u001b[39m\u001b[34;01merr\u001b[39;00m\n\u001b[32m   3820\u001b[39m \u001b[38;5;28;01mexcept\u001b[39;00m \u001b[38;5;167;01mTypeError\u001b[39;00m:\n\u001b[32m   3821\u001b[39m     \u001b[38;5;66;03m# If we have a listlike key, _check_indexing_error will raise\u001b[39;00m\n\u001b[32m   3822\u001b[39m     \u001b[38;5;66;03m#  InvalidIndexError. Otherwise we fall through and re-raise\u001b[39;00m\n\u001b[32m   3823\u001b[39m     \u001b[38;5;66;03m#  the TypeError.\u001b[39;00m\n\u001b[32m   3824\u001b[39m     \u001b[38;5;28mself\u001b[39m._check_indexing_error(key)\n",
      "\u001b[31mKeyError\u001b[39m: 'day_of_weak'"
     ]
    },
    {
     "ename": "KeyboardInterrupt",
     "evalue": "",
     "output_type": "error",
     "traceback": [
      "\u001b[31m---------------------------------------------------------------------------\u001b[39m",
      "\u001b[31mKeyboardInterrupt\u001b[39m                         Traceback (most recent call last)",
      "\u001b[36mFile \u001b[39m\u001b[32mc:\\Users\\ABC\\Desktop\\youtube\\.venv\\Lib\\site-packages\\IPython\\core\\async_helpers.py:128\u001b[39m, in \u001b[36m_pseudo_sync_runner\u001b[39m\u001b[34m(coro)\u001b[39m\n\u001b[32m    120\u001b[39m \u001b[38;5;250m\u001b[39m\u001b[33;03m\"\"\"\u001b[39;00m\n\u001b[32m    121\u001b[39m \u001b[33;03mA runner that does not really allow async execution, and just advance the coroutine.\u001b[39;00m\n\u001b[32m    122\u001b[39m \n\u001b[32m   (...)\u001b[39m\u001b[32m    125\u001b[39m \u001b[33;03mCredit to Nathaniel Smith\u001b[39;00m\n\u001b[32m    126\u001b[39m \u001b[33;03m\"\"\"\u001b[39;00m\n\u001b[32m    127\u001b[39m \u001b[38;5;28;01mtry\u001b[39;00m:\n\u001b[32m--> \u001b[39m\u001b[32m128\u001b[39m     \u001b[43mcoro\u001b[49m\u001b[43m.\u001b[49m\u001b[43msend\u001b[49m\u001b[43m(\u001b[49m\u001b[38;5;28;43;01mNone\u001b[39;49;00m\u001b[43m)\u001b[49m\n\u001b[32m    129\u001b[39m \u001b[38;5;28;01mexcept\u001b[39;00m \u001b[38;5;167;01mStopIteration\u001b[39;00m \u001b[38;5;28;01mas\u001b[39;00m exc:\n\u001b[32m    130\u001b[39m     \u001b[38;5;28;01mreturn\u001b[39;00m exc.value\n",
      "\u001b[36mFile \u001b[39m\u001b[32mc:\\Users\\ABC\\Desktop\\youtube\\.venv\\Lib\\site-packages\\IPython\\core\\interactiveshell.py:3417\u001b[39m, in \u001b[36mInteractiveShell.run_cell_async\u001b[39m\u001b[34m(self, raw_cell, store_history, silent, shell_futures, transformed_cell, preprocessing_exc_tuple, cell_id)\u001b[39m\n\u001b[32m   3412\u001b[39m         \u001b[38;5;28mself\u001b[39m.history_manager.exceptions[exec_count] = (\n\u001b[32m   3413\u001b[39m             \u001b[38;5;28mself\u001b[39m._format_exception_for_storage(result.error_in_exec)\n\u001b[32m   3414\u001b[39m         )\n\u001b[32m   3416\u001b[39m     \u001b[38;5;66;03m# Each cell is a *single* input, regardless of how many lines it has\u001b[39;00m\n\u001b[32m-> \u001b[39m\u001b[32m3417\u001b[39m     \u001b[38;5;28;43mself\u001b[39;49m\u001b[43m.\u001b[49m\u001b[43mexecution_count\u001b[49m += \u001b[32m1\u001b[39m\n\u001b[32m   3419\u001b[39m \u001b[38;5;28;01mreturn\u001b[39;00m result\n",
      "\u001b[36mFile \u001b[39m\u001b[32mc:\\Users\\ABC\\Desktop\\youtube\\.venv\\Lib\\site-packages\\traitlets\\traitlets.py:716\u001b[39m, in \u001b[36mTraitType.__set__\u001b[39m\u001b[34m(self, obj, value)\u001b[39m\n\u001b[32m    714\u001b[39m \u001b[38;5;28;01mif\u001b[39;00m \u001b[38;5;28mself\u001b[39m.read_only:\n\u001b[32m    715\u001b[39m     \u001b[38;5;28;01mraise\u001b[39;00m TraitError(\u001b[33m'\u001b[39m\u001b[33mThe \u001b[39m\u001b[33m\"\u001b[39m\u001b[38;5;132;01m%s\u001b[39;00m\u001b[33m\"\u001b[39m\u001b[33m trait is read-only.\u001b[39m\u001b[33m'\u001b[39m % \u001b[38;5;28mself\u001b[39m.name)\n\u001b[32m--> \u001b[39m\u001b[32m716\u001b[39m \u001b[38;5;28;43mself\u001b[39;49m\u001b[43m.\u001b[49m\u001b[43mset\u001b[49m\u001b[43m(\u001b[49m\u001b[43mobj\u001b[49m\u001b[43m,\u001b[49m\u001b[43m \u001b[49m\u001b[43mvalue\u001b[49m\u001b[43m)\u001b[49m\n",
      "\u001b[36mFile \u001b[39m\u001b[32mc:\\Users\\ABC\\Desktop\\youtube\\.venv\\Lib\\site-packages\\traitlets\\traitlets.py:690\u001b[39m, in \u001b[36mTraitType.set\u001b[39m\u001b[34m(self, obj, value)\u001b[39m\n\u001b[32m    689\u001b[39m \u001b[38;5;28;01mdef\u001b[39;00m\u001b[38;5;250m \u001b[39m\u001b[34mset\u001b[39m(\u001b[38;5;28mself\u001b[39m, obj: HasTraits, value: S) -> \u001b[38;5;28;01mNone\u001b[39;00m:\n\u001b[32m--> \u001b[39m\u001b[32m690\u001b[39m     new_value = \u001b[38;5;28;43mself\u001b[39;49m\u001b[43m.\u001b[49m\u001b[43m_validate\u001b[49m\u001b[43m(\u001b[49m\u001b[43mobj\u001b[49m\u001b[43m,\u001b[49m\u001b[43m \u001b[49m\u001b[43mvalue\u001b[49m\u001b[43m)\u001b[49m\n\u001b[32m    691\u001b[39m     \u001b[38;5;28;01massert\u001b[39;00m \u001b[38;5;28mself\u001b[39m.name \u001b[38;5;129;01mis\u001b[39;00m \u001b[38;5;129;01mnot\u001b[39;00m \u001b[38;5;28;01mNone\u001b[39;00m\n\u001b[32m    692\u001b[39m     \u001b[38;5;28;01mtry\u001b[39;00m:\n",
      "\u001b[36mFile \u001b[39m\u001b[32mc:\\Users\\ABC\\Desktop\\youtube\\.venv\\Lib\\site-packages\\traitlets\\traitlets.py:724\u001b[39m, in \u001b[36mTraitType._validate\u001b[39m\u001b[34m(self, obj, value)\u001b[39m\n\u001b[32m    722\u001b[39m     value = \u001b[38;5;28mself\u001b[39m.validate(obj, value)\n\u001b[32m    723\u001b[39m \u001b[38;5;28;01mif\u001b[39;00m obj._cross_validation_lock \u001b[38;5;129;01mis\u001b[39;00m \u001b[38;5;28;01mFalse\u001b[39;00m:\n\u001b[32m--> \u001b[39m\u001b[32m724\u001b[39m     value = \u001b[38;5;28;43mself\u001b[39;49m\u001b[43m.\u001b[49m\u001b[43m_cross_validate\u001b[49m\u001b[43m(\u001b[49m\u001b[43mobj\u001b[49m\u001b[43m,\u001b[49m\u001b[43m \u001b[49m\u001b[43mvalue\u001b[49m\u001b[43m)\u001b[49m\n\u001b[32m    725\u001b[39m \u001b[38;5;28;01mreturn\u001b[39;00m t.cast(G, value)\n",
      "\u001b[36mFile \u001b[39m\u001b[32mc:\\Users\\ABC\\Desktop\\youtube\\.venv\\Lib\\site-packages\\traitlets\\traitlets.py:741\u001b[39m, in \u001b[36mTraitType._cross_validate\u001b[39m\u001b[34m(self, obj, value)\u001b[39m\n\u001b[32m    734\u001b[39m     deprecated_method(\n\u001b[32m    735\u001b[39m         cross_validate,\n\u001b[32m    736\u001b[39m         obj.\u001b[34m__class__\u001b[39m,\n\u001b[32m    737\u001b[39m         meth_name,\n\u001b[32m    738\u001b[39m         \u001b[33m\"\u001b[39m\u001b[33muse @validate decorator instead.\u001b[39m\u001b[33m\"\u001b[39m,\n\u001b[32m    739\u001b[39m     )\n\u001b[32m    740\u001b[39m     value = cross_validate(value, \u001b[38;5;28mself\u001b[39m)\n\u001b[32m--> \u001b[39m\u001b[32m741\u001b[39m \u001b[38;5;28;01mreturn\u001b[39;00m \u001b[43mt\u001b[49m\u001b[43m.\u001b[49m\u001b[43mcast\u001b[49m\u001b[43m(\u001b[49m\u001b[43mG\u001b[49m\u001b[43m,\u001b[49m\u001b[43m \u001b[49m\u001b[43mvalue\u001b[49m\u001b[43m)\u001b[49m\n",
      "\u001b[36mFile \u001b[39m\u001b[32m~\\AppData\\Local\\Programs\\Python\\Python313\\Lib\\typing.py:2371\u001b[39m, in \u001b[36mcast\u001b[39m\u001b[34m(typ, val)\u001b[39m\n\u001b[32m   2367\u001b[39m                 \u001b[38;5;28mcls\u001b[39m.__non_callable_proto_members__.add(attr)\n\u001b[32m   2368\u001b[39m     \u001b[38;5;28;01mreturn\u001b[39;00m \u001b[38;5;28mcls\u001b[39m\n\u001b[32m-> \u001b[39m\u001b[32m2371\u001b[39m \u001b[38;5;28;01mdef\u001b[39;00m\u001b[38;5;250m \u001b[39m\u001b[34mcast\u001b[39m(typ, val):\n\u001b[32m   2372\u001b[39m \u001b[38;5;250m    \u001b[39m\u001b[33;03m\"\"\"Cast a value to a type.\u001b[39;00m\n\u001b[32m   2373\u001b[39m \n\u001b[32m   2374\u001b[39m \u001b[33;03m    This returns the value unchanged.  To the type checker this\u001b[39;00m\n\u001b[32m   (...)\u001b[39m\u001b[32m   2377\u001b[39m \u001b[33;03m    to be as fast as possible).\u001b[39;00m\n\u001b[32m   2378\u001b[39m \u001b[33;03m    \"\"\"\u001b[39;00m\n\u001b[32m   2379\u001b[39m     \u001b[38;5;28;01mreturn\u001b[39;00m val\n",
      "\u001b[31mKeyboardInterrupt\u001b[39m: "
     ]
    }
   ],
   "source": [
    "\n",
    "correlation = df['day_of_weak'].corr(df['ad_revenue_usd'])\n",
    "print(\"Correlation between Weak and Revenue:\", correlation)"
   ]
  },
  {
   "cell_type": "code",
   "execution_count": null,
   "id": "62f61cd5",
   "metadata": {},
   "outputs": [
    {
     "data": {
      "image/png": "[encoded data removed]",
      "text/plain": [
       "<Figure size 1400x600 with 1 Axes>"
      ]
     },
     "metadata": {},
     "output_type": "display_data"
    }
   ],
   "source": [
    "plt.figure(figsize=(14,6))\n",
    "plt.plot(df['day_of_weak'], df['ad_revenue_usd'], marker='o', color='blue')\n",
    "plt.title(\"Weekly Ad Revenue Trend\")\n",
    "plt.xlabel(\"Weak\")\n",
    "plt.ylabel(\"Revenue (USD)\")\n",
    "plt.show()\n"
   ]
  },
  {
   "cell_type": "code",
   "execution_count": 28,
   "id": "14b2843c",
   "metadata": {},
   "outputs": [
    {
     "name": "stdout",
     "output_type": "stream",
     "text": [
      "<class 'pandas.core.frame.DataFrame'>\n",
      "Index: 120000 entries, 0 to 122399\n",
      "Data columns (total 13 columns):\n",
      " #   Column                Non-Null Count   Dtype         \n",
      "---  ------                --------------   -----         \n",
      " 0   video_id              120000 non-null  object        \n",
      " 1   date                  120000 non-null  datetime64[ns]\n",
      " 2   views                 120000 non-null  int64         \n",
      " 3   likes                 120000 non-null  float64       \n",
      " 4   comments              120000 non-null  float64       \n",
      " 5   watch_time_minutes    120000 non-null  float64       \n",
      " 6   video_length_minutes  120000 non-null  float64       \n",
      " 7   subscribers           120000 non-null  int64         \n",
      " 8   category              120000 non-null  object        \n",
      " 9   device                120000 non-null  object        \n",
      " 10  country               120000 non-null  object        \n",
      " 11  ad_revenue_usd        120000 non-null  float64       \n",
      " 12  engagement_rate       120000 non-null  float64       \n",
      "dtypes: datetime64[ns](1), float64(6), int64(2), object(4)\n",
      "memory usage: 12.8+ MB\n"
     ]
    }
   ],
   "source": [
    "df.info()"
   ]
  },
  {
   "cell_type": "code",
   "execution_count": 30,
   "id": "48cf847c",
   "metadata": {},
   "outputs": [],
   "source": [
    "x=df.drop('ad_revenue_usd', axis=1)\n",
    "y=df['ad_revenue_usd']  "
   ]
  },
  {
   "cell_type": "code",
   "execution_count": 31,
   "id": "44df412c",
   "metadata": {},
   "outputs": [
    {
     "data": {
      "text/html": [
       "<div>\n",
       "<style scoped>\n",
       "    .dataframe tbody tr th:only-of-type {\n",
       "        vertical-align: middle;\n",
       "    }\n",
       "\n",
       "    .dataframe tbody tr th {\n",
       "        vertical-align: top;\n",
       "    }\n",
       "\n",
       "    .dataframe thead th {\n",
       "        text-align: right;\n",
       "    }\n",
       "</style>\n",
       "<table border=\"1\" class=\"dataframe\">\n",
       "  <thead>\n",
       "    <tr style=\"text-align: right;\">\n",
       "      <th></th>\n",
       "      <th>video_id</th>\n",
       "      <th>date</th>\n",
       "      <th>views</th>\n",
       "      <th>likes</th>\n",
       "      <th>comments</th>\n",
       "      <th>watch_time_minutes</th>\n",
       "      <th>video_length_minutes</th>\n",
       "      <th>subscribers</th>\n",
       "      <th>category</th>\n",
       "      <th>device</th>\n",
       "      <th>country</th>\n",
       "      <th>engagement_rate</th>\n",
       "    </tr>\n",
       "  </thead>\n",
       "  <tbody>\n",
       "    <tr>\n",
       "      <th>0</th>\n",
       "      <td>vid_3092</td>\n",
       "      <td>2024-09-24 10:50:40.993199</td>\n",
       "      <td>9936</td>\n",
       "      <td>1221.0</td>\n",
       "      <td>320.0</td>\n",
       "      <td>26497.214184</td>\n",
       "      <td>2.862137</td>\n",
       "      <td>228086</td>\n",
       "      <td>Entertainment</td>\n",
       "      <td>TV</td>\n",
       "      <td>IN</td>\n",
       "      <td>0.155093</td>\n",
       "    </tr>\n",
       "    <tr>\n",
       "      <th>1</th>\n",
       "      <td>vid_3459</td>\n",
       "      <td>2024-09-22 10:50:40.993199</td>\n",
       "      <td>10017</td>\n",
       "      <td>642.0</td>\n",
       "      <td>346.0</td>\n",
       "      <td>15209.747445</td>\n",
       "      <td>23.738069</td>\n",
       "      <td>736015</td>\n",
       "      <td>Gaming</td>\n",
       "      <td>Tablet</td>\n",
       "      <td>CA</td>\n",
       "      <td>0.098632</td>\n",
       "    </tr>\n",
       "    <tr>\n",
       "      <th>2</th>\n",
       "      <td>vid_4784</td>\n",
       "      <td>2024-11-21 10:50:40.993199</td>\n",
       "      <td>10097</td>\n",
       "      <td>1979.0</td>\n",
       "      <td>187.0</td>\n",
       "      <td>57332.658498</td>\n",
       "      <td>26.200634</td>\n",
       "      <td>240534</td>\n",
       "      <td>Education</td>\n",
       "      <td>TV</td>\n",
       "      <td>CA</td>\n",
       "      <td>0.214519</td>\n",
       "    </tr>\n",
       "    <tr>\n",
       "      <th>3</th>\n",
       "      <td>vid_4078</td>\n",
       "      <td>2025-01-28 10:50:40.993199</td>\n",
       "      <td>10034</td>\n",
       "      <td>1191.0</td>\n",
       "      <td>242.0</td>\n",
       "      <td>31334.517771</td>\n",
       "      <td>11.770340</td>\n",
       "      <td>434482</td>\n",
       "      <td>Entertainment</td>\n",
       "      <td>Mobile</td>\n",
       "      <td>UK</td>\n",
       "      <td>0.142814</td>\n",
       "    </tr>\n",
       "    <tr>\n",
       "      <th>4</th>\n",
       "      <td>vid_3522</td>\n",
       "      <td>2025-04-28 10:50:40.993199</td>\n",
       "      <td>9889</td>\n",
       "      <td>1858.0</td>\n",
       "      <td>477.0</td>\n",
       "      <td>15665.666434</td>\n",
       "      <td>6.635854</td>\n",
       "      <td>42030</td>\n",
       "      <td>Education</td>\n",
       "      <td>Mobile</td>\n",
       "      <td>CA</td>\n",
       "      <td>0.236121</td>\n",
       "    </tr>\n",
       "  </tbody>\n",
       "</table>\n",
       "</div>"
      ],
      "text/plain": [
       "   video_id                       date  views   likes  comments  \\\n",
       "0  vid_3092 2024-09-24 10:50:40.993199   9936  1221.0     320.0   \n",
       "1  vid_3459 2024-09-22 10:50:40.993199  10017   642.0     346.0   \n",
       "2  vid_4784 2024-11-21 10:50:40.993199  10097  1979.0     187.0   \n",
       "3  vid_4078 2025-01-28 10:50:40.993199  10034  1191.0     242.0   \n",
       "4  vid_3522 2025-04-28 10:50:40.993199   9889  1858.0     477.0   \n",
       "\n",
       "   watch_time_minutes  video_length_minutes  subscribers       category  \\\n",
       "0        26497.214184              2.862137       228086  Entertainment   \n",
       "1        15209.747445             23.738069       736015         Gaming   \n",
       "2        57332.658498             26.200634       240534      Education   \n",
       "3        31334.517771             11.770340       434482  Entertainment   \n",
       "4        15665.666434              6.635854        42030      Education   \n",
       "\n",
       "   device country  engagement_rate  \n",
       "0      TV      IN         0.155093  \n",
       "1  Tablet      CA         0.098632  \n",
       "2      TV      CA         0.214519  \n",
       "3  Mobile      UK         0.142814  \n",
       "4  Mobile      CA         0.236121  "
      ]
     },
     "execution_count": 31,
     "metadata": {},
     "output_type": "execute_result"
    }
   ],
   "source": [
    "x.head()"
   ]
  },
  {
   "cell_type": "code",
   "execution_count": 32,
   "id": "86d8c922",
   "metadata": {},
   "outputs": [],
   "source": [
    "\n",
    "# dropping subscribers, video_length_minutes\n",
    "X = x.drop(['video_id','subscribers', 'video_length_minutes','date'], axis=1)\n"
   ]
  },
  {
   "cell_type": "code",
   "execution_count": 31,
   "id": "87737059",
   "metadata": {},
   "outputs": [
    {
     "data": {
      "text/html": [
       "<div>\n",
       "<style scoped>\n",
       "    .dataframe tbody tr th:only-of-type {\n",
       "        vertical-align: middle;\n",
       "    }\n",
       "\n",
       "    .dataframe tbody tr th {\n",
       "        vertical-align: top;\n",
       "    }\n",
       "\n",
       "    .dataframe thead th {\n",
       "        text-align: right;\n",
       "    }\n",
       "</style>\n",
       "<table border=\"1\" class=\"dataframe\">\n",
       "  <thead>\n",
       "    <tr style=\"text-align: right;\">\n",
       "      <th></th>\n",
       "      <th>views</th>\n",
       "      <th>likes</th>\n",
       "      <th>comments</th>\n",
       "      <th>watch_time_minutes</th>\n",
       "      <th>category</th>\n",
       "      <th>device</th>\n",
       "      <th>country</th>\n",
       "      <th>engagement_rate</th>\n",
       "    </tr>\n",
       "  </thead>\n",
       "  <tbody>\n",
       "    <tr>\n",
       "      <th>0</th>\n",
       "      <td>9936</td>\n",
       "      <td>1221.0</td>\n",
       "      <td>320.0</td>\n",
       "      <td>26497.214184</td>\n",
       "      <td>Entertainment</td>\n",
       "      <td>TV</td>\n",
       "      <td>IN</td>\n",
       "      <td>0.155093</td>\n",
       "    </tr>\n",
       "    <tr>\n",
       "      <th>1</th>\n",
       "      <td>10017</td>\n",
       "      <td>642.0</td>\n",
       "      <td>346.0</td>\n",
       "      <td>15209.747445</td>\n",
       "      <td>Gaming</td>\n",
       "      <td>Tablet</td>\n",
       "      <td>CA</td>\n",
       "      <td>0.098632</td>\n",
       "    </tr>\n",
       "    <tr>\n",
       "      <th>2</th>\n",
       "      <td>10097</td>\n",
       "      <td>1979.0</td>\n",
       "      <td>187.0</td>\n",
       "      <td>57332.658498</td>\n",
       "      <td>Education</td>\n",
       "      <td>TV</td>\n",
       "      <td>CA</td>\n",
       "      <td>0.214519</td>\n",
       "    </tr>\n",
       "    <tr>\n",
       "      <th>3</th>\n",
       "      <td>10034</td>\n",
       "      <td>1191.0</td>\n",
       "      <td>242.0</td>\n",
       "      <td>31334.517771</td>\n",
       "      <td>Entertainment</td>\n",
       "      <td>Mobile</td>\n",
       "      <td>UK</td>\n",
       "      <td>0.142814</td>\n",
       "    </tr>\n",
       "    <tr>\n",
       "      <th>4</th>\n",
       "      <td>9889</td>\n",
       "      <td>1858.0</td>\n",
       "      <td>477.0</td>\n",
       "      <td>15665.666434</td>\n",
       "      <td>Education</td>\n",
       "      <td>Mobile</td>\n",
       "      <td>CA</td>\n",
       "      <td>0.236121</td>\n",
       "    </tr>\n",
       "  </tbody>\n",
       "</table>\n",
       "</div>"
      ],
      "text/plain": [
       "   views   likes  comments  watch_time_minutes       category  device country  \\\n",
       "0   9936  1221.0     320.0        26497.214184  Entertainment      TV      IN   \n",
       "1  10017   642.0     346.0        15209.747445         Gaming  Tablet      CA   \n",
       "2  10097  1979.0     187.0        57332.658498      Education      TV      CA   \n",
       "3  10034  1191.0     242.0        31334.517771  Entertainment  Mobile      UK   \n",
       "4   9889  1858.0     477.0        15665.666434      Education  Mobile      CA   \n",
       "\n",
       "   engagement_rate  \n",
       "0         0.155093  \n",
       "1         0.098632  \n",
       "2         0.214519  \n",
       "3         0.142814  \n",
       "4         0.236121  "
      ]
     },
     "execution_count": 31,
     "metadata": {},
     "output_type": "execute_result"
    }
   ],
   "source": [
    "X.head()"
   ]
  },
  {
   "cell_type": "code",
   "execution_count": 33,
   "id": "fe172feb",
   "metadata": {},
   "outputs": [
    {
     "data": {
      "text/plain": [
       "0    203.178237\n",
       "1    140.880508\n",
       "2    360.134008\n",
       "3    224.638261\n",
       "4    165.514388\n",
       "Name: ad_revenue_usd, dtype: float64"
      ]
     },
     "execution_count": 33,
     "metadata": {},
     "output_type": "execute_result"
    }
   ],
   "source": [
    "y.head()"
   ]
  },
  {
   "cell_type": "code",
   "execution_count": 34,
   "id": "6927ddbc",
   "metadata": {},
   "outputs": [
    {
     "name": "stdout",
     "output_type": "stream",
     "text": [
      "Index(['category', 'device', 'country'], dtype='object')\n"
     ]
    }
   ],
   "source": [
    "categorical_cols = X.select_dtypes(include=['object', 'category']).columns\n",
    "print(categorical_cols)"
   ]
  },
  {
   "cell_type": "code",
   "execution_count": null,
   "id": "680528bb",
   "metadata": {},
   "outputs": [
    {
     "data": {
      "text/plain": [
       "<Axes: xlabel='category'>"
      ]
     },
     "execution_count": 54,
     "metadata": {},
     "output_type": "execute_result"
    },
    {
     "data": {
      "image/png": "[encoded data removed]",
      "text/plain": [
       "<Figure size 640x480 with 1 Axes>"
      ]
     },
     "metadata": {},
     "output_type": "display_data"
    }
   ],
   "source": [
    "df.groupby(['category'])['ad_revenue_usd'].mean().sort_values(ascending=False).plot(kind='bar')"
   ]
  },
  {
   "cell_type": "code",
   "execution_count": null,
   "id": "dbee1f78",
   "metadata": {},
   "outputs": [
    {
     "data": {
      "text/plain": [
       "<Axes: xlabel='country'>"
      ]
     },
     "execution_count": 55,
     "metadata": {},
     "output_type": "execute_result"
    },
    {
     "data": {
      "image/png": "[encoded data removed]",
      "text/plain": [
       "<Figure size 640x480 with 1 Axes>"
      ]
     },
     "metadata": {},
     "output_type": "display_data"
    }
   ],
   "source": [
    "df.groupby(['country'])['ad_revenue_usd'].mean().sort_values(ascending=False).plot(kind='bar')"
   ]
  },
  {
   "cell_type": "code",
   "execution_count": null,
   "id": "ce42875f",
   "metadata": {},
   "outputs": [
    {
     "data": {
      "text/plain": [
       "<Axes: xlabel='device'>"
      ]
     },
     "execution_count": 60,
     "metadata": {},
     "output_type": "execute_result"
    },
    {
     "data": {
      "image/png": "[encoded data removed]",
      "text/plain": [
       "<Figure size 640x480 with 1 Axes>"
      ]
     },
     "metadata": {},
     "output_type": "display_data"
    }
   ],
   "source": [
    "df.groupby(['device'])['ad_revenue_usd'].mean().sort_values(ascending=False).plot(kind='bar')"
   ]
  },
  {
   "cell_type": "code",
   "execution_count": null,
   "id": "41e85ba7",
   "metadata": {},
   "outputs": [
    {
     "name": "stdout",
     "output_type": "stream",
     "text": [
      "Collecting scikit-learn\n",
      "  Downloading scikit_learn-1.7.1-cp313-cp313-win_amd64.whl.metadata (11 kB)\n",
      "Requirement already satisfied: numpy>=1.22.0 in c:\\users\\abc\\desktop\\youtube\\.venv\\lib\\site-packages (from scikit-learn) (2.3.2)\n",
      "Requirement already satisfied: scipy>=1.8.0 in c:\\users\\abc\\desktop\\youtube\\.venv\\lib\\site-packages (from scikit-learn) (1.16.1)\n",
      "Collecting joblib>=1.2.0 (from scikit-learn)\n",
      "  Downloading joblib-1.5.2-py3-none-any.whl.metadata (5.6 kB)\n",
      "Collecting threadpoolctl>=3.1.0 (from scikit-learn)\n",
      "  Downloading threadpoolctl-3.6.0-py3-none-any.whl.metadata (13 kB)\n",
      "Downloading scikit_learn-1.7.1-cp313-cp313-win_amd64.whl (8.7 MB)\n",
      "   ---------------------------------------- 0.0/8.7 MB ? eta -:--:--\n",
      "   -- ------------------------------------- 0.5/8.7 MB 5.7 MB/s eta 0:00:02\n",
      "   --------- ------------------------------ 2.1/8.7 MB 6.4 MB/s eta 0:00:02\n",
      "   ------------------- -------------------- 4.2/8.7 MB 7.7 MB/s eta 0:00:01\n",
      "   ------------------------- -------------- 5.5/8.7 MB 7.5 MB/s eta 0:00:01\n",
      "   ------------------------------- -------- 6.8/8.7 MB 7.4 MB/s eta 0:00:01\n",
      "   ------------------------------------ --- 7.9/8.7 MB 6.7 MB/s eta 0:00:01\n",
      "   -------------------------------------- - 8.4/8.7 MB 6.3 MB/s eta 0:00:01\n",
      "   ---------------------------------------- 8.7/8.7 MB 6.0 MB/s  0:00:01\n",
      "Downloading joblib-1.5.2-py3-none-any.whl (308 kB)\n",
      "Downloading threadpoolctl-3.6.0-py3-none-any.whl (18 kB)\n",
      "Installing collected packages: threadpoolctl, joblib, scikit-learn\n",
      "\n",
      "   ------------- -------------------------- 1/3 [joblib]\n",
      "   ------------- -------------------------- 1/3 [joblib]\n",
      "   ------------- -------------------------- 1/3 [joblib]\n",
      "   ------------- -------------------------- 1/3 [joblib]\n",
      "   ------------- -------------------------- 1/3 [joblib]\n",
      "   ------------- -------------------------- 1/3 [joblib]\n",
      "   ------------- -------------------------- 1/3 [joblib]\n",
      "   ------------- -------------------------- 1/3 [joblib]\n",
      "   ------------- -------------------------- 1/3 [joblib]\n",
      "   ------------- -------------------------- 1/3 [joblib]\n",
      "   ------------- -------------------------- 1/3 [joblib]\n",
      "   ------------- -------------------------- 1/3 [joblib]\n",
      "   -------------------------- ------------- 2/3 [scikit-learn]\n",
      "   -------------------------- ------------- 2/3 [scikit-learn]\n",
      "   -------------------------- ------------- 2/3 [scikit-learn]\n",
      "   -------------------------- ------------- 2/3 [scikit-learn]\n",
      "   -------------------------- ------------- 2/3 [scikit-learn]\n",
      "   -------------------------- ------------- 2/3 [scikit-learn]\n",
      "   -------------------------- ------------- 2/3 [scikit-learn]\n",
      "   -------------------------- ------------- 2/3 [scikit-learn]\n",
      "   -------------------------- ------------- 2/3 [scikit-learn]\n",
      "   -------------------------- ------------- 2/3 [scikit-learn]\n",
      "   -------------------------- ------------- 2/3 [scikit-learn]\n",
      "   -------------------------- ------------- 2/3 [scikit-learn]\n",
      "   -------------------------- ------------- 2/3 [scikit-learn]\n",
      "   -------------------------- ------------- 2/3 [scikit-learn]\n",
      "   -------------------------- ------------- 2/3 [scikit-learn]\n",
      "   -------------------------- ------------- 2/3 [scikit-learn]\n",
      "   -------------------------- ------------- 2/3 [scikit-learn]\n",
      "   -------------------------- ------------- 2/3 [scikit-learn]\n",
      "   -------------------------- ------------- 2/3 [scikit-learn]\n",
      "   -------------------------- ------------- 2/3 [scikit-learn]\n",
      "   -------------------------- ------------- 2/3 [scikit-learn]\n",
      "   -------------------------- ------------- 2/3 [scikit-learn]\n",
      "   -------------------------- ------------- 2/3 [scikit-learn]\n",
      "   -------------------------- ------------- 2/3 [scikit-learn]\n",
      "   -------------------------- ------------- 2/3 [scikit-learn]\n",
      "   -------------------------- ------------- 2/3 [scikit-learn]\n",
      "   -------------------------- ------------- 2/3 [scikit-learn]\n",
      "   -------------------------- ------------- 2/3 [scikit-learn]\n",
      "   -------------------------- ------------- 2/3 [scikit-learn]\n",
      "   -------------------------- ------------- 2/3 [scikit-learn]\n",
      "   -------------------------- ------------- 2/3 [scikit-learn]\n",
      "   -------------------------- ------------- 2/3 [scikit-learn]\n",
      "   -------------------------- ------------- 2/3 [scikit-learn]\n",
      "   -------------------------- ------------- 2/3 [scikit-learn]\n",
      "   -------------------------- ------------- 2/3 [scikit-learn]\n",
      "   -------------------------- ------------- 2/3 [scikit-learn]\n",
      "   -------------------------- ------------- 2/3 [scikit-learn]\n",
      "   -------------------------- ------------- 2/3 [scikit-learn]\n",
      "   -------------------------- ------------- 2/3 [scikit-learn]\n",
      "   -------------------------- ------------- 2/3 [scikit-learn]\n",
      "   -------------------------- ------------- 2/3 [scikit-learn]\n",
      "   -------------------------- ------------- 2/3 [scikit-learn]\n",
      "   -------------------------- ------------- 2/3 [scikit-learn]\n",
      "   -------------------------- ------------- 2/3 [scikit-learn]\n",
      "   -------------------------- ------------- 2/3 [scikit-learn]\n",
      "   -------------------------- ------------- 2/3 [scikit-learn]\n",
      "   -------------------------- ------------- 2/3 [scikit-learn]\n",
      "   -------------------------- ------------- 2/3 [scikit-learn]\n",
      "   -------------------------- ------------- 2/3 [scikit-learn]\n",
      "   -------------------------- ------------- 2/3 [scikit-learn]\n",
      "   -------------------------- ------------- 2/3 [scikit-learn]\n",
      "   -------------------------- ------------- 2/3 [scikit-learn]\n",
      "   -------------------------- ------------- 2/3 [scikit-learn]\n",
      "   -------------------------- ------------- 2/3 [scikit-learn]\n",
      "   -------------------------- ------------- 2/3 [scikit-learn]\n",
      "   -------------------------- ------------- 2/3 [scikit-learn]\n",
      "   -------------------------- ------------- 2/3 [scikit-learn]\n",
      "   -------------------------- ------------- 2/3 [scikit-learn]\n",
      "   -------------------------- ------------- 2/3 [scikit-learn]\n",
      "   -------------------------- ------------- 2/3 [scikit-learn]\n",
      "   -------------------------- ------------- 2/3 [scikit-learn]\n",
      "   -------------------------- ------------- 2/3 [scikit-learn]\n",
      "   -------------------------- ------------- 2/3 [scikit-learn]\n",
      "   -------------------------- ------------- 2/3 [scikit-learn]\n",
      "   -------------------------- ------------- 2/3 [scikit-learn]\n",
      "   -------------------------- ------------- 2/3 [scikit-learn]\n",
      "   -------------------------- ------------- 2/3 [scikit-learn]\n",
      "   -------------------------- ------------- 2/3 [scikit-learn]\n",
      "   -------------------------- ------------- 2/3 [scikit-learn]\n",
      "   -------------------------- ------------- 2/3 [scikit-learn]\n",
      "   -------------------------- ------------- 2/3 [scikit-learn]\n",
      "   -------------------------- ------------- 2/3 [scikit-learn]\n",
      "   -------------------------- ------------- 2/3 [scikit-learn]\n",
      "   -------------------------- ------------- 2/3 [scikit-learn]\n",
      "   -------------------------- ------------- 2/3 [scikit-learn]\n",
      "   -------------------------- ------------- 2/3 [scikit-learn]\n",
      "   -------------------------- ------------- 2/3 [scikit-learn]\n",
      "   -------------------------- ------------- 2/3 [scikit-learn]\n",
      "   -------------------------- ------------- 2/3 [scikit-learn]\n",
      "   -------------------------- ------------- 2/3 [scikit-learn]\n",
      "   -------------------------- ------------- 2/3 [scikit-learn]\n",
      "   -------------------------- ------------- 2/3 [scikit-learn]\n",
      "   -------------------------- ------------- 2/3 [scikit-learn]\n",
      "   -------------------------- ------------- 2/3 [scikit-learn]\n",
      "   -------------------------- ------------- 2/3 [scikit-learn]\n",
      "   -------------------------- ------------- 2/3 [scikit-learn]\n",
      "   -------------------------- ------------- 2/3 [scikit-learn]\n",
      "   -------------------------- ------------- 2/3 [scikit-learn]\n",
      "   -------------------------- ------------- 2/3 [scikit-learn]\n",
      "   -------------------------- ------------- 2/3 [scikit-learn]\n",
      "   -------------------------- ------------- 2/3 [scikit-learn]\n",
      "   -------------------------- ------------- 2/3 [scikit-learn]\n",
      "   -------------------------- ------------- 2/3 [scikit-learn]\n",
      "   -------------------------- ------------- 2/3 [scikit-learn]\n",
      "   -------------------------- ------------- 2/3 [scikit-learn]\n",
      "   -------------------------- ------------- 2/3 [scikit-learn]\n",
      "   -------------------------- ------------- 2/3 [scikit-learn]\n",
      "   -------------------------- ------------- 2/3 [scikit-learn]\n",
      "   -------------------------- ------------- 2/3 [scikit-learn]\n",
      "   -------------------------- ------------- 2/3 [scikit-learn]\n",
      "   -------------------------- ------------- 2/3 [scikit-learn]\n",
      "   -------------------------- ------------- 2/3 [scikit-learn]\n",
      "   -------------------------- ------------- 2/3 [scikit-learn]\n",
      "   -------------------------- ------------- 2/3 [scikit-learn]\n",
      "   -------------------------- ------------- 2/3 [scikit-learn]\n",
      "   -------------------------- ------------- 2/3 [scikit-learn]\n",
      "   -------------------------- ------------- 2/3 [scikit-learn]\n",
      "   -------------------------- ------------- 2/3 [scikit-learn]\n",
      "   -------------------------- ------------- 2/3 [scikit-learn]\n",
      "   -------------------------- ------------- 2/3 [scikit-learn]\n",
      "   -------------------------- ------------- 2/3 [scikit-learn]\n",
      "   -------------------------- ------------- 2/3 [scikit-learn]\n",
      "   -------------------------- ------------- 2/3 [scikit-learn]\n",
      "   -------------------------- ------------- 2/3 [scikit-learn]\n",
      "   -------------------------- ------------- 2/3 [scikit-learn]\n",
      "   -------------------------- ------------- 2/3 [scikit-learn]\n",
      "   -------------------------- ------------- 2/3 [scikit-learn]\n",
      "   -------------------------- ------------- 2/3 [scikit-learn]\n",
      "   -------------------------- ------------- 2/3 [scikit-learn]\n",
      "   -------------------------- ------------- 2/3 [scikit-learn]\n",
      "   -------------------------- ------------- 2/3 [scikit-learn]\n",
      "   -------------------------- ------------- 2/3 [scikit-learn]\n",
      "   -------------------------- ------------- 2/3 [scikit-learn]\n",
      "   -------------------------- ------------- 2/3 [scikit-learn]\n",
      "   -------------------------- ------------- 2/3 [scikit-learn]\n",
      "   -------------------------- ------------- 2/3 [scikit-learn]\n",
      "   -------------------------- ------------- 2/3 [scikit-learn]\n",
      "   -------------------------- ------------- 2/3 [scikit-learn]\n",
      "   -------------------------- ------------- 2/3 [scikit-learn]\n",
      "   -------------------------- ------------- 2/3 [scikit-learn]\n",
      "   -------------------------- ------------- 2/3 [scikit-learn]\n",
      "   -------------------------- ------------- 2/3 [scikit-learn]\n",
      "   -------------------------- ------------- 2/3 [scikit-learn]\n",
      "   -------------------------- ------------- 2/3 [scikit-learn]\n",
      "   -------------------------- ------------- 2/3 [scikit-learn]\n",
      "   -------------------------- ------------- 2/3 [scikit-learn]\n",
      "   -------------------------- ------------- 2/3 [scikit-learn]\n",
      "   -------------------------- ------------- 2/3 [scikit-learn]\n",
      "   -------------------------- ------------- 2/3 [scikit-learn]\n",
      "   -------------------------- ------------- 2/3 [scikit-learn]\n",
      "   -------------------------- ------------- 2/3 [scikit-learn]\n",
      "   -------------------------- ------------- 2/3 [scikit-learn]\n",
      "   -------------------------- ------------- 2/3 [scikit-learn]\n",
      "   -------------------------- ------------- 2/3 [scikit-learn]\n",
      "   -------------------------- ------------- 2/3 [scikit-learn]\n",
      "   -------------------------- ------------- 2/3 [scikit-learn]\n",
      "   ---------------------------------------- 3/3 [scikit-learn]\n",
      "\n",
      "Successfully installed joblib-1.5.2 scikit-learn-1.7.1 threadpoolctl-3.6.0\n"
     ]
    }
   ],
   "source": [
    "!pip install scikit-learn\n"
   ]
  },
  {
   "cell_type": "code",
   "execution_count": 35,
   "id": "1ca5f9ad",
   "metadata": {},
   "outputs": [],
   "source": [
    "from sklearn.model_selection import train_test_split\n",
    "from sklearn.preprocessing import OneHotEncoder\n",
    "from sklearn.compose import ColumnTransformer\n",
    "from sklearn.pipeline import Pipeline\n",
    "from sklearn.preprocessing import StandardScaler\n",
    "from sklearn.linear_model import LinearRegression\n",
    "from sklearn.ensemble import RandomForestRegressor"
   ]
  },
  {
   "cell_type": "code",
   "execution_count": 36,
   "id": "e11b2036",
   "metadata": {},
   "outputs": [
    {
     "data": {
      "text/html": [
       "<div>\n",
       "<style scoped>\n",
       "    .dataframe tbody tr th:only-of-type {\n",
       "        vertical-align: middle;\n",
       "    }\n",
       "\n",
       "    .dataframe tbody tr th {\n",
       "        vertical-align: top;\n",
       "    }\n",
       "\n",
       "    .dataframe thead th {\n",
       "        text-align: right;\n",
       "    }\n",
       "</style>\n",
       "<table border=\"1\" class=\"dataframe\">\n",
       "  <thead>\n",
       "    <tr style=\"text-align: right;\">\n",
       "      <th></th>\n",
       "      <th>views</th>\n",
       "      <th>likes</th>\n",
       "      <th>comments</th>\n",
       "      <th>watch_time_minutes</th>\n",
       "      <th>category</th>\n",
       "      <th>device</th>\n",
       "      <th>country</th>\n",
       "      <th>engagement_rate</th>\n",
       "    </tr>\n",
       "  </thead>\n",
       "  <tbody>\n",
       "    <tr>\n",
       "      <th>0</th>\n",
       "      <td>9936</td>\n",
       "      <td>1221.0</td>\n",
       "      <td>320.0</td>\n",
       "      <td>26497.214184</td>\n",
       "      <td>Entertainment</td>\n",
       "      <td>TV</td>\n",
       "      <td>IN</td>\n",
       "      <td>0.155093</td>\n",
       "    </tr>\n",
       "    <tr>\n",
       "      <th>1</th>\n",
       "      <td>10017</td>\n",
       "      <td>642.0</td>\n",
       "      <td>346.0</td>\n",
       "      <td>15209.747445</td>\n",
       "      <td>Gaming</td>\n",
       "      <td>Tablet</td>\n",
       "      <td>CA</td>\n",
       "      <td>0.098632</td>\n",
       "    </tr>\n",
       "    <tr>\n",
       "      <th>2</th>\n",
       "      <td>10097</td>\n",
       "      <td>1979.0</td>\n",
       "      <td>187.0</td>\n",
       "      <td>57332.658498</td>\n",
       "      <td>Education</td>\n",
       "      <td>TV</td>\n",
       "      <td>CA</td>\n",
       "      <td>0.214519</td>\n",
       "    </tr>\n",
       "    <tr>\n",
       "      <th>3</th>\n",
       "      <td>10034</td>\n",
       "      <td>1191.0</td>\n",
       "      <td>242.0</td>\n",
       "      <td>31334.517771</td>\n",
       "      <td>Entertainment</td>\n",
       "      <td>Mobile</td>\n",
       "      <td>UK</td>\n",
       "      <td>0.142814</td>\n",
       "    </tr>\n",
       "    <tr>\n",
       "      <th>4</th>\n",
       "      <td>9889</td>\n",
       "      <td>1858.0</td>\n",
       "      <td>477.0</td>\n",
       "      <td>15665.666434</td>\n",
       "      <td>Education</td>\n",
       "      <td>Mobile</td>\n",
       "      <td>CA</td>\n",
       "      <td>0.236121</td>\n",
       "    </tr>\n",
       "  </tbody>\n",
       "</table>\n",
       "</div>"
      ],
      "text/plain": [
       "   views   likes  comments  watch_time_minutes       category  device country  \\\n",
       "0   9936  1221.0     320.0        26497.214184  Entertainment      TV      IN   \n",
       "1  10017   642.0     346.0        15209.747445         Gaming  Tablet      CA   \n",
       "2  10097  1979.0     187.0        57332.658498      Education      TV      CA   \n",
       "3  10034  1191.0     242.0        31334.517771  Entertainment  Mobile      UK   \n",
       "4   9889  1858.0     477.0        15665.666434      Education  Mobile      CA   \n",
       "\n",
       "   engagement_rate  \n",
       "0         0.155093  \n",
       "1         0.098632  \n",
       "2         0.214519  \n",
       "3         0.142814  \n",
       "4         0.236121  "
      ]
     },
     "execution_count": 36,
     "metadata": {},
     "output_type": "execute_result"
    }
   ],
   "source": [
    "X.head()"
   ]
  },
  {
   "cell_type": "code",
   "execution_count": 41,
   "id": "728bfafb",
   "metadata": {},
   "outputs": [
    {
     "data": {
      "text/plain": [
       "0    203.178237\n",
       "1    140.880508\n",
       "2    360.134008\n",
       "3    224.638261\n",
       "4    165.514388\n",
       "Name: ad_revenue_usd, dtype: float64"
      ]
     },
     "execution_count": 41,
     "metadata": {},
     "output_type": "execute_result"
    }
   ],
   "source": [
    "y.head()"
   ]
  },
  {
   "cell_type": "code",
   "execution_count": 36,
   "id": "a2b442c3",
   "metadata": {},
   "outputs": [
    {
     "name": "stdout",
     "output_type": "stream",
     "text": [
      "<class 'pandas.core.frame.DataFrame'>\n",
      "Index: 120000 entries, 0 to 122399\n",
      "Data columns (total 8 columns):\n",
      " #   Column              Non-Null Count   Dtype  \n",
      "---  ------              --------------   -----  \n",
      " 0   views               120000 non-null  int64  \n",
      " 1   likes               120000 non-null  float64\n",
      " 2   comments            120000 non-null  float64\n",
      " 3   watch_time_minutes  120000 non-null  float64\n",
      " 4   category            120000 non-null  object \n",
      " 5   device              120000 non-null  object \n",
      " 6   country             120000 non-null  object \n",
      " 7   engagement_rate     120000 non-null  float64\n",
      "dtypes: float64(4), int64(1), object(3)\n",
      "memory usage: 8.2+ MB\n"
     ]
    }
   ],
   "source": [
    "X.info()"
   ]
  },
  {
   "cell_type": "code",
   "execution_count": 37,
   "id": "060fd5cd",
   "metadata": {},
   "outputs": [],
   "source": [
    "x_cat=X[['category', 'country', 'device']]\n",
    "x_num=X[['engagement_rate', 'views', 'likes', 'comments', 'watch_time_minutes']]"
   ]
  },
  {
   "cell_type": "code",
   "execution_count": 38,
   "id": "30488bb9",
   "metadata": {},
   "outputs": [
    {
     "data": {
      "text/html": [
       "<div>\n",
       "<style scoped>\n",
       "    .dataframe tbody tr th:only-of-type {\n",
       "        vertical-align: middle;\n",
       "    }\n",
       "\n",
       "    .dataframe tbody tr th {\n",
       "        vertical-align: top;\n",
       "    }\n",
       "\n",
       "    .dataframe thead th {\n",
       "        text-align: right;\n",
       "    }\n",
       "</style>\n",
       "<table border=\"1\" class=\"dataframe\">\n",
       "  <thead>\n",
       "    <tr style=\"text-align: right;\">\n",
       "      <th></th>\n",
       "      <th>engagement_rate</th>\n",
       "      <th>views</th>\n",
       "      <th>likes</th>\n",
       "      <th>comments</th>\n",
       "      <th>watch_time_minutes</th>\n",
       "    </tr>\n",
       "  </thead>\n",
       "  <tbody>\n",
       "    <tr>\n",
       "      <th>0</th>\n",
       "      <td>0.155093</td>\n",
       "      <td>9936</td>\n",
       "      <td>1221.0</td>\n",
       "      <td>320.0</td>\n",
       "      <td>26497.214184</td>\n",
       "    </tr>\n",
       "    <tr>\n",
       "      <th>1</th>\n",
       "      <td>0.098632</td>\n",
       "      <td>10017</td>\n",
       "      <td>642.0</td>\n",
       "      <td>346.0</td>\n",
       "      <td>15209.747445</td>\n",
       "    </tr>\n",
       "    <tr>\n",
       "      <th>2</th>\n",
       "      <td>0.214519</td>\n",
       "      <td>10097</td>\n",
       "      <td>1979.0</td>\n",
       "      <td>187.0</td>\n",
       "      <td>57332.658498</td>\n",
       "    </tr>\n",
       "    <tr>\n",
       "      <th>3</th>\n",
       "      <td>0.142814</td>\n",
       "      <td>10034</td>\n",
       "      <td>1191.0</td>\n",
       "      <td>242.0</td>\n",
       "      <td>31334.517771</td>\n",
       "    </tr>\n",
       "    <tr>\n",
       "      <th>4</th>\n",
       "      <td>0.236121</td>\n",
       "      <td>9889</td>\n",
       "      <td>1858.0</td>\n",
       "      <td>477.0</td>\n",
       "      <td>15665.666434</td>\n",
       "    </tr>\n",
       "    <tr>\n",
       "      <th>...</th>\n",
       "      <td>...</td>\n",
       "      <td>...</td>\n",
       "      <td>...</td>\n",
       "      <td>...</td>\n",
       "      <td>...</td>\n",
       "    </tr>\n",
       "    <tr>\n",
       "      <th>122395</th>\n",
       "      <td>0.184715</td>\n",
       "      <td>9853</td>\n",
       "      <td>1673.0</td>\n",
       "      <td>147.0</td>\n",
       "      <td>42075.704885</td>\n",
       "    </tr>\n",
       "    <tr>\n",
       "      <th>122396</th>\n",
       "      <td>0.174961</td>\n",
       "      <td>10128</td>\n",
       "      <td>1709.0</td>\n",
       "      <td>63.0</td>\n",
       "      <td>57563.703040</td>\n",
       "    </tr>\n",
       "    <tr>\n",
       "      <th>122397</th>\n",
       "      <td>0.094867</td>\n",
       "      <td>10267</td>\n",
       "      <td>700.0</td>\n",
       "      <td>274.0</td>\n",
       "      <td>27549.714659</td>\n",
       "    </tr>\n",
       "    <tr>\n",
       "      <th>122398</th>\n",
       "      <td>0.168164</td>\n",
       "      <td>10240</td>\n",
       "      <td>1616.0</td>\n",
       "      <td>106.0</td>\n",
       "      <td>56967.384382</td>\n",
       "    </tr>\n",
       "    <tr>\n",
       "      <th>122399</th>\n",
       "      <td>0.105125</td>\n",
       "      <td>9931</td>\n",
       "      <td>770.0</td>\n",
       "      <td>274.0</td>\n",
       "      <td>38466.837135</td>\n",
       "    </tr>\n",
       "  </tbody>\n",
       "</table>\n",
       "<p>120000 rows × 5 columns</p>\n",
       "</div>"
      ],
      "text/plain": [
       "        engagement_rate  views   likes  comments  watch_time_minutes\n",
       "0              0.155093   9936  1221.0     320.0        26497.214184\n",
       "1              0.098632  10017   642.0     346.0        15209.747445\n",
       "2              0.214519  10097  1979.0     187.0        57332.658498\n",
       "3              0.142814  10034  1191.0     242.0        31334.517771\n",
       "4              0.236121   9889  1858.0     477.0        15665.666434\n",
       "...                 ...    ...     ...       ...                 ...\n",
       "122395         0.184715   9853  1673.0     147.0        42075.704885\n",
       "122396         0.174961  10128  1709.0      63.0        57563.703040\n",
       "122397         0.094867  10267   700.0     274.0        27549.714659\n",
       "122398         0.168164  10240  1616.0     106.0        56967.384382\n",
       "122399         0.105125   9931   770.0     274.0        38466.837135\n",
       "\n",
       "[120000 rows x 5 columns]"
      ]
     },
     "execution_count": 38,
     "metadata": {},
     "output_type": "execute_result"
    }
   ],
   "source": [
    "\n",
    "x_num   "
   ]
  },
  {
   "cell_type": "code",
   "execution_count": 39,
   "id": "69e3655d",
   "metadata": {},
   "outputs": [
    {
     "data": {
      "text/html": [
       "<div>\n",
       "<style scoped>\n",
       "    .dataframe tbody tr th:only-of-type {\n",
       "        vertical-align: middle;\n",
       "    }\n",
       "\n",
       "    .dataframe tbody tr th {\n",
       "        vertical-align: top;\n",
       "    }\n",
       "\n",
       "    .dataframe thead th {\n",
       "        text-align: right;\n",
       "    }\n",
       "</style>\n",
       "<table border=\"1\" class=\"dataframe\">\n",
       "  <thead>\n",
       "    <tr style=\"text-align: right;\">\n",
       "      <th></th>\n",
       "      <th>category</th>\n",
       "      <th>country</th>\n",
       "      <th>device</th>\n",
       "    </tr>\n",
       "  </thead>\n",
       "  <tbody>\n",
       "    <tr>\n",
       "      <th>0</th>\n",
       "      <td>Entertainment</td>\n",
       "      <td>IN</td>\n",
       "      <td>TV</td>\n",
       "    </tr>\n",
       "    <tr>\n",
       "      <th>1</th>\n",
       "      <td>Gaming</td>\n",
       "      <td>CA</td>\n",
       "      <td>Tablet</td>\n",
       "    </tr>\n",
       "    <tr>\n",
       "      <th>2</th>\n",
       "      <td>Education</td>\n",
       "      <td>CA</td>\n",
       "      <td>TV</td>\n",
       "    </tr>\n",
       "    <tr>\n",
       "      <th>3</th>\n",
       "      <td>Entertainment</td>\n",
       "      <td>UK</td>\n",
       "      <td>Mobile</td>\n",
       "    </tr>\n",
       "    <tr>\n",
       "      <th>4</th>\n",
       "      <td>Education</td>\n",
       "      <td>CA</td>\n",
       "      <td>Mobile</td>\n",
       "    </tr>\n",
       "    <tr>\n",
       "      <th>...</th>\n",
       "      <td>...</td>\n",
       "      <td>...</td>\n",
       "      <td>...</td>\n",
       "    </tr>\n",
       "    <tr>\n",
       "      <th>122395</th>\n",
       "      <td>Education</td>\n",
       "      <td>US</td>\n",
       "      <td>Tablet</td>\n",
       "    </tr>\n",
       "    <tr>\n",
       "      <th>122396</th>\n",
       "      <td>Music</td>\n",
       "      <td>UK</td>\n",
       "      <td>Desktop</td>\n",
       "    </tr>\n",
       "    <tr>\n",
       "      <th>122397</th>\n",
       "      <td>Tech</td>\n",
       "      <td>CA</td>\n",
       "      <td>Tablet</td>\n",
       "    </tr>\n",
       "    <tr>\n",
       "      <th>122398</th>\n",
       "      <td>Music</td>\n",
       "      <td>UK</td>\n",
       "      <td>Mobile</td>\n",
       "    </tr>\n",
       "    <tr>\n",
       "      <th>122399</th>\n",
       "      <td>Tech</td>\n",
       "      <td>CA</td>\n",
       "      <td>TV</td>\n",
       "    </tr>\n",
       "  </tbody>\n",
       "</table>\n",
       "<p>120000 rows × 3 columns</p>\n",
       "</div>"
      ],
      "text/plain": [
       "             category country   device\n",
       "0       Entertainment      IN       TV\n",
       "1              Gaming      CA   Tablet\n",
       "2           Education      CA       TV\n",
       "3       Entertainment      UK   Mobile\n",
       "4           Education      CA   Mobile\n",
       "...               ...     ...      ...\n",
       "122395      Education      US   Tablet\n",
       "122396          Music      UK  Desktop\n",
       "122397           Tech      CA   Tablet\n",
       "122398          Music      UK   Mobile\n",
       "122399           Tech      CA       TV\n",
       "\n",
       "[120000 rows x 3 columns]"
      ]
     },
     "execution_count": 39,
     "metadata": {},
     "output_type": "execute_result"
    }
   ],
   "source": [
    "x_cat"
   ]
  },
  {
   "cell_type": "code",
   "execution_count": 41,
   "id": "9b2879d5",
   "metadata": {},
   "outputs": [
    {
     "name": "stdout",
     "output_type": "stream",
     "text": [
      "✅ Found: category\n",
      "✅ Found: comments\n",
      "✅ Found: country\n",
      "✅ Found: device\n",
      "✅ Found: engagement_rate\n",
      "✅ Found: likes\n",
      "✅ Found: views\n",
      "✅ Found: watch_time_minutes\n"
     ]
    }
   ],
   "source": [
    "for col in x_num + x_cat:\n",
    "    if col not in X.columns:\n",
    "        print(\"❌ Not found:\", col)\n",
    "    else:\n",
    "        print(\"✅ Found:\", col)\n"
   ]
  },
  {
   "cell_type": "code",
   "execution_count": 42,
   "id": "b1e5a5f9",
   "metadata": {},
   "outputs": [
    {
     "name": "stdout",
     "output_type": "stream",
     "text": [
      "<class 'pandas.core.frame.DataFrame'>\n"
     ]
    }
   ],
   "source": [
    "print(type(X))\n",
    "\n"
   ]
  },
  {
   "cell_type": "code",
   "execution_count": 43,
   "id": "20779e02",
   "metadata": {},
   "outputs": [
    {
     "name": "stdout",
     "output_type": "stream",
     "text": [
      "Num features:         engagement_rate  views   likes  comments  watch_time_minutes\n",
      "0              0.155093   9936  1221.0     320.0        26497.214184\n",
      "1              0.098632  10017   642.0     346.0        15209.747445\n",
      "2              0.214519  10097  1979.0     187.0        57332.658498\n",
      "3              0.142814  10034  1191.0     242.0        31334.517771\n",
      "4              0.236121   9889  1858.0     477.0        15665.666434\n",
      "...                 ...    ...     ...       ...                 ...\n",
      "122395         0.184715   9853  1673.0     147.0        42075.704885\n",
      "122396         0.174961  10128  1709.0      63.0        57563.703040\n",
      "122397         0.094867  10267   700.0     274.0        27549.714659\n",
      "122398         0.168164  10240  1616.0     106.0        56967.384382\n",
      "122399         0.105125   9931   770.0     274.0        38466.837135\n",
      "\n",
      "[120000 rows x 5 columns] <class 'pandas.core.frame.DataFrame'>\n",
      "Cat features:              category country   device\n",
      "0       Entertainment      IN       TV\n",
      "1              Gaming      CA   Tablet\n",
      "2           Education      CA       TV\n",
      "3       Entertainment      UK   Mobile\n",
      "4           Education      CA   Mobile\n",
      "...               ...     ...      ...\n",
      "122395      Education      US   Tablet\n",
      "122396          Music      UK  Desktop\n",
      "122397           Tech      CA   Tablet\n",
      "122398          Music      UK   Mobile\n",
      "122399           Tech      CA       TV\n",
      "\n",
      "[120000 rows x 3 columns] <class 'pandas.core.frame.DataFrame'>\n",
      "category -> True\n",
      "comments -> True\n",
      "country -> True\n",
      "device -> True\n",
      "engagement_rate -> True\n",
      "likes -> True\n",
      "views -> True\n",
      "watch_time_minutes -> True\n"
     ]
    }
   ],
   "source": [
    "print(\"Num features:\", x_num, type(x_num))\n",
    "print(\"Cat features:\", x_cat, type(x_cat))\n",
    "\n",
    "for col in x_num + x_cat:\n",
    "    print(col, \"->\", col in X.columns)\n"
   ]
  },
  {
   "cell_type": "code",
   "execution_count": 52,
   "id": "91ba8fa5",
   "metadata": {},
   "outputs": [],
   "source": [
    "import pickle"
   ]
  },
  {
   "cell_type": "code",
   "execution_count": null,
   "id": "49980f1d",
   "metadata": {},
   "outputs": [
    {
     "name": "stdout",
     "output_type": "stream",
     "text": [
      "Shape before processing: (120000, 8)\n",
      "Shape after processing: (120000, 21)\n"
     ]
    }
   ],
   "source": [
    "num_features = [\"engagement_rate\", \"views\", \"likes\", \"comments\", \"watch_time_minutes\"]\n",
    "cat_features = [\"category\", \"country\", \"device\"]\n",
    "\n",
    "preprocessor = ColumnTransformer(\n",
    "    transformers=[\n",
    "        (\"num\", StandardScaler(), num_features),\n",
    "        (\"cat\", OneHotEncoder(handle_unknown=\"ignore\"), cat_features)\n",
    "    ]\n",
    ")\n",
    "\n",
    "# Pipeline\n",
    "preprocess_pipeline = Pipeline(steps=[(\"preprocessor\", preprocessor)])\n",
    "\n",
    "# Fit + Transform\n",
    "X_processed = preprocess_pipeline.fit_transform(X)\n",
    "\n",
    "print(\"Shape before processing:\", X.shape)\n",
    "print(\"Shape after processing:\", X_processed.shape)\n"
   ]
  },
  {
   "cell_type": "code",
   "execution_count": 53,
   "id": "9d998b98",
   "metadata": {},
   "outputs": [
    {
     "ename": "ValueError",
     "evalue": "Specifying the columns using strings is only supported for dataframes.",
     "output_type": "error",
     "traceback": [
      "\u001b[31m---------------------------------------------------------------------------\u001b[39m",
      "\u001b[31mAttributeError\u001b[39m                            Traceback (most recent call last)",
      "\u001b[36mFile \u001b[39m\u001b[32mc:\\Users\\ABC\\Desktop\\youtube\\.venv\\Lib\\site-packages\\sklearn\\utils\\_indexing.py:420\u001b[39m, in \u001b[36m_get_column_indices\u001b[39m\u001b[34m(X, key)\u001b[39m\n\u001b[32m    419\u001b[39m \u001b[38;5;28;01mtry\u001b[39;00m:\n\u001b[32m--> \u001b[39m\u001b[32m420\u001b[39m     all_columns = \u001b[43mX\u001b[49m\u001b[43m.\u001b[49m\u001b[43mcolumns\u001b[49m\n\u001b[32m    421\u001b[39m \u001b[38;5;28;01mexcept\u001b[39;00m \u001b[38;5;167;01mAttributeError\u001b[39;00m:\n",
      "\u001b[31mAttributeError\u001b[39m: 'numpy.ndarray' object has no attribute 'columns'",
      "\nDuring handling of the above exception, another exception occurred:\n",
      "\u001b[31mValueError\u001b[39m                                Traceback (most recent call last)",
      "\u001b[36mCell\u001b[39m\u001b[36m \u001b[39m\u001b[32mIn[53]\u001b[39m\u001b[32m, line 26\u001b[39m\n\u001b[32m     20\u001b[39m lr_pipeline = Pipeline(steps=[\n\u001b[32m     21\u001b[39m     (\u001b[33m\"\u001b[39m\u001b[33mpreprocessor\u001b[39m\u001b[33m\"\u001b[39m, preprocessor),\n\u001b[32m     22\u001b[39m     (\u001b[33m\"\u001b[39m\u001b[33mmodel\u001b[39m\u001b[33m\"\u001b[39m, LinearRegression())\n\u001b[32m     23\u001b[39m ])\n\u001b[32m     25\u001b[39m \u001b[38;5;66;03m# Train pipeline\u001b[39;00m\n\u001b[32m---> \u001b[39m\u001b[32m26\u001b[39m \u001b[43mlr_pipeline\u001b[49m\u001b[43m.\u001b[49m\u001b[43mfit\u001b[49m\u001b[43m(\u001b[49m\u001b[43mX_train\u001b[49m\u001b[43m,\u001b[49m\u001b[43m \u001b[49m\u001b[43my_train\u001b[49m\u001b[43m)\u001b[49m\n\u001b[32m     28\u001b[39m \u001b[38;5;66;03m# ✅ Save (Pickle) the pipeline\u001b[39;00m\n\u001b[32m     29\u001b[39m \u001b[38;5;28;01mwith\u001b[39;00m \u001b[38;5;28mopen\u001b[39m(\u001b[33m\"\u001b[39m\u001b[33mlinear_regression_pipeline.pkl\u001b[39m\u001b[33m\"\u001b[39m, \u001b[33m\"\u001b[39m\u001b[33mwb\u001b[39m\u001b[33m\"\u001b[39m) \u001b[38;5;28;01mas\u001b[39;00m f:\n",
      "\u001b[36mFile \u001b[39m\u001b[32mc:\\Users\\ABC\\Desktop\\youtube\\.venv\\Lib\\site-packages\\sklearn\\base.py:1365\u001b[39m, in \u001b[36m_fit_context.<locals>.decorator.<locals>.wrapper\u001b[39m\u001b[34m(estimator, *args, **kwargs)\u001b[39m\n\u001b[32m   1358\u001b[39m     estimator._validate_params()\n\u001b[32m   1360\u001b[39m \u001b[38;5;28;01mwith\u001b[39;00m config_context(\n\u001b[32m   1361\u001b[39m     skip_parameter_validation=(\n\u001b[32m   1362\u001b[39m         prefer_skip_nested_validation \u001b[38;5;129;01mor\u001b[39;00m global_skip_validation\n\u001b[32m   1363\u001b[39m     )\n\u001b[32m   1364\u001b[39m ):\n\u001b[32m-> \u001b[39m\u001b[32m1365\u001b[39m     \u001b[38;5;28;01mreturn\u001b[39;00m \u001b[43mfit_method\u001b[49m\u001b[43m(\u001b[49m\u001b[43mestimator\u001b[49m\u001b[43m,\u001b[49m\u001b[43m \u001b[49m\u001b[43m*\u001b[49m\u001b[43margs\u001b[49m\u001b[43m,\u001b[49m\u001b[43m \u001b[49m\u001b[43m*\u001b[49m\u001b[43m*\u001b[49m\u001b[43mkwargs\u001b[49m\u001b[43m)\u001b[49m\n",
      "\u001b[36mFile \u001b[39m\u001b[32mc:\\Users\\ABC\\Desktop\\youtube\\.venv\\Lib\\site-packages\\sklearn\\pipeline.py:655\u001b[39m, in \u001b[36mPipeline.fit\u001b[39m\u001b[34m(self, X, y, **params)\u001b[39m\n\u001b[32m    648\u001b[39m     \u001b[38;5;28;01mraise\u001b[39;00m \u001b[38;5;167;01mValueError\u001b[39;00m(\n\u001b[32m    649\u001b[39m         \u001b[33m\"\u001b[39m\u001b[33mThe `transform_input` parameter can only be set if metadata \u001b[39m\u001b[33m\"\u001b[39m\n\u001b[32m    650\u001b[39m         \u001b[33m\"\u001b[39m\u001b[33mrouting is enabled. You can enable metadata routing using \u001b[39m\u001b[33m\"\u001b[39m\n\u001b[32m    651\u001b[39m         \u001b[33m\"\u001b[39m\u001b[33m`sklearn.set_config(enable_metadata_routing=True)`.\u001b[39m\u001b[33m\"\u001b[39m\n\u001b[32m    652\u001b[39m     )\n\u001b[32m    654\u001b[39m routed_params = \u001b[38;5;28mself\u001b[39m._check_method_params(method=\u001b[33m\"\u001b[39m\u001b[33mfit\u001b[39m\u001b[33m\"\u001b[39m, props=params)\n\u001b[32m--> \u001b[39m\u001b[32m655\u001b[39m Xt = \u001b[38;5;28;43mself\u001b[39;49m\u001b[43m.\u001b[49m\u001b[43m_fit\u001b[49m\u001b[43m(\u001b[49m\u001b[43mX\u001b[49m\u001b[43m,\u001b[49m\u001b[43m \u001b[49m\u001b[43my\u001b[49m\u001b[43m,\u001b[49m\u001b[43m \u001b[49m\u001b[43mrouted_params\u001b[49m\u001b[43m,\u001b[49m\u001b[43m \u001b[49m\u001b[43mraw_params\u001b[49m\u001b[43m=\u001b[49m\u001b[43mparams\u001b[49m\u001b[43m)\u001b[49m\n\u001b[32m    656\u001b[39m \u001b[38;5;28;01mwith\u001b[39;00m _print_elapsed_time(\u001b[33m\"\u001b[39m\u001b[33mPipeline\u001b[39m\u001b[33m\"\u001b[39m, \u001b[38;5;28mself\u001b[39m._log_message(\u001b[38;5;28mlen\u001b[39m(\u001b[38;5;28mself\u001b[39m.steps) - \u001b[32m1\u001b[39m)):\n\u001b[32m    657\u001b[39m     \u001b[38;5;28;01mif\u001b[39;00m \u001b[38;5;28mself\u001b[39m._final_estimator != \u001b[33m\"\u001b[39m\u001b[33mpassthrough\u001b[39m\u001b[33m\"\u001b[39m:\n",
      "\u001b[36mFile \u001b[39m\u001b[32mc:\\Users\\ABC\\Desktop\\youtube\\.venv\\Lib\\site-packages\\sklearn\\pipeline.py:589\u001b[39m, in \u001b[36mPipeline._fit\u001b[39m\u001b[34m(self, X, y, routed_params, raw_params)\u001b[39m\n\u001b[32m    582\u001b[39m \u001b[38;5;66;03m# Fit or load from cache the current transformer\u001b[39;00m\n\u001b[32m    583\u001b[39m step_params = \u001b[38;5;28mself\u001b[39m._get_metadata_for_step(\n\u001b[32m    584\u001b[39m     step_idx=step_idx,\n\u001b[32m    585\u001b[39m     step_params=routed_params[name],\n\u001b[32m    586\u001b[39m     all_params=raw_params,\n\u001b[32m    587\u001b[39m )\n\u001b[32m--> \u001b[39m\u001b[32m589\u001b[39m X, fitted_transformer = \u001b[43mfit_transform_one_cached\u001b[49m\u001b[43m(\u001b[49m\n\u001b[32m    590\u001b[39m \u001b[43m    \u001b[49m\u001b[43mcloned_transformer\u001b[49m\u001b[43m,\u001b[49m\n\u001b[32m    591\u001b[39m \u001b[43m    \u001b[49m\u001b[43mX\u001b[49m\u001b[43m,\u001b[49m\n\u001b[32m    592\u001b[39m \u001b[43m    \u001b[49m\u001b[43my\u001b[49m\u001b[43m,\u001b[49m\n\u001b[32m    593\u001b[39m \u001b[43m    \u001b[49m\u001b[43mweight\u001b[49m\u001b[43m=\u001b[49m\u001b[38;5;28;43;01mNone\u001b[39;49;00m\u001b[43m,\u001b[49m\n\u001b[32m    594\u001b[39m \u001b[43m    \u001b[49m\u001b[43mmessage_clsname\u001b[49m\u001b[43m=\u001b[49m\u001b[33;43m\"\u001b[39;49m\u001b[33;43mPipeline\u001b[39;49m\u001b[33;43m\"\u001b[39;49m\u001b[43m,\u001b[49m\n\u001b[32m    595\u001b[39m \u001b[43m    \u001b[49m\u001b[43mmessage\u001b[49m\u001b[43m=\u001b[49m\u001b[38;5;28;43mself\u001b[39;49m\u001b[43m.\u001b[49m\u001b[43m_log_message\u001b[49m\u001b[43m(\u001b[49m\u001b[43mstep_idx\u001b[49m\u001b[43m)\u001b[49m\u001b[43m,\u001b[49m\n\u001b[32m    596\u001b[39m \u001b[43m    \u001b[49m\u001b[43mparams\u001b[49m\u001b[43m=\u001b[49m\u001b[43mstep_params\u001b[49m\u001b[43m,\u001b[49m\n\u001b[32m    597\u001b[39m \u001b[43m\u001b[49m\u001b[43m)\u001b[49m\n\u001b[32m    598\u001b[39m \u001b[38;5;66;03m# Replace the transformer of the step with the fitted\u001b[39;00m\n\u001b[32m    599\u001b[39m \u001b[38;5;66;03m# transformer. This is necessary when loading the transformer\u001b[39;00m\n\u001b[32m    600\u001b[39m \u001b[38;5;66;03m# from the cache.\u001b[39;00m\n\u001b[32m    601\u001b[39m \u001b[38;5;28mself\u001b[39m.steps[step_idx] = (name, fitted_transformer)\n",
      "\u001b[36mFile \u001b[39m\u001b[32mc:\\Users\\ABC\\Desktop\\youtube\\.venv\\Lib\\site-packages\\joblib\\memory.py:326\u001b[39m, in \u001b[36mNotMemorizedFunc.__call__\u001b[39m\u001b[34m(self, *args, **kwargs)\u001b[39m\n\u001b[32m    325\u001b[39m \u001b[38;5;28;01mdef\u001b[39;00m\u001b[38;5;250m \u001b[39m\u001b[34m__call__\u001b[39m(\u001b[38;5;28mself\u001b[39m, *args, **kwargs):\n\u001b[32m--> \u001b[39m\u001b[32m326\u001b[39m     \u001b[38;5;28;01mreturn\u001b[39;00m \u001b[38;5;28;43mself\u001b[39;49m\u001b[43m.\u001b[49m\u001b[43mfunc\u001b[49m\u001b[43m(\u001b[49m\u001b[43m*\u001b[49m\u001b[43margs\u001b[49m\u001b[43m,\u001b[49m\u001b[43m \u001b[49m\u001b[43m*\u001b[49m\u001b[43m*\u001b[49m\u001b[43mkwargs\u001b[49m\u001b[43m)\u001b[49m\n",
      "\u001b[36mFile \u001b[39m\u001b[32mc:\\Users\\ABC\\Desktop\\youtube\\.venv\\Lib\\site-packages\\sklearn\\pipeline.py:1540\u001b[39m, in \u001b[36m_fit_transform_one\u001b[39m\u001b[34m(transformer, X, y, weight, message_clsname, message, params)\u001b[39m\n\u001b[32m   1538\u001b[39m \u001b[38;5;28;01mwith\u001b[39;00m _print_elapsed_time(message_clsname, message):\n\u001b[32m   1539\u001b[39m     \u001b[38;5;28;01mif\u001b[39;00m \u001b[38;5;28mhasattr\u001b[39m(transformer, \u001b[33m\"\u001b[39m\u001b[33mfit_transform\u001b[39m\u001b[33m\"\u001b[39m):\n\u001b[32m-> \u001b[39m\u001b[32m1540\u001b[39m         res = \u001b[43mtransformer\u001b[49m\u001b[43m.\u001b[49m\u001b[43mfit_transform\u001b[49m\u001b[43m(\u001b[49m\u001b[43mX\u001b[49m\u001b[43m,\u001b[49m\u001b[43m \u001b[49m\u001b[43my\u001b[49m\u001b[43m,\u001b[49m\u001b[43m \u001b[49m\u001b[43m*\u001b[49m\u001b[43m*\u001b[49m\u001b[43mparams\u001b[49m\u001b[43m.\u001b[49m\u001b[43mget\u001b[49m\u001b[43m(\u001b[49m\u001b[33;43m\"\u001b[39;49m\u001b[33;43mfit_transform\u001b[39;49m\u001b[33;43m\"\u001b[39;49m\u001b[43m,\u001b[49m\u001b[43m \u001b[49m\u001b[43m{\u001b[49m\u001b[43m}\u001b[49m\u001b[43m)\u001b[49m\u001b[43m)\u001b[49m\n\u001b[32m   1541\u001b[39m     \u001b[38;5;28;01melse\u001b[39;00m:\n\u001b[32m   1542\u001b[39m         res = transformer.fit(X, y, **params.get(\u001b[33m\"\u001b[39m\u001b[33mfit\u001b[39m\u001b[33m\"\u001b[39m, {})).transform(\n\u001b[32m   1543\u001b[39m             X, **params.get(\u001b[33m\"\u001b[39m\u001b[33mtransform\u001b[39m\u001b[33m\"\u001b[39m, {})\n\u001b[32m   1544\u001b[39m         )\n",
      "\u001b[36mFile \u001b[39m\u001b[32mc:\\Users\\ABC\\Desktop\\youtube\\.venv\\Lib\\site-packages\\sklearn\\utils\\_set_output.py:316\u001b[39m, in \u001b[36m_wrap_method_output.<locals>.wrapped\u001b[39m\u001b[34m(self, X, *args, **kwargs)\u001b[39m\n\u001b[32m    314\u001b[39m \u001b[38;5;129m@wraps\u001b[39m(f)\n\u001b[32m    315\u001b[39m \u001b[38;5;28;01mdef\u001b[39;00m\u001b[38;5;250m \u001b[39m\u001b[34mwrapped\u001b[39m(\u001b[38;5;28mself\u001b[39m, X, *args, **kwargs):\n\u001b[32m--> \u001b[39m\u001b[32m316\u001b[39m     data_to_wrap = \u001b[43mf\u001b[49m\u001b[43m(\u001b[49m\u001b[38;5;28;43mself\u001b[39;49m\u001b[43m,\u001b[49m\u001b[43m \u001b[49m\u001b[43mX\u001b[49m\u001b[43m,\u001b[49m\u001b[43m \u001b[49m\u001b[43m*\u001b[49m\u001b[43margs\u001b[49m\u001b[43m,\u001b[49m\u001b[43m \u001b[49m\u001b[43m*\u001b[49m\u001b[43m*\u001b[49m\u001b[43mkwargs\u001b[49m\u001b[43m)\u001b[49m\n\u001b[32m    317\u001b[39m     \u001b[38;5;28;01mif\u001b[39;00m \u001b[38;5;28misinstance\u001b[39m(data_to_wrap, \u001b[38;5;28mtuple\u001b[39m):\n\u001b[32m    318\u001b[39m         \u001b[38;5;66;03m# only wrap the first output for cross decomposition\u001b[39;00m\n\u001b[32m    319\u001b[39m         return_tuple = (\n\u001b[32m    320\u001b[39m             _wrap_data_with_container(method, data_to_wrap[\u001b[32m0\u001b[39m], X, \u001b[38;5;28mself\u001b[39m),\n\u001b[32m    321\u001b[39m             *data_to_wrap[\u001b[32m1\u001b[39m:],\n\u001b[32m    322\u001b[39m         )\n",
      "\u001b[36mFile \u001b[39m\u001b[32mc:\\Users\\ABC\\Desktop\\youtube\\.venv\\Lib\\site-packages\\sklearn\\base.py:1365\u001b[39m, in \u001b[36m_fit_context.<locals>.decorator.<locals>.wrapper\u001b[39m\u001b[34m(estimator, *args, **kwargs)\u001b[39m\n\u001b[32m   1358\u001b[39m     estimator._validate_params()\n\u001b[32m   1360\u001b[39m \u001b[38;5;28;01mwith\u001b[39;00m config_context(\n\u001b[32m   1361\u001b[39m     skip_parameter_validation=(\n\u001b[32m   1362\u001b[39m         prefer_skip_nested_validation \u001b[38;5;129;01mor\u001b[39;00m global_skip_validation\n\u001b[32m   1363\u001b[39m     )\n\u001b[32m   1364\u001b[39m ):\n\u001b[32m-> \u001b[39m\u001b[32m1365\u001b[39m     \u001b[38;5;28;01mreturn\u001b[39;00m \u001b[43mfit_method\u001b[49m\u001b[43m(\u001b[49m\u001b[43mestimator\u001b[49m\u001b[43m,\u001b[49m\u001b[43m \u001b[49m\u001b[43m*\u001b[49m\u001b[43margs\u001b[49m\u001b[43m,\u001b[49m\u001b[43m \u001b[49m\u001b[43m*\u001b[49m\u001b[43m*\u001b[49m\u001b[43mkwargs\u001b[49m\u001b[43m)\u001b[49m\n",
      "\u001b[36mFile \u001b[39m\u001b[32mc:\\Users\\ABC\\Desktop\\youtube\\.venv\\Lib\\site-packages\\sklearn\\compose\\_column_transformer.py:988\u001b[39m, in \u001b[36mColumnTransformer.fit_transform\u001b[39m\u001b[34m(self, X, y, **params)\u001b[39m\n\u001b[32m    985\u001b[39m \u001b[38;5;28mself\u001b[39m._validate_transformers()\n\u001b[32m    986\u001b[39m n_samples = _num_samples(X)\n\u001b[32m--> \u001b[39m\u001b[32m988\u001b[39m \u001b[38;5;28;43mself\u001b[39;49m\u001b[43m.\u001b[49m\u001b[43m_validate_column_callables\u001b[49m\u001b[43m(\u001b[49m\u001b[43mX\u001b[49m\u001b[43m)\u001b[49m\n\u001b[32m    989\u001b[39m \u001b[38;5;28mself\u001b[39m._validate_remainder(X)\n\u001b[32m    991\u001b[39m \u001b[38;5;28;01mif\u001b[39;00m _routing_enabled():\n",
      "\u001b[36mFile \u001b[39m\u001b[32mc:\\Users\\ABC\\Desktop\\youtube\\.venv\\Lib\\site-packages\\sklearn\\compose\\_column_transformer.py:541\u001b[39m, in \u001b[36mColumnTransformer._validate_column_callables\u001b[39m\u001b[34m(self, X)\u001b[39m\n\u001b[32m    539\u001b[39m         columns = columns(X)\n\u001b[32m    540\u001b[39m     all_columns.append(columns)\n\u001b[32m--> \u001b[39m\u001b[32m541\u001b[39m     transformer_to_input_indices[name] = \u001b[43m_get_column_indices\u001b[49m\u001b[43m(\u001b[49m\u001b[43mX\u001b[49m\u001b[43m,\u001b[49m\u001b[43m \u001b[49m\u001b[43mcolumns\u001b[49m\u001b[43m)\u001b[49m\n\u001b[32m    543\u001b[39m \u001b[38;5;28mself\u001b[39m._columns = all_columns\n\u001b[32m    544\u001b[39m \u001b[38;5;28mself\u001b[39m._transformer_to_input_indices = transformer_to_input_indices\n",
      "\u001b[36mFile \u001b[39m\u001b[32mc:\\Users\\ABC\\Desktop\\youtube\\.venv\\Lib\\site-packages\\sklearn\\utils\\_indexing.py:422\u001b[39m, in \u001b[36m_get_column_indices\u001b[39m\u001b[34m(X, key)\u001b[39m\n\u001b[32m    420\u001b[39m     all_columns = X.columns\n\u001b[32m    421\u001b[39m \u001b[38;5;28;01mexcept\u001b[39;00m \u001b[38;5;167;01mAttributeError\u001b[39;00m:\n\u001b[32m--> \u001b[39m\u001b[32m422\u001b[39m     \u001b[38;5;28;01mraise\u001b[39;00m \u001b[38;5;167;01mValueError\u001b[39;00m(\n\u001b[32m    423\u001b[39m         \u001b[33m\"\u001b[39m\u001b[33mSpecifying the columns using strings is only supported for dataframes.\u001b[39m\u001b[33m\"\u001b[39m\n\u001b[32m    424\u001b[39m     )\n\u001b[32m    425\u001b[39m \u001b[38;5;28;01mif\u001b[39;00m \u001b[38;5;28misinstance\u001b[39m(key, \u001b[38;5;28mstr\u001b[39m):\n\u001b[32m    426\u001b[39m     columns = [key]\n",
      "\u001b[31mValueError\u001b[39m: Specifying the columns using strings is only supported for dataframes."
     ]
    }
   ],
   "source": [
    "from sklearn.compose import ColumnTransformer\n",
    "from sklearn.preprocessing import OneHotEncoder, StandardScaler\n",
    "from sklearn.pipeline import Pipeline\n",
    "from sklearn.linear_model import LinearRegression\n",
    "import pickle\n",
    "\n",
    "# Features\n",
    "num_features = [\"views\", \"likes\", \"comments\", \"watch_time_minutes\", \"engagement_rate\"]\n",
    "cat_features = [\"category\", \"device\", \"country\"]\n",
    "\n",
    "# Preprocessing\n",
    "preprocessor = ColumnTransformer(\n",
    "    transformers=[\n",
    "        (\"num\", StandardScaler(), num_features),\n",
    "        (\"cat\", OneHotEncoder(handle_unknown=\"ignore\"), cat_features)\n",
    "    ]\n",
    ")\n",
    "\n",
    "# Final pipeline = Preprocessor + Linear Regression\n",
    "lr_pipeline = Pipeline(steps=[\n",
    "    (\"preprocessor\", preprocessor),\n",
    "    (\"model\", LinearRegression())\n",
    "])\n",
    "\n",
    "# Train pipeline\n",
    "lr_pipeline.fit(X_train, y_train)\n",
    "\n",
    "# ✅ Save (Pickle) the pipeline\n",
    "with open(\"linear_regression_pipeline.pkl\", \"wb\") as f:\n",
    "    pickle.dump(lr_pipeline, f)\n"
   ]
  },
  {
   "cell_type": "code",
   "execution_count": 46,
   "id": "4e00dab9",
   "metadata": {},
   "outputs": [],
   "source": [
    "\n",
    "\n",
    "X_train, X_test, y_train, y_test = train_test_split(X_processed, y, test_size=0.2, random_state=42)\n"
   ]
  },
  {
   "cell_type": "code",
   "execution_count": null,
   "id": "b87d2234",
   "metadata": {},
   "outputs": [],
   "source": [
    "from sklearn.linear_model import LinearRegression\n",
    "\n",
    "lr = LinearRegression() \n",
    "lr.fit(X_train, y_train)\n",
    "y_pred = lr.predict(X_test)\n"
   ]
  },
  {
   "cell_type": "code",
   "execution_count": 48,
   "id": "bbd5b41a",
   "metadata": {},
   "outputs": [
    {
     "name": "stdout",
     "output_type": "stream",
     "text": [
      "R²: 0.9525715958524404\n"
     ]
    }
   ],
   "source": [
    "from sklearn.metrics import mean_squared_error, r2_score\n",
    "\n",
    "y_pred = lr.predict(X_test)\n",
    "\n",
    "\n",
    "\n",
    "print(\"R²:\", r2_score(y_test, y_pred))\n"
   ]
  },
  {
   "cell_type": "code",
   "execution_count": 49,
   "id": "a997d9aa",
   "metadata": {},
   "outputs": [
    {
     "name": "stdout",
     "output_type": "stream",
     "text": [
      "R²: 0.9525715958524404\n",
      "RMSE: 13.480384120734533\n",
      "MAE: 3.109322363017399\n"
     ]
    }
   ],
   "source": [
    "from sklearn.metrics import r2_score, mean_squared_error, mean_absolute_error\n",
    "\n",
    "\n",
    "r2 = r2_score(y_test, y_pred)\n",
    "rmse = np.sqrt(mean_squared_error(y_test, y_pred))\n",
    "mae = mean_absolute_error(y_test, y_pred)\n",
    "\n",
    "print(\"R²:\", r2)\n",
    "print(\"RMSE:\", rmse)\n",
    "print(\"MAE:\", mae)\n"
   ]
  },
  {
   "cell_type": "code",
   "execution_count": 50,
   "id": "75de04aa",
   "metadata": {},
   "outputs": [],
   "source": [
    "Train_y_pred=lr.predict(X_train)\n",
    "Test_y_pred=lr.predict(X_test)"
   ]
  },
  {
   "cell_type": "code",
   "execution_count": 51,
   "id": "c3b8f40c",
   "metadata": {},
   "outputs": [
    {
     "name": "stdout",
     "output_type": "stream",
     "text": [
      "Train MAE: 3.261322124748466\n",
      "Test MAE: 3.109322363017399\n",
      "Train R2: 0.949708712825048\n",
      "Test R2: 0.9525715958524404\n"
     ]
    }
   ],
   "source": [
    "print('Train MAE:',mean_absolute_error(y_train,Train_y_pred))\n",
    "print('Test MAE:',mean_absolute_error(y_test,Test_y_pred))\n",
    "print('Train R2:',r2_score(y_train,Train_y_pred))\n",
    "print('Test R2:',r2_score(y_test,Test_y_pred))"
   ]
  },
  {
   "cell_type": "code",
   "execution_count": null,
   "id": "514ec3b4",
   "metadata": {},
   "outputs": [
    {
     "data": {
      "image/png": "[encoded data removed]",
      "text/plain": [
       "<Figure size 1800x500 with 3 Axes>"
      ]
     },
     "metadata": {},
     "output_type": "display_data"
    }
   ],
   "source": [
    "import matplotlib.pyplot as plt\n",
    "from sklearn.model_selection import learning_curve\n",
    "import numpy as np\n",
    "\n",
    "def plot_learning_curves(model, X, y):\n",
    "    # Define metrics\n",
    "    scoring_metrics = {\n",
    "        \"R²\": \"r2\",\n",
    "        \"RMSE\": \"neg_root_mean_squared_error\",\n",
    "        \"MAE\": \"neg_mean_absolute_error\"\n",
    "    }\n",
    "\n",
    "    fig, axes = plt.subplots(1, 3, figsize=(18, 5))\n",
    "\n",
    "    for ax, (metric_name, scoring) in zip(axes, scoring_metrics.items()):\n",
    "        train_sizes, train_scores, test_scores = learning_curve(\n",
    "            model, X, y, cv=5, scoring=scoring, n_jobs=-1,\n",
    "            train_sizes=np.linspace(0.1, 1.0, 10)\n",
    "        )\n",
    "\n",
    "        # Fix sklearn convention (negative errors for RMSE/MAE)\n",
    "        if \"neg\" in scoring:\n",
    "            train_scores = -train_scores\n",
    "            test_scores = -test_scores\n",
    "\n",
    "        train_mean = np.mean(train_scores, axis=1)\n",
    "        test_mean = np.mean(test_scores, axis=1)\n",
    "        train_std = np.std(train_scores, axis=1)\n",
    "        test_std = np.std(test_scores, axis=1)\n",
    "\n",
    "        # Plot curves\n",
    "        ax.plot(train_sizes, train_mean, 'o-', color=\"blue\", label=\"Training\")\n",
    "        ax.plot(train_sizes, test_mean, 'o-', color=\"green\", label=\"Validation\")\n",
    "\n",
    "        ax.fill_between(train_sizes, train_mean-train_std, train_mean+train_std, alpha=0.1, color=\"blue\")\n",
    "        ax.fill_between(train_sizes, test_mean-test_std, test_mean+test_std, alpha=0.1, color=\"green\")\n",
    "\n",
    "        ax.set_title(f\"Learning Curve ({metric_name})\")\n",
    "        ax.set_xlabel(\"Training examples\")\n",
    "        ax.set_ylabel(metric_name)\n",
    "        ax.legend(loc=\"best\")\n",
    "        ax.grid()\n",
    "\n",
    "    plt.tight_layout()\n",
    "    plt.show()\n",
    "\n",
    "# Call the function\n",
    "plot_learning_curves(lr, X_final, y)\n",
    "\n"
   ]
  },
  {
   "cell_type": "markdown",
   "id": "570b2e43",
   "metadata": {},
   "source": [
    "# ELASTIC NET MODEL"
   ]
  },
  {
   "cell_type": "code",
   "execution_count": null,
   "id": "4ebf3b1a",
   "metadata": {},
   "outputs": [
    {
     "name": "stdout",
     "output_type": "stream",
     "text": [
      "Train R²: 0.9475092195072337\n",
      "Test R²: 0.9503455404056577\n",
      "Test MAE: 5.2486413033971155\n",
      "Test RMSE: 13.793108147334404\n"
     ]
    }
   ],
   "source": [
    "from sklearn.linear_model import  Ridge, Lasso, ElasticNet\n",
    "elastic_net = ElasticNet(alpha=0.1, l1_ratio=0.5, random_state=42)\n",
    "elastic_net.fit(X_train, y_train)\n",
    "y_pred_train = elastic_net.predict(X_train)\n",
    "y_pred_test = elastic_net.predict(X_test)\n",
    "train_r2 = r2_score(y_train, y_pred_train)\n",
    "test_r2 = r2_score(y_test, y_pred_test)\n",
    "mae = mean_absolute_error(y_test, y_pred_test)\n",
    "rmse = np.sqrt(mean_squared_error(y_test, y_pred_test))\n",
    "\n",
    "print(\"Train R²:\", train_r2)\n",
    "print(\"Test R²:\", test_r2)\n",
    "print(\"Test MAE:\", mae)\n",
    "print(\"Test RMSE:\", rmse)\n",
    "\n",
    "\n"
   ]
  },
  {
   "cell_type": "code",
   "execution_count": null,
   "id": "f5e374b0",
   "metadata": {},
   "outputs": [
    {
     "name": "stdout",
     "output_type": "stream",
     "text": [
      "🔹 Decision Tree Results 🔹\n",
      "Train R²: 0.9512, Test R²: 0.9503\n",
      "Train MAE: 4.1440, Test MAE: 4.2384\n",
      "Train RMSE: 13.6862, Test RMSE: 13.8039\n"
     ]
    }
   ],
   "source": [
    "from sklearn.tree import DecisionTreeRegressor\n",
    "from sklearn.metrics import mean_absolute_error, mean_squared_error, r2_score\n",
    "import numpy as np\n",
    "\n",
    "# Initialize model (you can tune max_depth, min_samples_split etc.)\n",
    "dt = DecisionTreeRegressor(random_state=42, max_depth=10)\n",
    "\n",
    "# Fit the model\n",
    "dt.fit(X_train, y_train)\n",
    "\n",
    "# Predictions\n",
    "y_train_pred = dt.predict(X_train)\n",
    "y_test_pred = dt.predict(X_test)\n",
    "\n",
    "# Metrics\n",
    "train_r2 = r2_score(y_train, y_train_pred)\n",
    "test_r2 = r2_score(y_test, y_test_pred)\n",
    "\n",
    "train_mae = mean_absolute_error(y_train, y_train_pred)\n",
    "test_mae = mean_absolute_error(y_test, y_test_pred)\n",
    "\n",
    "train_rmse = np.sqrt(mean_squared_error(y_train, y_train_pred))\n",
    "test_rmse = np.sqrt(mean_squared_error(y_test, y_test_pred))\n",
    "\n",
    "print(\"🔹 Decision Tree Results 🔹\")\n",
    "print(f\"Train R²: {train_r2:.4f}, Test R²: {test_r2:.4f}\")\n",
    "print(f\"Train MAE: {train_mae:.4f}, Test MAE: {test_mae:.4f}\")\n",
    "print(f\"Train RMSE: {train_rmse:.4f}, Test RMSE: {test_rmse:.4f}\")\n"
   ]
  },
  {
   "cell_type": "code",
   "execution_count": null,
   "id": "3d3374b5",
   "metadata": {},
   "outputs": [
    {
     "name": "stdout",
     "output_type": "stream",
     "text": [
      "🔹 Random Forest Results 🔹\n",
      "Train R²: 0.9633, Test R²: 0.9512\n",
      "Train MAE: 2.7956, Test MAE: 3.4722\n",
      "Train RMSE: 11.8755, Test RMSE: 13.6799\n"
     ]
    }
   ],
   "source": [
    "from sklearn.ensemble import RandomForestRegressor\n",
    "from sklearn.metrics import r2_score, mean_absolute_error, mean_squared_error\n",
    "import numpy as np\n",
    "\n",
    "# Initialize model\n",
    "rf = RandomForestRegressor(\n",
    "    n_estimators=300,   # number of trees\n",
    "    random_state=42,\n",
    "    max_depth=15,    \n",
    "    n_jobs=-1\n",
    ")\n",
    "\n",
    "# Fit model\n",
    "rf.fit(X_train, y_train)\n",
    "\n",
    "# Predictions\n",
    "y_train_pred = rf.predict(X_train)\n",
    "y_test_pred = rf.predict(X_test)\n",
    "\n",
    "# Metrics\n",
    "train_r2 = r2_score(y_train, y_train_pred)\n",
    "test_r2 = r2_score(y_test, y_test_pred)\n",
    "\n",
    "train_mae = mean_absolute_error(y_train, y_train_pred)\n",
    "test_mae = mean_absolute_error(y_test, y_test_pred)\n",
    "\n",
    "train_rmse = np.sqrt(mean_squared_error(y_train, y_train_pred))\n",
    "test_rmse = np.sqrt(mean_squared_error(y_test, y_test_pred))\n",
    "\n",
    "print(\"🔹 Random Forest Results 🔹\")\n",
    "print(f\"Train R²: {train_r2:.4f}, Test R²: {test_r2:.4f}\")\n",
    "print(f\"Train MAE: {train_mae:.4f}, Test MAE: {test_mae:.4f}\")\n",
    "print(f\"Train RMSE: {train_rmse:.4f}, Test RMSE: {test_rmse:.4f}\")\n"
   ]
  },
  {
   "cell_type": "code",
   "execution_count": null,
   "id": "fe95f0c3",
   "metadata": {},
   "outputs": [],
   "source": [
    "#SVR MODEL"
   ]
  },
  {
   "cell_type": "code",
   "execution_count": null,
   "id": "ee066241",
   "metadata": {},
   "outputs": [],
   "source": [
    "from sklearn.svm import SVR\n",
    "\n",
    "\n",
    "# 1. Train-Test Split\n",
    "X_train, X_test, y_train, y_test = train_test_split(X_final, y, test_size=0.2, random_state=42)\n",
    "\n",
    "# 3. Build & Train SVR Model\n",
    "svr = SVR(kernel=\"rbf\", C=100, gamma=0.1, epsilon=0.1)\n",
    "svr.fit(X_train, y_train)\n",
    "\n",
    "# 4. Predict\n",
    "y_train_pred = svr.predict(X_train)\n",
    "y_test_pred = svr.predict(X_test)\n",
    "\n",
    "# 5. Evaluate\n",
    "\n",
    "\n",
    "train_r2 = r2_score(y_train, y_train_pred)\n",
    "test_r2 = r2_score(y_test, y_test_pred)\n",
    "train_mae = mean_absolute_error(y_train, y_train_pred)\n",
    "test_mae = mean_absolute_error(y_test, y_test_pred)\n",
    "train_rmse = np.sqrt(mean_squared_error(y_train, y_train_pred))\n",
    "test_rmse = np.sqrt(mean_squared_error(y_test, y_test_pred))\n",
    "\n",
    "print(\"🔹 SVR Results 🔹\")\n",
    "print(f\"Train R²: {train_r2:.4f}, Test R²: {test_r2:.4f}\")\n",
    "print(f\"Train MAE: {train_mae:.4f}, Test MAE: {test_mae:.4f}\")\n",
    "print(f\"Train RMSE: {train_rmse:.4f}, Test RMSE: {test_rmse:.4f}\")\n"
   ]
  },
  {
   "cell_type": "code",
   "execution_count": null,
   "id": "a6383a98",
   "metadata": {},
   "outputs": [],
   "source": [
    "#FINAL MODEL WITH STREAMLIT LINEAR REGRESSION"
   ]
  },
  {
   "cell_type": "code",
   "execution_count": 40,
   "id": "5717dcba",
   "metadata": {},
   "outputs": [],
   "source": [
    "\n",
    "import pickle\n",
    "\n",
    "# Features\n",
    "num_features = [\"views\", \"likes\", \"comments\", \"watch_time_minutes\", \"engagement_rate\"]\n",
    "cat_features = [\"category\", \"device\", \"country\"]\n",
    "X_train, X_test, y_train, y_test = train_test_split(\n",
    "    X, y, test_size=0.2, random_state=42\n",
    ")\n",
    "# Preprocessing\n",
    "preprocessor = ColumnTransformer(\n",
    "    transformers=[\n",
    "        (\"num\", StandardScaler(), num_features),\n",
    "        (\"cat\", OneHotEncoder(handle_unknown=\"ignore\"), cat_features)\n",
    "    ]\n",
    ")\n",
    "\n",
    "# Final pipeline = Preprocessor + Linear Regression\n",
    "lr_pipeline = Pipeline(steps=[\n",
    "    (\"preprocessor\", preprocessor),\n",
    "    (\"model\", LinearRegression())\n",
    "])\n",
    "\n",
    "# Train pipeline\n",
    "lr_pipeline.fit(X_train, y_train)\n",
    "#prediction\n",
    "y_pred = lr_pipeline.predict(X_test)\n",
    "\n",
    "\n",
    "# ✅ Save (Pickle) the pipeline\n",
    "with open(\"linear_regression_pipeline.pkl\", \"wb\") as f:\n",
    "    pickle.dump(lr_pipeline, f)\n"
   ]
  },
  {
   "cell_type": "code",
   "execution_count": 39,
   "id": "cde21419",
   "metadata": {},
   "outputs": [
    {
     "name": "stdout",
     "output_type": "stream",
     "text": [
      "Collecting streamlit\n",
      "  Downloading streamlit-1.49.1-py3-none-any.whl.metadata (9.5 kB)\n",
      "Collecting altair!=5.4.0,!=5.4.1,<6,>=4.0 (from streamlit)\n",
      "  Using cached altair-5.5.0-py3-none-any.whl.metadata (11 kB)\n",
      "Collecting blinker<2,>=1.5.0 (from streamlit)\n",
      "  Using cached blinker-1.9.0-py3-none-any.whl.metadata (1.6 kB)\n",
      "Collecting cachetools<7,>=4.0 (from streamlit)\n",
      "  Downloading cachetools-6.2.0-py3-none-any.whl.metadata (5.4 kB)\n",
      "Collecting click<9,>=7.0 (from streamlit)\n",
      "  Using cached click-8.2.1-py3-none-any.whl.metadata (2.5 kB)\n",
      "Requirement already satisfied: numpy<3,>=1.23 in c:\\users\\abc\\desktop\\youtube\\.venv\\lib\\site-packages (from streamlit) (2.3.2)\n",
      "Requirement already satisfied: packaging<26,>=20 in c:\\users\\abc\\desktop\\youtube\\.venv\\lib\\site-packages (from streamlit) (25.0)\n",
      "Requirement already satisfied: pandas<3,>=1.4.0 in c:\\users\\abc\\desktop\\youtube\\.venv\\lib\\site-packages (from streamlit) (2.3.2)\n",
      "Requirement already satisfied: pillow<12,>=7.1.0 in c:\\users\\abc\\desktop\\youtube\\.venv\\lib\\site-packages (from streamlit) (11.3.0)\n",
      "Collecting protobuf<7,>=3.20 (from streamlit)\n",
      "  Downloading protobuf-6.32.0-cp310-abi3-win_amd64.whl.metadata (593 bytes)\n",
      "Collecting pyarrow>=7.0 (from streamlit)\n",
      "  Using cached pyarrow-21.0.0-cp313-cp313-win_amd64.whl.metadata (3.4 kB)\n",
      "Collecting requests<3,>=2.27 (from streamlit)\n",
      "  Downloading requests-2.32.5-py3-none-any.whl.metadata (4.9 kB)\n",
      "Collecting tenacity<10,>=8.1.0 (from streamlit)\n",
      "  Using cached tenacity-9.1.2-py3-none-any.whl.metadata (1.2 kB)\n",
      "Collecting toml<2,>=0.10.1 (from streamlit)\n",
      "  Using cached toml-0.10.2-py2.py3-none-any.whl.metadata (7.1 kB)\n",
      "Collecting typing-extensions<5,>=4.4.0 (from streamlit)\n",
      "  Downloading typing_extensions-4.15.0-py3-none-any.whl.metadata (3.3 kB)\n",
      "Collecting watchdog<7,>=2.1.5 (from streamlit)\n",
      "  Using cached watchdog-6.0.0-py3-none-win_amd64.whl.metadata (44 kB)\n",
      "Collecting gitpython!=3.1.19,<4,>=3.0.7 (from streamlit)\n",
      "  Using cached gitpython-3.1.45-py3-none-any.whl.metadata (13 kB)\n",
      "Collecting pydeck<1,>=0.8.0b4 (from streamlit)\n",
      "  Using cached pydeck-0.9.1-py2.py3-none-any.whl.metadata (4.1 kB)\n",
      "Requirement already satisfied: tornado!=6.5.0,<7,>=6.0.3 in c:\\users\\abc\\desktop\\youtube\\.venv\\lib\\site-packages (from streamlit) (6.5.2)\n",
      "Collecting jinja2 (from altair!=5.4.0,!=5.4.1,<6,>=4.0->streamlit)\n",
      "  Using cached jinja2-3.1.6-py3-none-any.whl.metadata (2.9 kB)\n",
      "Collecting jsonschema>=3.0 (from altair!=5.4.0,!=5.4.1,<6,>=4.0->streamlit)\n",
      "  Downloading jsonschema-4.25.1-py3-none-any.whl.metadata (7.6 kB)\n",
      "Collecting narwhals>=1.14.2 (from altair!=5.4.0,!=5.4.1,<6,>=4.0->streamlit)\n",
      "  Downloading narwhals-2.2.0-py3-none-any.whl.metadata (11 kB)\n",
      "Requirement already satisfied: colorama in c:\\users\\abc\\desktop\\youtube\\.venv\\lib\\site-packages (from click<9,>=7.0->streamlit) (0.4.6)\n",
      "Collecting gitdb<5,>=4.0.1 (from gitpython!=3.1.19,<4,>=3.0.7->streamlit)\n",
      "  Using cached gitdb-4.0.12-py3-none-any.whl.metadata (1.2 kB)\n",
      "Collecting smmap<6,>=3.0.1 (from gitdb<5,>=4.0.1->gitpython!=3.1.19,<4,>=3.0.7->streamlit)\n",
      "  Using cached smmap-5.0.2-py3-none-any.whl.metadata (4.3 kB)\n",
      "Requirement already satisfied: python-dateutil>=2.8.2 in c:\\users\\abc\\desktop\\youtube\\.venv\\lib\\site-packages (from pandas<3,>=1.4.0->streamlit) (2.9.0.post0)\n",
      "Requirement already satisfied: pytz>=2020.1 in c:\\users\\abc\\desktop\\youtube\\.venv\\lib\\site-packages (from pandas<3,>=1.4.0->streamlit) (2025.2)\n",
      "Requirement already satisfied: tzdata>=2022.7 in c:\\users\\abc\\desktop\\youtube\\.venv\\lib\\site-packages (from pandas<3,>=1.4.0->streamlit) (2025.2)\n",
      "Collecting charset_normalizer<4,>=2 (from requests<3,>=2.27->streamlit)\n",
      "  Downloading charset_normalizer-3.4.3-cp313-cp313-win_amd64.whl.metadata (37 kB)\n",
      "Collecting idna<4,>=2.5 (from requests<3,>=2.27->streamlit)\n",
      "  Using cached idna-3.10-py3-none-any.whl.metadata (10 kB)\n",
      "Collecting urllib3<3,>=1.21.1 (from requests<3,>=2.27->streamlit)\n",
      "  Using cached urllib3-2.5.0-py3-none-any.whl.metadata (6.5 kB)\n",
      "Collecting certifi>=2017.4.17 (from requests<3,>=2.27->streamlit)\n",
      "  Downloading certifi-2025.8.3-py3-none-any.whl.metadata (2.4 kB)\n",
      "Collecting MarkupSafe>=2.0 (from jinja2->altair!=5.4.0,!=5.4.1,<6,>=4.0->streamlit)\n",
      "  Using cached MarkupSafe-3.0.2-cp313-cp313-win_amd64.whl.metadata (4.1 kB)\n",
      "Collecting attrs>=22.2.0 (from jsonschema>=3.0->altair!=5.4.0,!=5.4.1,<6,>=4.0->streamlit)\n",
      "  Using cached attrs-25.3.0-py3-none-any.whl.metadata (10 kB)\n",
      "Collecting jsonschema-specifications>=2023.03.6 (from jsonschema>=3.0->altair!=5.4.0,!=5.4.1,<6,>=4.0->streamlit)\n",
      "  Using cached jsonschema_specifications-2025.4.1-py3-none-any.whl.metadata (2.9 kB)\n",
      "Collecting referencing>=0.28.4 (from jsonschema>=3.0->altair!=5.4.0,!=5.4.1,<6,>=4.0->streamlit)\n",
      "  Using cached referencing-0.36.2-py3-none-any.whl.metadata (2.8 kB)\n",
      "Collecting rpds-py>=0.7.1 (from jsonschema>=3.0->altair!=5.4.0,!=5.4.1,<6,>=4.0->streamlit)\n",
      "  Downloading rpds_py-0.27.1-cp313-cp313-win_amd64.whl.metadata (4.3 kB)\n",
      "Requirement already satisfied: six>=1.5 in c:\\users\\abc\\desktop\\youtube\\.venv\\lib\\site-packages (from python-dateutil>=2.8.2->pandas<3,>=1.4.0->streamlit) (1.17.0)\n",
      "Downloading streamlit-1.49.1-py3-none-any.whl (10.0 MB)\n",
      "   ---------------------------------------- 0.0/10.0 MB ? eta -:--:--\n",
      "   -- ------------------------------------- 0.5/10.0 MB 4.0 MB/s eta 0:00:03\n",
      "   ---- ----------------------------------- 1.0/10.0 MB 2.8 MB/s eta 0:00:04\n",
      "   ------- -------------------------------- 1.8/10.0 MB 3.3 MB/s eta 0:00:03\n",
      "   --------- ------------------------------ 2.4/10.0 MB 3.0 MB/s eta 0:00:03\n",
      "   ----------- ---------------------------- 2.9/10.0 MB 2.8 MB/s eta 0:00:03\n",
      "   ------------ --------------------------- 3.1/10.0 MB 2.7 MB/s eta 0:00:03\n",
      "   --------------- ------------------------ 3.9/10.0 MB 2.7 MB/s eta 0:00:03\n",
      "   ---------------- ----------------------- 4.2/10.0 MB 2.6 MB/s eta 0:00:03\n",
      "   ------------------- -------------------- 5.0/10.0 MB 2.7 MB/s eta 0:00:02\n",
      "   --------------------- ------------------ 5.5/10.0 MB 2.7 MB/s eta 0:00:02\n",
      "   ------------------------- -------------- 6.3/10.0 MB 2.7 MB/s eta 0:00:02\n",
      "   -------------------------- ------------- 6.6/10.0 MB 2.8 MB/s eta 0:00:02\n",
      "   -------------------------- ------------- 6.6/10.0 MB 2.8 MB/s eta 0:00:02\n",
      "   --------------------------- ------------ 6.8/10.0 MB 2.5 MB/s eta 0:00:02\n",
      "   ----------------------------- ---------- 7.3/10.0 MB 2.3 MB/s eta 0:00:02\n",
      "   ------------------------------ --------- 7.6/10.0 MB 2.3 MB/s eta 0:00:02\n",
      "   ------------------------------- -------- 7.9/10.0 MB 2.3 MB/s eta 0:00:01\n",
      "   -------------------------------- ------- 8.1/10.0 MB 2.2 MB/s eta 0:00:01\n",
      "   --------------------------------- ------ 8.4/10.0 MB 2.1 MB/s eta 0:00:01\n",
      "   ---------------------------------- ----- 8.7/10.0 MB 2.1 MB/s eta 0:00:01\n",
      "   ----------------------------------- ---- 8.9/10.0 MB 2.0 MB/s eta 0:00:01\n",
      "   ------------------------------------- -- 9.4/10.0 MB 2.0 MB/s eta 0:00:01\n",
      "   -------------------------------------- - 9.7/10.0 MB 2.0 MB/s eta 0:00:01\n",
      "   ---------------------------------------  10.0/10.0 MB 2.0 MB/s eta 0:00:01\n",
      "   ---------------------------------------- 10.0/10.0 MB 2.0 MB/s  0:00:05\n",
      "Using cached altair-5.5.0-py3-none-any.whl (731 kB)\n",
      "Using cached blinker-1.9.0-py3-none-any.whl (8.5 kB)\n",
      "Downloading cachetools-6.2.0-py3-none-any.whl (11 kB)\n",
      "Using cached click-8.2.1-py3-none-any.whl (102 kB)\n",
      "Using cached gitpython-3.1.45-py3-none-any.whl (208 kB)\n",
      "Using cached gitdb-4.0.12-py3-none-any.whl (62 kB)\n",
      "Downloading protobuf-6.32.0-cp310-abi3-win_amd64.whl (435 kB)\n",
      "Using cached pydeck-0.9.1-py2.py3-none-any.whl (6.9 MB)\n",
      "Downloading requests-2.32.5-py3-none-any.whl (64 kB)\n",
      "Downloading charset_normalizer-3.4.3-cp313-cp313-win_amd64.whl (107 kB)\n",
      "Using cached idna-3.10-py3-none-any.whl (70 kB)\n",
      "Using cached smmap-5.0.2-py3-none-any.whl (24 kB)\n",
      "Using cached tenacity-9.1.2-py3-none-any.whl (28 kB)\n",
      "Using cached toml-0.10.2-py2.py3-none-any.whl (16 kB)\n",
      "Downloading typing_extensions-4.15.0-py3-none-any.whl (44 kB)\n",
      "Using cached urllib3-2.5.0-py3-none-any.whl (129 kB)\n",
      "Using cached watchdog-6.0.0-py3-none-win_amd64.whl (79 kB)\n",
      "Downloading certifi-2025.8.3-py3-none-any.whl (161 kB)\n",
      "Using cached jinja2-3.1.6-py3-none-any.whl (134 kB)\n",
      "Downloading jsonschema-4.25.1-py3-none-any.whl (90 kB)\n",
      "Using cached attrs-25.3.0-py3-none-any.whl (63 kB)\n",
      "Using cached jsonschema_specifications-2025.4.1-py3-none-any.whl (18 kB)\n",
      "Using cached MarkupSafe-3.0.2-cp313-cp313-win_amd64.whl (15 kB)\n",
      "Downloading narwhals-2.2.0-py3-none-any.whl (401 kB)\n",
      "Using cached pyarrow-21.0.0-cp313-cp313-win_amd64.whl (26.1 MB)\n",
      "Using cached referencing-0.36.2-py3-none-any.whl (26 kB)\n",
      "Downloading rpds_py-0.27.1-cp313-cp313-win_amd64.whl (232 kB)\n",
      "Installing collected packages: watchdog, urllib3, typing-extensions, toml, tenacity, smmap, rpds-py, pyarrow, protobuf, narwhals, MarkupSafe, idna, click, charset_normalizer, certifi, cachetools, blinker, attrs, requests, referencing, jinja2, gitdb, pydeck, jsonschema-specifications, gitpython, jsonschema, altair, streamlit\n",
      "\n",
      "   ----------------------------------------  0/28 [watchdog]\n",
      "   ----------------------------------------  0/28 [watchdog]\n",
      "   ----------------------------------------  0/28 [watchdog]\n",
      "   ----------------------------------------  0/28 [watchdog]\n",
      "   - --------------------------------------  1/28 [urllib3]\n",
      "   - --------------------------------------  1/28 [urllib3]\n",
      "   - --------------------------------------  1/28 [urllib3]\n",
      "   - --------------------------------------  1/28 [urllib3]\n",
      "   - --------------------------------------  1/28 [urllib3]\n",
      "   - --------------------------------------  1/28 [urllib3]\n",
      "   - --------------------------------------  1/28 [urllib3]\n",
      "   -- -------------------------------------  2/28 [typing-extensions]\n",
      "   ----- ----------------------------------  4/28 [tenacity]\n",
      "   ----- ----------------------------------  4/28 [tenacity]\n",
      "   ------- --------------------------------  5/28 [smmap]\n",
      "   ------- --------------------------------  5/28 [smmap]\n",
      "   ---------- -----------------------------  7/28 [pyarrow]\n",
      "   ---------- -----------------------------  7/28 [pyarrow]\n",
      "   ---------- -----------------------------  7/28 [pyarrow]\n",
      "   ---------- -----------------------------  7/28 [pyarrow]\n",
      "   ---------- -----------------------------  7/28 [pyarrow]\n",
      "   ---------- -----------------------------  7/28 [pyarrow]\n",
      "   ---------- -----------------------------  7/28 [pyarrow]\n",
      "   ---------- -----------------------------  7/28 [pyarrow]\n",
      "   ---------- -----------------------------  7/28 [pyarrow]\n",
      "   ---------- -----------------------------  7/28 [pyarrow]\n",
      "   ---------- -----------------------------  7/28 [pyarrow]\n",
      "   ---------- -----------------------------  7/28 [pyarrow]\n",
      "   ---------- -----------------------------  7/28 [pyarrow]\n",
      "   ---------- -----------------------------  7/28 [pyarrow]\n",
      "   ---------- -----------------------------  7/28 [pyarrow]\n",
      "   ---------- -----------------------------  7/28 [pyarrow]\n",
      "   ---------- -----------------------------  7/28 [pyarrow]\n",
      "   ---------- -----------------------------  7/28 [pyarrow]\n",
      "   ---------- -----------------------------  7/28 [pyarrow]\n",
      "   ---------- -----------------------------  7/28 [pyarrow]\n",
      "   ---------- -----------------------------  7/28 [pyarrow]\n",
      "   ---------- -----------------------------  7/28 [pyarrow]\n",
      "   ---------- -----------------------------  7/28 [pyarrow]\n",
      "   ---------- -----------------------------  7/28 [pyarrow]\n",
      "   ---------- -----------------------------  7/28 [pyarrow]\n",
      "   ---------- -----------------------------  7/28 [pyarrow]\n",
      "   ---------- -----------------------------  7/28 [pyarrow]\n",
      "   ---------- -----------------------------  7/28 [pyarrow]\n",
      "   ---------- -----------------------------  7/28 [pyarrow]\n",
      "   ---------- -----------------------------  7/28 [pyarrow]\n",
      "   ----------- ----------------------------  8/28 [protobuf]\n",
      "   ----------- ----------------------------  8/28 [protobuf]\n",
      "   ----------- ----------------------------  8/28 [protobuf]\n",
      "   ----------- ----------------------------  8/28 [protobuf]\n",
      "   ----------- ----------------------------  8/28 [protobuf]\n",
      "   ----------- ----------------------------  8/28 [protobuf]\n",
      "   ----------- ----------------------------  8/28 [protobuf]\n",
      "   ----------- ----------------------------  8/28 [protobuf]\n",
      "   ----------- ----------------------------  8/28 [protobuf]\n",
      "   ----------- ----------------------------  8/28 [protobuf]\n",
      "   ------------ ---------------------------  9/28 [narwhals]\n",
      "   ------------ ---------------------------  9/28 [narwhals]\n",
      "   ------------ ---------------------------  9/28 [narwhals]\n",
      "   ------------ ---------------------------  9/28 [narwhals]\n",
      "   ------------ ---------------------------  9/28 [narwhals]\n",
      "   ------------ ---------------------------  9/28 [narwhals]\n",
      "   ------------ ---------------------------  9/28 [narwhals]\n",
      "   ------------ ---------------------------  9/28 [narwhals]\n",
      "   ------------ ---------------------------  9/28 [narwhals]\n",
      "   ------------ ---------------------------  9/28 [narwhals]\n",
      "   ------------ ---------------------------  9/28 [narwhals]\n",
      "   ------------ ---------------------------  9/28 [narwhals]\n",
      "   ------------ ---------------------------  9/28 [narwhals]\n",
      "   ------------ ---------------------------  9/28 [narwhals]\n",
      "   ------------ ---------------------------  9/28 [narwhals]\n",
      "   ------------ ---------------------------  9/28 [narwhals]\n",
      "   ------------ ---------------------------  9/28 [narwhals]\n",
      "   ------------ ---------------------------  9/28 [narwhals]\n",
      "   ------------ ---------------------------  9/28 [narwhals]\n",
      "   ------------ ---------------------------  9/28 [narwhals]\n",
      "   ------------ ---------------------------  9/28 [narwhals]\n",
      "   ------------ ---------------------------  9/28 [narwhals]\n",
      "   ------------ ---------------------------  9/28 [narwhals]\n",
      "   ------------ ---------------------------  9/28 [narwhals]\n",
      "   ------------ ---------------------------  9/28 [narwhals]\n",
      "   --------------- ------------------------ 11/28 [idna]\n",
      "   --------------- ------------------------ 11/28 [idna]\n",
      "   --------------- ------------------------ 11/28 [idna]\n",
      "   ----------------- ---------------------- 12/28 [click]\n",
      "   ----------------- ---------------------- 12/28 [click]\n",
      "   ----------------- ---------------------- 12/28 [click]\n",
      "   ------------------ --------------------- 13/28 [charset_normalizer]\n",
      "   ------------------ --------------------- 13/28 [charset_normalizer]\n",
      "   -------------------- ------------------- 14/28 [certifi]\n",
      "   --------------------- ------------------ 15/28 [cachetools]\n",
      "   ------------------------ --------------- 17/28 [attrs]\n",
      "   ------------------------ --------------- 17/28 [attrs]\n",
      "   ------------------------ --------------- 17/28 [attrs]\n",
      "   ------------------------- -------------- 18/28 [requests]\n",
      "   ------------------------- -------------- 18/28 [requests]\n",
      "   --------------------------- ------------ 19/28 [referencing]\n",
      "   --------------------------- ------------ 19/28 [referencing]\n",
      "   ---------------------------- ----------- 20/28 [jinja2]\n",
      "   ---------------------------- ----------- 20/28 [jinja2]\n",
      "   ---------------------------- ----------- 20/28 [jinja2]\n",
      "   ---------------------------- ----------- 20/28 [jinja2]\n",
      "   ---------------------------- ----------- 20/28 [jinja2]\n",
      "   ------------------------------ --------- 21/28 [gitdb]\n",
      "   ------------------------------ --------- 21/28 [gitdb]\n",
      "   ------------------------------ --------- 21/28 [gitdb]\n",
      "   ------------------------------ --------- 21/28 [gitdb]\n",
      "   ------------------------------- -------- 22/28 [pydeck]\n",
      "   ------------------------------- -------- 22/28 [pydeck]\n",
      "   ------------------------------- -------- 22/28 [pydeck]\n",
      "   ------------------------------- -------- 22/28 [pydeck]\n",
      "   ------------------------------- -------- 22/28 [pydeck]\n",
      "   -------------------------------- ------- 23/28 [jsonschema-specifications]\n",
      "   ---------------------------------- ----- 24/28 [gitpython]\n",
      "   ---------------------------------- ----- 24/28 [gitpython]\n",
      "   ---------------------------------- ----- 24/28 [gitpython]\n",
      "   ---------------------------------- ----- 24/28 [gitpython]\n",
      "   ---------------------------------- ----- 24/28 [gitpython]\n",
      "   ---------------------------------- ----- 24/28 [gitpython]\n",
      "   ---------------------------------- ----- 24/28 [gitpython]\n",
      "   ----------------------------------- ---- 25/28 [jsonschema]\n",
      "   ----------------------------------- ---- 25/28 [jsonschema]\n",
      "   ----------------------------------- ---- 25/28 [jsonschema]\n",
      "   ----------------------------------- ---- 25/28 [jsonschema]\n",
      "   ----------------------------------- ---- 25/28 [jsonschema]\n",
      "   ----------------------------------- ---- 25/28 [jsonschema]\n",
      "   ------------------------------------- -- 26/28 [altair]\n",
      "   ------------------------------------- -- 26/28 [altair]\n",
      "   ------------------------------------- -- 26/28 [altair]\n",
      "   ------------------------------------- -- 26/28 [altair]\n",
      "   ------------------------------------- -- 26/28 [altair]\n",
      "   ------------------------------------- -- 26/28 [altair]\n",
      "   ------------------------------------- -- 26/28 [altair]\n",
      "   ------------------------------------- -- 26/28 [altair]\n",
      "   ------------------------------------- -- 26/28 [altair]\n",
      "   ------------------------------------- -- 26/28 [altair]\n",
      "   ------------------------------------- -- 26/28 [altair]\n",
      "   -------------------------------------- - 27/28 [streamlit]\n",
      "   -------------------------------------- - 27/28 [streamlit]\n",
      "   -------------------------------------- - 27/28 [streamlit]\n",
      "   -------------------------------------- - 27/28 [streamlit]\n",
      "   -------------------------------------- - 27/28 [streamlit]\n",
      "   -------------------------------------- - 27/28 [streamlit]\n",
      "   -------------------------------------- - 27/28 [streamlit]\n",
      "   -------------------------------------- - 27/28 [streamlit]\n",
      "   -------------------------------------- - 27/28 [streamlit]\n",
      "   -------------------------------------- - 27/28 [streamlit]\n",
      "   -------------------------------------- - 27/28 [streamlit]\n",
      "   -------------------------------------- - 27/28 [streamlit]\n",
      "   -------------------------------------- - 27/28 [streamlit]\n",
      "   -------------------------------------- - 27/28 [streamlit]\n",
      "   -------------------------------------- - 27/28 [streamlit]\n",
      "   -------------------------------------- - 27/28 [streamlit]\n",
      "   -------------------------------------- - 27/28 [streamlit]\n",
      "   -------------------------------------- - 27/28 [streamlit]\n",
      "   -------------------------------------- - 27/28 [streamlit]\n",
      "   -------------------------------------- - 27/28 [streamlit]\n",
      "   -------------------------------------- - 27/28 [streamlit]\n",
      "   -------------------------------------- - 27/28 [streamlit]\n",
      "   -------------------------------------- - 27/28 [streamlit]\n",
      "   -------------------------------------- - 27/28 [streamlit]\n",
      "   -------------------------------------- - 27/28 [streamlit]\n",
      "   -------------------------------------- - 27/28 [streamlit]\n",
      "   -------------------------------------- - 27/28 [streamlit]\n",
      "   -------------------------------------- - 27/28 [streamlit]\n",
      "   -------------------------------------- - 27/28 [streamlit]\n",
      "   -------------------------------------- - 27/28 [streamlit]\n",
      "   -------------------------------------- - 27/28 [streamlit]\n",
      "   -------------------------------------- - 27/28 [streamlit]\n",
      "   -------------------------------------- - 27/28 [streamlit]\n",
      "   -------------------------------------- - 27/28 [streamlit]\n",
      "   -------------------------------------- - 27/28 [streamlit]\n",
      "   -------------------------------------- - 27/28 [streamlit]\n",
      "   -------------------------------------- - 27/28 [streamlit]\n",
      "   -------------------------------------- - 27/28 [streamlit]\n",
      "   -------------------------------------- - 27/28 [streamlit]\n",
      "   -------------------------------------- - 27/28 [streamlit]\n",
      "   -------------------------------------- - 27/28 [streamlit]\n",
      "   -------------------------------------- - 27/28 [streamlit]\n",
      "   -------------------------------------- - 27/28 [streamlit]\n",
      "   -------------------------------------- - 27/28 [streamlit]\n",
      "   -------------------------------------- - 27/28 [streamlit]\n",
      "   -------------------------------------- - 27/28 [streamlit]\n",
      "   -------------------------------------- - 27/28 [streamlit]\n",
      "   -------------------------------------- - 27/28 [streamlit]\n",
      "   -------------------------------------- - 27/28 [streamlit]\n",
      "   -------------------------------------- - 27/28 [streamlit]\n",
      "   -------------------------------------- - 27/28 [streamlit]\n",
      "   -------------------------------------- - 27/28 [streamlit]\n",
      "   -------------------------------------- - 27/28 [streamlit]\n",
      "   -------------------------------------- - 27/28 [streamlit]\n",
      "   -------------------------------------- - 27/28 [streamlit]\n",
      "   -------------------------------------- - 27/28 [streamlit]\n",
      "   -------------------------------------- - 27/28 [streamlit]\n",
      "   -------------------------------------- - 27/28 [streamlit]\n",
      "   -------------------------------------- - 27/28 [streamlit]\n",
      "   -------------------------------------- - 27/28 [streamlit]\n",
      "   -------------------------------------- - 27/28 [streamlit]\n",
      "   -------------------------------------- - 27/28 [streamlit]\n",
      "   -------------------------------------- - 27/28 [streamlit]\n",
      "   -------------------------------------- - 27/28 [streamlit]\n",
      "   -------------------------------------- - 27/28 [streamlit]\n",
      "   -------------------------------------- - 27/28 [streamlit]\n",
      "   -------------------------------------- - 27/28 [streamlit]\n",
      "   ---------------------------------------- 28/28 [streamlit]\n",
      "\n",
      "Successfully installed MarkupSafe-3.0.2 altair-5.5.0 attrs-25.3.0 blinker-1.9.0 cachetools-6.2.0 certifi-2025.8.3 charset_normalizer-3.4.3 click-8.2.1 gitdb-4.0.12 gitpython-3.1.45 idna-3.10 jinja2-3.1.6 jsonschema-4.25.1 jsonschema-specifications-2025.4.1 narwhals-2.2.0 protobuf-6.32.0 pyarrow-21.0.0 pydeck-0.9.1 referencing-0.36.2 requests-2.32.5 rpds-py-0.27.1 smmap-5.0.2 streamlit-1.49.1 tenacity-9.1.2 toml-0.10.2 typing-extensions-4.15.0 urllib3-2.5.0 watchdog-6.0.0\n",
      "Note: you may need to restart the kernel to use updated packages.\n"
     ]
    }
   ],
   "source": [
    "pip install streamlit"
   ]
  }
 ],
 "metadata": {
  "kernelspec": {
   "display_name": ".venv",
   "language": "python",
   "name": "python3"
  },
  "language_info": {
   "codemirror_mode": {
    "name": "ipython",
    "version": 3
   },
   "file_extension": ".py",
   "mimetype": "text/x-python",
   "name": "python",
   "nbconvert_exporter": "python",
   "pygments_lexer": "ipython3",
   "version": "3.13.5"
  }
 },
 "nbformat": 4,
 "nbformat_minor": 5
}
